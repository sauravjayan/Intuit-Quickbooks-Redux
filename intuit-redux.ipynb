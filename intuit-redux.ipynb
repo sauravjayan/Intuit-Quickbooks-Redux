{
 "cells": [
  {
   "cell_type": "markdown",
   "metadata": {},
   "source": [
    "# Intuit Quickbooks Upgrade\n",
    "\n",
    "* Team-lead GitLab userid:\n",
    "* Group name:\n",
    "* Team member names:"
   ]
  },
  {
   "cell_type": "markdown",
   "metadata": {},
   "source": [
    "## Setup\n",
    "\n",
    "Please complete this python notebook with your group by answering the questions in `intuit-redux.pdf`. Create a Notebook and HTML file with all your results and comments and push both the Notebook and HTML file to GitLab when your team is done. All results MUST be reproducible (i.e., the TA and I must be able to recreate the HTML file from the Jupyter Notebook without changes or errors). This means that you should NOT use any python-packages that are not part of the rsm-msba-spark docker container.\n",
    "\n",
    "This is the second group assignment for MGTA 455 and you will be using Git and GitLab. If two people edit the same file at the same time you could get what is called a \"merge conflict\". This is not something serious but you should realize that Git will not decide for you who's change to accept so the team-lead will have to determine the edits to use. To avoid merge conflicts, **always** \"pull\" changes to the repo before you start working on any files. Then, when you are done, save and commit your changes, and then push them to GitLab. Make \"pull first\" a habit!\n",
    "\n",
    "If multiple people are going to work on the assignment at the same time I recommend you work in different notebooks. You can then `%run ...`  these \"sub\" notebooks from the main assignment file. You can seen an example of this in action below for the `model1.ipynb` notebook\n",
    "\n",
    "Some group work-flow tips:\n",
    "\n",
    "* Pull, edit, save, stage, commit, and push\n",
    "* Schedule who does what and when\n",
    "* Try to avoid working simultaneously on the same file \n",
    "* If you are going to work simultaneously, do it in different notebooks, e.g., \n",
    "    - model1.ipynb, model2.ipynb, model3.ipynb\n",
    "* Use the `%run ... ` command to bring different pieces of code together into the main jupyter notebook\n",
    "* Put python functions in modules that you can import from your notebooks. See the example below for the `example` function defined in `utils/functions.py`\n",
    "\n",
    "A graphical depiction of the group work-flow is shown below:\n",
    "\n",
    "![](images/git-group-workflow-wbg.png)\n",
    "\n",
    "Tutorial videos about using Git, GitLab, and GitGadget for group assignments:\n",
    "\n",
    "* Setup the MSBA server to use Git and GitLab: https://youtu.be/zJHwodmjatY\n",
    "* Dealing with Merge Conflicts: https://youtu.be/qFnyb8_rgTI\n",
    "* Group assignment practice: https://youtu.be/4Ty_94gIWeA"
   ]
  },
  {
   "cell_type": "code",
   "execution_count": 131,
   "metadata": {},
   "outputs": [],
   "source": [
    "import matplotlib as mpl\n",
    "import matplotlib.pyplot as plt\n",
    "import numpy as np\n",
    "import pandas as pd\n",
    "import pyrsm as rsm\n",
    "import statsmodels.formula.api as smf\n",
    "import xgboost as xgb\n",
    "from keras.layers import Dense\n",
    "from keras.models import Sequential, load_model\n",
    "from keras.utils.np_utils import to_categorical\n",
    "from keras.wrappers.scikit_learn import KerasClassifier\n",
    "from pyrsm import ROME_plot, confusion, gains_plot, lift_plot, profit_max, profit_plot\n",
    "from sklearn import metrics, preprocessing\n",
    "from sklearn.ensemble import BaggingClassifier, GradientBoostingClassifier\n",
    "from sklearn.metrics import accuracy_score\n",
    "from sklearn.metrics import mean_squared_error as MSE\n",
    "from sklearn.metrics import roc_auc_score\n",
    "from sklearn.model_selection import (\n",
    "    GridSearchCV,\n",
    "    RandomizedSearchCV,\n",
    "    cross_val_score,\n",
    "    train_test_split,\n",
    ")\n",
    "from sklearn.tree import DecisionTreeClassifier\n",
    "from statsmodels.genmod.families import Binomial\n",
    "from statsmodels.genmod.families.links import logit"
   ]
  },
  {
   "cell_type": "code",
   "execution_count": 132,
   "metadata": {},
   "outputs": [],
   "source": [
    "mpl.rcParams[\"figure.dpi\"] = 150"
   ]
  },
  {
   "cell_type": "code",
   "execution_count": 133,
   "metadata": {},
   "outputs": [
    {
     "data": {
      "text/html": [
       "<div>\n",
       "<style scoped>\n",
       "    .dataframe tbody tr th:only-of-type {\n",
       "        vertical-align: middle;\n",
       "    }\n",
       "\n",
       "    .dataframe tbody tr th {\n",
       "        vertical-align: top;\n",
       "    }\n",
       "\n",
       "    .dataframe thead th {\n",
       "        text-align: right;\n",
       "    }\n",
       "</style>\n",
       "<table border=\"1\" class=\"dataframe\">\n",
       "  <thead>\n",
       "    <tr style=\"text-align: right;\">\n",
       "      <th></th>\n",
       "      <th>id</th>\n",
       "      <th>zip</th>\n",
       "      <th>zip_bins</th>\n",
       "      <th>sex</th>\n",
       "      <th>bizflag</th>\n",
       "      <th>numords</th>\n",
       "      <th>dollars</th>\n",
       "      <th>last</th>\n",
       "      <th>sincepurch</th>\n",
       "      <th>version1</th>\n",
       "      <th>owntaxprod</th>\n",
       "      <th>upgraded</th>\n",
       "      <th>res1</th>\n",
       "      <th>training</th>\n",
       "      <th>res1_yes</th>\n",
       "    </tr>\n",
       "  </thead>\n",
       "  <tbody>\n",
       "    <tr>\n",
       "      <th>0</th>\n",
       "      <td>1</td>\n",
       "      <td>94553</td>\n",
       "      <td>18</td>\n",
       "      <td>Male</td>\n",
       "      <td>0</td>\n",
       "      <td>2</td>\n",
       "      <td>109.5</td>\n",
       "      <td>5</td>\n",
       "      <td>12</td>\n",
       "      <td>0</td>\n",
       "      <td>0</td>\n",
       "      <td>0</td>\n",
       "      <td>No</td>\n",
       "      <td>1</td>\n",
       "      <td>0</td>\n",
       "    </tr>\n",
       "    <tr>\n",
       "      <th>1</th>\n",
       "      <td>2</td>\n",
       "      <td>53190</td>\n",
       "      <td>10</td>\n",
       "      <td>Unknown</td>\n",
       "      <td>0</td>\n",
       "      <td>1</td>\n",
       "      <td>69.5</td>\n",
       "      <td>4</td>\n",
       "      <td>3</td>\n",
       "      <td>0</td>\n",
       "      <td>0</td>\n",
       "      <td>0</td>\n",
       "      <td>No</td>\n",
       "      <td>0</td>\n",
       "      <td>0</td>\n",
       "    </tr>\n",
       "    <tr>\n",
       "      <th>2</th>\n",
       "      <td>3</td>\n",
       "      <td>37091</td>\n",
       "      <td>8</td>\n",
       "      <td>Male</td>\n",
       "      <td>0</td>\n",
       "      <td>4</td>\n",
       "      <td>93.0</td>\n",
       "      <td>14</td>\n",
       "      <td>29</td>\n",
       "      <td>0</td>\n",
       "      <td>0</td>\n",
       "      <td>1</td>\n",
       "      <td>No</td>\n",
       "      <td>0</td>\n",
       "      <td>0</td>\n",
       "    </tr>\n",
       "    <tr>\n",
       "      <th>3</th>\n",
       "      <td>4</td>\n",
       "      <td>02125</td>\n",
       "      <td>1</td>\n",
       "      <td>Male</td>\n",
       "      <td>0</td>\n",
       "      <td>1</td>\n",
       "      <td>22.0</td>\n",
       "      <td>17</td>\n",
       "      <td>1</td>\n",
       "      <td>0</td>\n",
       "      <td>0</td>\n",
       "      <td>0</td>\n",
       "      <td>No</td>\n",
       "      <td>1</td>\n",
       "      <td>0</td>\n",
       "    </tr>\n",
       "    <tr>\n",
       "      <th>4</th>\n",
       "      <td>5</td>\n",
       "      <td>60201</td>\n",
       "      <td>11</td>\n",
       "      <td>Male</td>\n",
       "      <td>0</td>\n",
       "      <td>1</td>\n",
       "      <td>24.5</td>\n",
       "      <td>2</td>\n",
       "      <td>3</td>\n",
       "      <td>0</td>\n",
       "      <td>0</td>\n",
       "      <td>0</td>\n",
       "      <td>No</td>\n",
       "      <td>0</td>\n",
       "      <td>0</td>\n",
       "    </tr>\n",
       "  </tbody>\n",
       "</table>\n",
       "</div>"
      ],
      "text/plain": [
       "   id    zip  zip_bins      sex  bizflag  numords  dollars  last  sincepurch  \\\n",
       "0   1  94553        18     Male        0        2    109.5     5          12   \n",
       "1   2  53190        10  Unknown        0        1     69.5     4           3   \n",
       "2   3  37091         8     Male        0        4     93.0    14          29   \n",
       "3   4  02125         1     Male        0        1     22.0    17           1   \n",
       "4   5  60201        11     Male        0        1     24.5     2           3   \n",
       "\n",
       "   version1  owntaxprod  upgraded res1  training  res1_yes  \n",
       "0         0           0         0   No         1         0  \n",
       "1         0           0         0   No         0         0  \n",
       "2         0           0         1   No         0         0  \n",
       "3         0           0         0   No         1         0  \n",
       "4         0           0         0   No         0         0  "
      ]
     },
     "execution_count": 133,
     "metadata": {},
     "output_type": "execute_result"
    }
   ],
   "source": [
    "## loading the data - this dataset must NOT be changed\n",
    "intuit75k = pd.read_pickle(\"data/intuit75k.pkl\")\n",
    "intuit75k[\"res1_yes\"] = (intuit75k[\"res1\"] == \"Yes\").astype(int)\n",
    "intuit75k.head()"
   ]
  },
  {
   "cell_type": "code",
   "execution_count": 134,
   "metadata": {},
   "outputs": [
    {
     "name": "stdout",
     "output_type": "stream",
     "text": [
      "## Intuit: Quickbooks upgrade\n",
      "\n",
      "The purpose of this exercise is to gain experience modeling the response to an upsell campaign. The `intuit75k.rds` file contains data on 75,000 (small) businesses that were selected randomly from the 801,821 that were sent the wave-1 mailing. The mailing contained an offer to upgrade to the latest version of the Quickbooks software. \n",
      "\n",
      "Variable `res1` denotes which of these businesses responded to the mailing by purchasing Quickbooks version 3.0 from Intuit Direct. Note that Intuit Direct sells products directly to its customers rather than through a retailer. Use the available data to predict which businesses that did not respond to the wave-1 mailing, are most likely to respond to the wave-2 mailing. Note that variables were added, deleted, and recoded so please ignore the variable descriptions in Exhibit 3 in the case in the course reader. Instead, use the variable descriptions below:\n",
      "\n",
      "## Variable description\n",
      "\n",
      "* id: Small business customer ID\n",
      "* zip: 5-Digit ZIP Code (00000=unknown, 99999=international ZIPs).\n",
      "* zip_bins: Zip-code bins (20 approx. equal sized bins from lowest to highest zip code number)\n",
      "* sex: \"Female\", \"Male\", or \"Unknown\"\n",
      "* bizflag: Business Flag.  Address contains a Business name (1 = yes, 0 = no or unknown).\n",
      "* numords: Number of orders from Intuit Direct in the previous 36 months\n",
      "* dollars: Total $ ordered from Intuit Direct in the previous 36 months\n",
      "* last: Time (in months) since last order from Intuit Direct in previous 36 months\n",
      "* sincepurch: Time (in months) since original (not upgrade) purchase of Quickbooks\n",
      "* version1: Is 1 if customer's current Quickbooks is version 1, 0 if version 2\n",
      "* owntaxprod: Is 1 if customer purchased tax software, 0 otherwise\n",
      "* upgraded: Is 1 if customer upgraded from Quickbooks vs. 1 to vs. 2\n",
      "* res1: Response to wave 1 mailing (\"Yes\" if responded else \"No\")\n",
      "* training: 70/30 split, 1 for training sample, 0 for validation sample\n",
      "\n"
     ]
    }
   ],
   "source": [
    "# show dataset description\n",
    "rsm.describe(intuit75k)"
   ]
  },
  {
   "cell_type": "markdown",
   "metadata": {},
   "source": [
    "## Gradient Boosted Trees"
   ]
  },
  {
   "cell_type": "markdown",
   "metadata": {},
   "source": [
    "### Data Cleaning"
   ]
  },
  {
   "cell_type": "code",
   "execution_count": 135,
   "metadata": {},
   "outputs": [],
   "source": [
    "intuit75k.zip_bins = intuit75k.zip_bins.astype(object)"
   ]
  },
  {
   "cell_type": "code",
   "execution_count": 136,
   "metadata": {},
   "outputs": [],
   "source": [
    "intuit75k = intuit75k.join(pd.get_dummies(intuit75k.zip_bins), how=\"inner\")"
   ]
  },
  {
   "cell_type": "code",
   "execution_count": 137,
   "metadata": {},
   "outputs": [],
   "source": [
    "intuit75k = intuit75k.assign(\n",
    "    zip801=(intuit75k[\"zip\"] == \"00801\").astype(int),\n",
    "    zip804=(intuit75k[\"zip\"] == \"00804\").astype(int),\n",
    ")"
   ]
  },
  {
   "cell_type": "code",
   "execution_count": 138,
   "metadata": {},
   "outputs": [
    {
     "data": {
      "text/plain": [
       "id               int32\n",
       "zip             object\n",
       "zip_bins        object\n",
       "sex           category\n",
       "bizflag          int32\n",
       "numords          int32\n",
       "dollars        float64\n",
       "last             int32\n",
       "sincepurch       int32\n",
       "version1         int32\n",
       "owntaxprod       int32\n",
       "upgraded         int32\n",
       "res1          category\n",
       "training         int32\n",
       "res1_yes         int64\n",
       "1                uint8\n",
       "2                uint8\n",
       "3                uint8\n",
       "4                uint8\n",
       "5                uint8\n",
       "6                uint8\n",
       "7                uint8\n",
       "8                uint8\n",
       "9                uint8\n",
       "10               uint8\n",
       "11               uint8\n",
       "12               uint8\n",
       "13               uint8\n",
       "14               uint8\n",
       "15               uint8\n",
       "16               uint8\n",
       "17               uint8\n",
       "18               uint8\n",
       "19               uint8\n",
       "20               uint8\n",
       "zip801           int64\n",
       "zip804           int64\n",
       "dtype: object"
      ]
     },
     "execution_count": 138,
     "metadata": {},
     "output_type": "execute_result"
    }
   ],
   "source": [
    "intuit75k.dtypes"
   ]
  },
  {
   "cell_type": "code",
   "execution_count": 139,
   "metadata": {},
   "outputs": [],
   "source": [
    "intuit_train = intuit75k.query(\"training == 1\").reset_index()\n",
    "intuit_val = intuit75k.query(\"training == 0\").reset_index()"
   ]
  },
  {
   "cell_type": "code",
   "execution_count": 140,
   "metadata": {},
   "outputs": [],
   "source": [
    "X_train = intuit_train.drop(\n",
    "    columns=[\n",
    "        \"id\",\n",
    "        \"zip\",\n",
    "        \"zip_bins\",\n",
    "        \"res1\",\n",
    "        \"res1_yes\",\n",
    "        \"training\",\n",
    "        \"sex\",\n",
    "        \"index\",\n",
    "        \"bizflag\",\n",
    "    ]\n",
    ")\n",
    "y_train = intuit_train[[\"res1_yes\"]]\n",
    "X_test = intuit_val.drop(\n",
    "    columns=[\n",
    "        \"id\",\n",
    "        \"zip\",\n",
    "        \"zip_bins\",\n",
    "        \"res1\",\n",
    "        \"res1_yes\",\n",
    "        \"training\",\n",
    "        \"sex\",\n",
    "        \"index\",\n",
    "        \"bizflag\",\n",
    "    ]\n",
    ")\n",
    "y_test = intuit_val[[\"res1_yes\"]]\n",
    "intuit75k_cols = X_train.columns"
   ]
  },
  {
   "cell_type": "code",
   "execution_count": 141,
   "metadata": {},
   "outputs": [
    {
     "data": {
      "text/plain": [
       "29"
      ]
     },
     "execution_count": 141,
     "metadata": {},
     "output_type": "execute_result"
    }
   ],
   "source": [
    "len(intuit75k_cols)"
   ]
  },
  {
   "cell_type": "markdown",
   "metadata": {},
   "source": [
    "### Fitting the XGBoost Model"
   ]
  },
  {
   "cell_type": "code",
   "execution_count": 142,
   "metadata": {},
   "outputs": [
    {
     "name": "stdout",
     "output_type": "stream",
     "text": [
      "[0]\tvalidation_0-auc:0.66263\n",
      "[1]\tvalidation_0-auc:0.70723\n",
      "[2]\tvalidation_0-auc:0.72689\n",
      "[3]\tvalidation_0-auc:0.72222\n",
      "[4]\tvalidation_0-auc:0.73195\n",
      "[5]\tvalidation_0-auc:0.72766\n",
      "[6]\tvalidation_0-auc:0.72994\n",
      "[7]\tvalidation_0-auc:0.73743\n",
      "[8]\tvalidation_0-auc:0.74284\n",
      "[9]\tvalidation_0-auc:0.75380\n",
      "[10]\tvalidation_0-auc:0.75251\n",
      "[11]\tvalidation_0-auc:0.75479\n",
      "[12]\tvalidation_0-auc:0.75472\n",
      "[13]\tvalidation_0-auc:0.75820\n",
      "[14]\tvalidation_0-auc:0.75831\n",
      "[15]\tvalidation_0-auc:0.76084\n",
      "[16]\tvalidation_0-auc:0.76181\n",
      "[17]\tvalidation_0-auc:0.76300\n",
      "[18]\tvalidation_0-auc:0.76291\n",
      "[19]\tvalidation_0-auc:0.76288\n",
      "[20]\tvalidation_0-auc:0.76344\n",
      "[21]\tvalidation_0-auc:0.76455\n",
      "[22]\tvalidation_0-auc:0.76529\n",
      "[23]\tvalidation_0-auc:0.76595\n",
      "[24]\tvalidation_0-auc:0.76637\n",
      "[25]\tvalidation_0-auc:0.76593\n",
      "[26]\tvalidation_0-auc:0.76558\n",
      "[27]\tvalidation_0-auc:0.76594\n",
      "[28]\tvalidation_0-auc:0.76618\n",
      "[29]\tvalidation_0-auc:0.76639\n",
      "[30]\tvalidation_0-auc:0.76636\n",
      "[31]\tvalidation_0-auc:0.76620\n",
      "[32]\tvalidation_0-auc:0.76634\n",
      "[33]\tvalidation_0-auc:0.76637\n",
      "[34]\tvalidation_0-auc:0.76642\n",
      "[35]\tvalidation_0-auc:0.76639\n",
      "[36]\tvalidation_0-auc:0.76628\n",
      "[37]\tvalidation_0-auc:0.76653\n",
      "[38]\tvalidation_0-auc:0.76674\n",
      "[39]\tvalidation_0-auc:0.76671\n",
      "[40]\tvalidation_0-auc:0.76627\n",
      "[41]\tvalidation_0-auc:0.76607\n",
      "[42]\tvalidation_0-auc:0.76604\n",
      "[43]\tvalidation_0-auc:0.76597\n",
      "[44]\tvalidation_0-auc:0.76614\n",
      "[45]\tvalidation_0-auc:0.76645\n",
      "[46]\tvalidation_0-auc:0.76629\n",
      "[47]\tvalidation_0-auc:0.76635\n",
      "[48]\tvalidation_0-auc:0.76636\n",
      "[49]\tvalidation_0-auc:0.76635\n",
      "[50]\tvalidation_0-auc:0.76644\n",
      "[51]\tvalidation_0-auc:0.76669\n",
      "[52]\tvalidation_0-auc:0.76654\n",
      "[53]\tvalidation_0-auc:0.76676\n",
      "[54]\tvalidation_0-auc:0.76681\n",
      "[55]\tvalidation_0-auc:0.76684\n",
      "[56]\tvalidation_0-auc:0.76698\n",
      "[57]\tvalidation_0-auc:0.76714\n",
      "[58]\tvalidation_0-auc:0.76696\n",
      "[59]\tvalidation_0-auc:0.76677\n",
      "[60]\tvalidation_0-auc:0.76685\n",
      "[61]\tvalidation_0-auc:0.76684\n",
      "[62]\tvalidation_0-auc:0.76688\n",
      "[63]\tvalidation_0-auc:0.76684\n",
      "[64]\tvalidation_0-auc:0.76675\n",
      "[65]\tvalidation_0-auc:0.76665\n",
      "[66]\tvalidation_0-auc:0.76684\n",
      "[67]\tvalidation_0-auc:0.76704\n",
      "[68]\tvalidation_0-auc:0.76691\n",
      "[69]\tvalidation_0-auc:0.76734\n",
      "[70]\tvalidation_0-auc:0.76716\n",
      "[71]\tvalidation_0-auc:0.76745\n",
      "[72]\tvalidation_0-auc:0.76741\n",
      "[73]\tvalidation_0-auc:0.76745\n",
      "[74]\tvalidation_0-auc:0.76735\n",
      "[75]\tvalidation_0-auc:0.76729\n",
      "[76]\tvalidation_0-auc:0.76751\n",
      "[77]\tvalidation_0-auc:0.76752\n",
      "[78]\tvalidation_0-auc:0.76760\n",
      "[79]\tvalidation_0-auc:0.76749\n",
      "[80]\tvalidation_0-auc:0.76743\n",
      "[81]\tvalidation_0-auc:0.76740\n",
      "[82]\tvalidation_0-auc:0.76709\n",
      "[83]\tvalidation_0-auc:0.76733\n",
      "[84]\tvalidation_0-auc:0.76744\n",
      "[85]\tvalidation_0-auc:0.76747\n",
      "[86]\tvalidation_0-auc:0.76748\n",
      "[87]\tvalidation_0-auc:0.76741\n",
      "[88]\tvalidation_0-auc:0.76738\n",
      "[89]\tvalidation_0-auc:0.76736\n",
      "[90]\tvalidation_0-auc:0.76734\n",
      "[91]\tvalidation_0-auc:0.76732\n",
      "[92]\tvalidation_0-auc:0.76729\n",
      "[93]\tvalidation_0-auc:0.76709\n",
      "[94]\tvalidation_0-auc:0.76721\n",
      "[95]\tvalidation_0-auc:0.76705\n",
      "[96]\tvalidation_0-auc:0.76708\n",
      "[97]\tvalidation_0-auc:0.76699\n",
      "[98]\tvalidation_0-auc:0.76696\n",
      "[99]\tvalidation_0-auc:0.76678\n",
      "[100]\tvalidation_0-auc:0.76671\n",
      "[101]\tvalidation_0-auc:0.76680\n",
      "[102]\tvalidation_0-auc:0.76691\n",
      "[103]\tvalidation_0-auc:0.76699\n",
      "[104]\tvalidation_0-auc:0.76720\n",
      "[105]\tvalidation_0-auc:0.76703\n",
      "[106]\tvalidation_0-auc:0.76708\n",
      "[107]\tvalidation_0-auc:0.76689\n",
      "[108]\tvalidation_0-auc:0.76689\n",
      "[109]\tvalidation_0-auc:0.76694\n",
      "[110]\tvalidation_0-auc:0.76701\n",
      "[111]\tvalidation_0-auc:0.76679\n",
      "[112]\tvalidation_0-auc:0.76671\n",
      "[113]\tvalidation_0-auc:0.76671\n",
      "[114]\tvalidation_0-auc:0.76660\n",
      "[115]\tvalidation_0-auc:0.76655\n",
      "[116]\tvalidation_0-auc:0.76658\n",
      "[117]\tvalidation_0-auc:0.76670\n",
      "[118]\tvalidation_0-auc:0.76663\n",
      "[119]\tvalidation_0-auc:0.76677\n",
      "[120]\tvalidation_0-auc:0.76684\n",
      "[121]\tvalidation_0-auc:0.76695\n",
      "[122]\tvalidation_0-auc:0.76700\n",
      "[123]\tvalidation_0-auc:0.76700\n",
      "[124]\tvalidation_0-auc:0.76692\n",
      "[125]\tvalidation_0-auc:0.76688\n",
      "[126]\tvalidation_0-auc:0.76685\n",
      "[127]\tvalidation_0-auc:0.76666\n",
      "[128]\tvalidation_0-auc:0.76645\n",
      "[129]\tvalidation_0-auc:0.76663\n",
      "[130]\tvalidation_0-auc:0.76658\n",
      "[131]\tvalidation_0-auc:0.76666\n",
      "[132]\tvalidation_0-auc:0.76666\n",
      "[133]\tvalidation_0-auc:0.76679\n",
      "[134]\tvalidation_0-auc:0.76631\n",
      "[135]\tvalidation_0-auc:0.76643\n",
      "[136]\tvalidation_0-auc:0.76639\n",
      "[137]\tvalidation_0-auc:0.76636\n",
      "[138]\tvalidation_0-auc:0.76642\n",
      "[139]\tvalidation_0-auc:0.76637\n",
      "[140]\tvalidation_0-auc:0.76630\n",
      "[141]\tvalidation_0-auc:0.76640\n",
      "[142]\tvalidation_0-auc:0.76634\n",
      "[143]\tvalidation_0-auc:0.76664\n",
      "[144]\tvalidation_0-auc:0.76671\n",
      "[145]\tvalidation_0-auc:0.76667\n",
      "[146]\tvalidation_0-auc:0.76669\n",
      "[147]\tvalidation_0-auc:0.76672\n",
      "[148]\tvalidation_0-auc:0.76670\n",
      "[149]\tvalidation_0-auc:0.76663\n",
      "[150]\tvalidation_0-auc:0.76668\n",
      "[151]\tvalidation_0-auc:0.76659\n",
      "[152]\tvalidation_0-auc:0.76650\n",
      "[153]\tvalidation_0-auc:0.76641\n",
      "[154]\tvalidation_0-auc:0.76646\n",
      "[155]\tvalidation_0-auc:0.76643\n",
      "[156]\tvalidation_0-auc:0.76639\n",
      "[157]\tvalidation_0-auc:0.76640\n",
      "[158]\tvalidation_0-auc:0.76642\n",
      "[159]\tvalidation_0-auc:0.76639\n",
      "[160]\tvalidation_0-auc:0.76632\n",
      "[161]\tvalidation_0-auc:0.76628\n",
      "[162]\tvalidation_0-auc:0.76626\n",
      "[163]\tvalidation_0-auc:0.76628\n",
      "[164]\tvalidation_0-auc:0.76633\n",
      "[165]\tvalidation_0-auc:0.76636\n",
      "[166]\tvalidation_0-auc:0.76634\n",
      "[167]\tvalidation_0-auc:0.76629\n",
      "[168]\tvalidation_0-auc:0.76629\n",
      "[169]\tvalidation_0-auc:0.76628\n",
      "[170]\tvalidation_0-auc:0.76633\n",
      "[171]\tvalidation_0-auc:0.76629\n",
      "[172]\tvalidation_0-auc:0.76638\n",
      "[173]\tvalidation_0-auc:0.76634\n",
      "[174]\tvalidation_0-auc:0.76614\n",
      "[175]\tvalidation_0-auc:0.76613\n",
      "[176]\tvalidation_0-auc:0.76610\n",
      "[177]\tvalidation_0-auc:0.76612\n"
     ]
    },
    {
     "data": {
      "text/plain": [
       "XGBClassifier(base_score=0.5, booster='gbtree', colsample_bylevel=1,\n",
       "              colsample_bynode=1, colsample_bytree=1, gamma=0, gpu_id=-1,\n",
       "              importance_type='gain', interaction_constraints='',\n",
       "              learning_rate=0.3, max_delta_step=0, max_depth=2,\n",
       "              min_child_weight=1, missing=nan, monotone_constraints='()',\n",
       "              n_estimators=1000, n_jobs=6, num_parallel_tree=1,\n",
       "              random_state=123, reg_alpha=0, reg_lambda=3.9, scale_pos_weight=1,\n",
       "              subsample=1, tree_method='exact', use_label_encoder=False,\n",
       "              validate_parameters=1, verbosity=None)"
      ]
     },
     "execution_count": 142,
     "metadata": {},
     "output_type": "execute_result"
    }
   ],
   "source": [
    "xgb_clf = xgb.XGBClassifier(\n",
    "    objective=\"binary:logistic\",\n",
    "    n_estimators=1000,\n",
    "    random_state=123,\n",
    "    max_depth=2,\n",
    "    n_jobs=6,\n",
    "    use_label_encoder=False,\n",
    "    reg_lambda=3.9,\n",
    "    learning_rate=0.3,\n",
    ")\n",
    "xgb_clf.fit(\n",
    "    X_train,\n",
    "    y_train.values.ravel(),\n",
    "    early_stopping_rounds=100,\n",
    "    eval_metric=\"auc\",\n",
    "    verbose=True,\n",
    "    eval_set=[(X_test, y_test.values.ravel())],\n",
    ")"
   ]
  },
  {
   "cell_type": "code",
   "execution_count": 143,
   "metadata": {},
   "outputs": [],
   "source": [
    "# Prediction probabilities on the test set\n",
    "pred = xgb_clf.predict_proba(X_test)\n",
    "probs = pd.Series([p[1] for p in pred])\n",
    "\n",
    "# Prediction probabilities on the train set\n",
    "pred_train = xgb_clf.predict_proba(X_train)\n",
    "probs_train = pd.Series([p[1] for p in pred_train])"
   ]
  },
  {
   "cell_type": "code",
   "execution_count": 144,
   "metadata": {},
   "outputs": [
    {
     "name": "stdout",
     "output_type": "stream",
     "text": [
      "Test data auc is 0.7675955115423396\n"
     ]
    }
   ],
   "source": [
    "fpr, tpr, thresholds = metrics.roc_curve(y_test.res1_yes, pred[:, 1])\n",
    "print(f\"Test data auc is {metrics.auc(fpr,tpr)}\")"
   ]
  },
  {
   "cell_type": "code",
   "execution_count": 145,
   "metadata": {},
   "outputs": [
    {
     "name": "stdout",
     "output_type": "stream",
     "text": [
      "Train data auc is 0.7827163935059891\n"
     ]
    }
   ],
   "source": [
    "fpr, tpr, thresholds = metrics.roc_curve(y_train.res1_yes, pred_train[:, 1])\n",
    "print(f\"Train data auc is {metrics.auc(fpr,tpr)}\")"
   ]
  },
  {
   "cell_type": "code",
   "execution_count": 146,
   "metadata": {},
   "outputs": [],
   "source": [
    "breakeven = 1.41 / 30"
   ]
  },
  {
   "cell_type": "code",
   "execution_count": 147,
   "metadata": {},
   "outputs": [],
   "source": [
    "pred_prof = pd.Series((probs))\n",
    "pred_prof.name = \"predictions_xgb_1_test\"\n",
    "\n",
    "pred_prof_train = pd.Series((probs_train))\n",
    "pred_prof_train.name = \"predictions_xgb_1_train\"\n",
    "\n",
    "df_test = y_test.join(pred_prof, how=\"inner\")"
   ]
  },
  {
   "cell_type": "code",
   "execution_count": 148,
   "metadata": {},
   "outputs": [
    {
     "name": "stdout",
     "output_type": "stream",
     "text": [
      "The profit for XGBClassifier(base_score=0.5, booster='gbtree', colsample_bylevel=1,\n",
      "              colsample_bynode=1, colsample_bytree=1, gamma=0, gpu_id=-1,\n",
      "              importance_type='gain', interaction_constraints='',\n",
      "              learning_rate=0.3, max_delta_step=0, max_depth=2,\n",
      "              min_child_weight=1, missing=nan, monotone_constraints='()',\n",
      "              n_estimators=1000, n_jobs=6, num_parallel_tree=1,\n",
      "              random_state=123, reg_alpha=0, reg_lambda=3.9, scale_pos_weight=1,\n",
      "              subsample=1, tree_method='exact', use_label_encoder=False,\n",
      "              validate_parameters=1, verbosity=None) on the test data is $13618.65\n"
     ]
    }
   ],
   "source": [
    "p = profit_max(df_test, \"res1_yes\", 1, \"predictions_xgb_1_test\", 1.41, 30)\n",
    "\n",
    "print(f\"The profit for {xgb_clf} on the test data is ${round(p,3)}\")"
   ]
  },
  {
   "cell_type": "code",
   "execution_count": 149,
   "metadata": {},
   "outputs": [
    {
     "name": "stdout",
     "output_type": "stream",
     "text": [
      "TP: 747\n",
      "TN: 15909\n",
      "FP: 5488\n",
      "FN: 356\n"
     ]
    }
   ],
   "source": [
    "TP, FP, TN, FN, contact = confusion(\n",
    "    df_test, \"res1_yes\", 1, \"predictions_xgb_1_test\", 1.41, 30\n",
    ")\n",
    "\n",
    "print(f\"TP: {TP}\")\n",
    "print(f\"TN: {TN}\")\n",
    "print(f\"FP: {FP}\")\n",
    "print(f\"FN: {FN}\")"
   ]
  },
  {
   "cell_type": "markdown",
   "metadata": {},
   "source": [
    "### Decision Tree Plot"
   ]
  },
  {
   "cell_type": "code",
   "execution_count": 150,
   "metadata": {},
   "outputs": [
    {
     "data": {
      "text/plain": [
       "<AxesSubplot:>"
      ]
     },
     "execution_count": 150,
     "metadata": {},
     "output_type": "execute_result"
    },
    {
     "data": {
      "image/png": "[encoded data removed]",
      "text/plain": [
       "<Figure size 900x600 with 1 Axes>"
      ]
     },
     "metadata": {
      "needs_background": "light"
     },
     "output_type": "display_data"
    }
   ],
   "source": [
    "mpl.rcParams[\"figure.dpi\"] = 150\n",
    "xgb.plot_tree(xgb_clf, rankdir=\"LR\")"
   ]
  },
  {
   "cell_type": "markdown",
   "metadata": {},
   "source": [
    "### Randomised Search Cross Validation"
   ]
  },
  {
   "cell_type": "code",
   "execution_count": 151,
   "metadata": {},
   "outputs": [],
   "source": [
    "clf = xgb.XGBClassifier(objective=\"binary:logistic\", seed=123, use_label_encoder=False)"
   ]
  },
  {
   "cell_type": "code",
   "execution_count": 152,
   "metadata": {},
   "outputs": [],
   "source": [
    "fit_params = {\n",
    "    \"early_stopping_rounds\": 100,\n",
    "    \"eval_metric\": \"auc\",\n",
    "    \"eval_set\": [(X_test, y_test.values.ravel())],\n",
    "}"
   ]
  },
  {
   "cell_type": "code",
   "execution_count": 153,
   "metadata": {},
   "outputs": [],
   "source": [
    "gbm_param_grid = {\n",
    "    \"learning_rate\": np.arange(0.1, 0.3, 0.05),\n",
    "    \"max_depth\": np.arange(1, 4, 1),\n",
    "    \"n_estimators\": [1000],\n",
    "    \"reg_lambda\": np.arange(3, 5, 1),\n",
    "}"
   ]
  },
  {
   "cell_type": "code",
   "execution_count": 154,
   "metadata": {},
   "outputs": [],
   "source": [
    "from sklearn.metrics import make_scorer\n",
    "\n",
    "\n",
    "def profit_scoring(y_true, y_pred):\n",
    "    profit = rsm.profit(pd.Series(y_true), pd.Series(y_pred), 1, 1.41, 30)\n",
    "    return profit\n",
    "\n",
    "\n",
    "profit_score = make_scorer(profit_scoring, greater_is_better=True, needs_proba=True)"
   ]
  },
  {
   "cell_type": "code",
   "execution_count": null,
   "metadata": {},
   "outputs": [],
   "source": [
    "randomized_roc_auc = RandomizedSearchCV(\n",
    "    scoring=profit_score,\n",
    "    verbose=1,\n",
    "    estimator=clf,\n",
    "    param_distributions=gbm_param_grid,\n",
    "    n_jobs=6,\n",
    ")\n",
    "randomized_roc_auc.fit(X_train, y_train.values.ravel(), **fit_params)"
   ]
  },
  {
   "cell_type": "code",
   "execution_count": 155,
   "metadata": {},
   "outputs": [],
   "source": [
    "df_test_xgb = df_test.join(intuit_val[[\"id\"]], how=\"inner\")"
   ]
  },
  {
   "cell_type": "markdown",
   "metadata": {},
   "source": [
    "## Decision Tree Model"
   ]
  },
  {
   "cell_type": "markdown",
   "metadata": {},
   "source": [
    "### Data Cleaning"
   ]
  },
  {
   "cell_type": "code",
   "execution_count": 156,
   "metadata": {},
   "outputs": [],
   "source": [
    "def performance_profit(X_test, y_test, model, model_name, breakeven):\n",
    "    df_test = pd.DataFrame(X_test, columns=intuit75k_cols)\n",
    "    df_test[\"res_y\"] = y_test\n",
    "    df_test[\"predict_res_proba_\" + model_name] = model.predict_proba(X_test)[:, 1]\n",
    "    df_test[\"predicted_res_\" + model_name] = np.where(\n",
    "        df_test[\"predict_res_proba_\" + model_name] > breakeven, 1, 0\n",
    "    )\n",
    "\n",
    "    confusion_matrix = pd.crosstab(\n",
    "        df_test[\"res_y\"],\n",
    "        df_test[\"predicted_res_\" + model_name],\n",
    "        margins=True,\n",
    "        margins_name=\"Total\",\n",
    "    )\n",
    "    roc_auc = roc_auc_score(y_test, model.predict_proba(X_test)[:, 1] / 2)\n",
    "\n",
    "    profit = rsm.profit_max(\n",
    "        df_test, \"res_y\", 1, \"predict_res_proba_\" + model_name, 1.41, 30\n",
    "    )\n",
    "\n",
    "    print(\"ROC AUC is {}\".format(roc_auc))\n",
    "    print(\"Profit is {}\".format(profit))\n",
    "    return roc_auc, profit, confusion_matrix"
   ]
  },
  {
   "cell_type": "code",
   "execution_count": 157,
   "metadata": {},
   "outputs": [],
   "source": [
    "X_train = np.array(X_train)\n",
    "y_train = np.array(y_train)\n",
    "X_test = np.array(X_test)\n",
    "y_test = np.array(y_test)"
   ]
  },
  {
   "cell_type": "code",
   "execution_count": 158,
   "metadata": {},
   "outputs": [],
   "source": [
    "cost = 1.41\n",
    "margin = 30\n",
    "breakeven = cost / margin"
   ]
  },
  {
   "cell_type": "code",
   "execution_count": 159,
   "metadata": {},
   "outputs": [
    {
     "data": {
      "text/plain": [
       "0.047"
      ]
     },
     "execution_count": 159,
     "metadata": {},
     "output_type": "execute_result"
    }
   ],
   "source": [
    "breakeven"
   ]
  },
  {
   "cell_type": "markdown",
   "metadata": {},
   "source": [
    "### Fitting the Model"
   ]
  },
  {
   "cell_type": "code",
   "execution_count": 160,
   "metadata": {},
   "outputs": [
    {
     "name": "stdout",
     "output_type": "stream",
     "text": [
      "Accuracy: 0.95\n",
      "CV MSE: 0.05\n",
      "Train MSE: 0.05\n",
      "Test MSE: 0.05\n",
      "ROC AUC Score Test: 0.65\n",
      "ROC AUC Score Train: 0.66\n"
     ]
    }
   ],
   "source": [
    "SEED = 123\n",
    "SEED2 = 168\n",
    "\n",
    "dt = DecisionTreeClassifier(max_depth=4, random_state=SEED2, min_samples_leaf=0.14)\n",
    "\n",
    "MSE_CV = -cross_val_score(\n",
    "    dt, X_train, y_train, cv=10, scoring=\"neg_mean_squared_error\", n_jobs=4\n",
    ")\n",
    "\n",
    "dt.fit(X_train, y_train)\n",
    "\n",
    "y_predict_train = dt.predict(X_train)\n",
    "y_predict_test = dt.predict(X_test)\n",
    "y_pred_proba = dt.predict_proba(X_test)[:, 1]\n",
    "y_pred_proba_train = dt.predict_proba(X_train)[:, 1]\n",
    "\n",
    "print(\"Accuracy: {:.2f}\".format(accuracy_score(y_test, y_predict_test)))\n",
    "print(\"CV MSE: {:.2f}\".format(MSE_CV.mean()))\n",
    "print(\"Train MSE: {:.2f}\".format(MSE(y_train, y_predict_train)))\n",
    "print(\"Test MSE: {:.2f}\".format(MSE(y_test, y_predict_test)))\n",
    "print(\"ROC AUC Score Test: {:.2f}\".format(roc_auc_score(y_test, y_pred_proba)))\n",
    "print(\"ROC AUC Score Train: {:.2f}\".format(roc_auc_score(y_train, y_pred_proba_train)))"
   ]
  },
  {
   "cell_type": "code",
   "execution_count": 161,
   "metadata": {},
   "outputs": [
    {
     "name": "stdout",
     "output_type": "stream",
     "text": [
      "ROC AUC is 0.6490430382480052\n",
      "Profit is 7288.889999999999\n"
     ]
    },
    {
     "data": {
      "text/html": [
       "<div>\n",
       "<style scoped>\n",
       "    .dataframe tbody tr th:only-of-type {\n",
       "        vertical-align: middle;\n",
       "    }\n",
       "\n",
       "    .dataframe tbody tr th {\n",
       "        vertical-align: top;\n",
       "    }\n",
       "\n",
       "    .dataframe thead th {\n",
       "        text-align: right;\n",
       "    }\n",
       "</style>\n",
       "<table border=\"1\" class=\"dataframe\">\n",
       "  <thead>\n",
       "    <tr style=\"text-align: right;\">\n",
       "      <th>predicted_res_dt</th>\n",
       "      <th>0</th>\n",
       "      <th>1</th>\n",
       "      <th>Total</th>\n",
       "    </tr>\n",
       "    <tr>\n",
       "      <th>res_y</th>\n",
       "      <th></th>\n",
       "      <th></th>\n",
       "      <th></th>\n",
       "    </tr>\n",
       "  </thead>\n",
       "  <tbody>\n",
       "    <tr>\n",
       "      <th>0</th>\n",
       "      <td>9088</td>\n",
       "      <td>12309</td>\n",
       "      <td>21397</td>\n",
       "    </tr>\n",
       "    <tr>\n",
       "      <th>1</th>\n",
       "      <td>241</td>\n",
       "      <td>862</td>\n",
       "      <td>1103</td>\n",
       "    </tr>\n",
       "    <tr>\n",
       "      <th>Total</th>\n",
       "      <td>9329</td>\n",
       "      <td>13171</td>\n",
       "      <td>22500</td>\n",
       "    </tr>\n",
       "  </tbody>\n",
       "</table>\n",
       "</div>"
      ],
      "text/plain": [
       "predicted_res_dt     0      1  Total\n",
       "res_y                               \n",
       "0                 9088  12309  21397\n",
       "1                  241    862   1103\n",
       "Total             9329  13171  22500"
      ]
     },
     "execution_count": 161,
     "metadata": {},
     "output_type": "execute_result"
    }
   ],
   "source": [
    "roc_dt, profit_dt, cm_dt = performance_profit(X_test, y_test, dt, \"dt\", breakeven)\n",
    "cm_dt"
   ]
  },
  {
   "cell_type": "markdown",
   "metadata": {},
   "source": [
    "### Grid Search Cross Validation"
   ]
  },
  {
   "cell_type": "code",
   "execution_count": 50,
   "metadata": {},
   "outputs": [
    {
     "data": {
      "text/plain": [
       "{'ccp_alpha': 0.0,\n",
       " 'class_weight': None,\n",
       " 'criterion': 'gini',\n",
       " 'max_depth': 4,\n",
       " 'max_features': None,\n",
       " 'max_leaf_nodes': None,\n",
       " 'min_impurity_decrease': 0.0,\n",
       " 'min_impurity_split': None,\n",
       " 'min_samples_leaf': 0.14,\n",
       " 'min_samples_split': 2,\n",
       " 'min_weight_fraction_leaf': 0.0,\n",
       " 'random_state': 168,\n",
       " 'splitter': 'best'}"
      ]
     },
     "execution_count": 50,
     "metadata": {},
     "output_type": "execute_result"
    }
   ],
   "source": [
    "dt.get_params()"
   ]
  },
  {
   "cell_type": "code",
   "execution_count": 51,
   "metadata": {},
   "outputs": [],
   "source": [
    "params_dt = {\n",
    "    \"max_depth\": [4, 5, 6, 7, 8, 9, 10],\n",
    "    \"min_samples_leaf\": [0.2, 0.04, 0.06, 0.08, 0.09, 0.1],\n",
    "    \"max_features\": [0.2, 0.4, 0.45, 0.5, 0.6],\n",
    "}"
   ]
  },
  {
   "cell_type": "code",
   "execution_count": 52,
   "metadata": {},
   "outputs": [],
   "source": [
    "grid_dt = GridSearchCV(\n",
    "    estimator=dt,\n",
    "    param_grid=params_dt,\n",
    "    scoring=profit_score,\n",
    "    cv=5,\n",
    "    n_jobs=8,\n",
    "    verbose=5,\n",
    "    refit=\"AUC\",\n",
    ")"
   ]
  },
  {
   "cell_type": "code",
   "execution_count": 53,
   "metadata": {},
   "outputs": [
    {
     "name": "stdout",
     "output_type": "stream",
     "text": [
      "Fitting 5 folds for each of 210 candidates, totalling 1050 fits\n"
     ]
    },
    {
     "name": "stderr",
     "output_type": "stream",
     "text": [
      "/usr/local/lib/python3.8/dist-packages/sklearn/model_selection/_search.py:918: UserWarning: One or more of the test scores are non-finite: [nan nan nan nan nan nan nan nan nan nan nan nan nan nan nan nan nan nan\n",
      " nan nan nan nan nan nan nan nan nan nan nan nan nan nan nan nan nan nan\n",
      " nan nan nan nan nan nan nan nan nan nan nan nan nan nan nan nan nan nan\n",
      " nan nan nan nan nan nan nan nan nan nan nan nan nan nan nan nan nan nan\n",
      " nan nan nan nan nan nan nan nan nan nan nan nan nan nan nan nan nan nan\n",
      " nan nan nan nan nan nan nan nan nan nan nan nan nan nan nan nan nan nan\n",
      " nan nan nan nan nan nan nan nan nan nan nan nan nan nan nan nan nan nan\n",
      " nan nan nan nan nan nan nan nan nan nan nan nan nan nan nan nan nan nan\n",
      " nan nan nan nan nan nan nan nan nan nan nan nan nan nan nan nan nan nan\n",
      " nan nan nan nan nan nan nan nan nan nan nan nan nan nan nan nan nan nan\n",
      " nan nan nan nan nan nan nan nan nan nan nan nan nan nan nan nan nan nan\n",
      " nan nan nan nan nan nan nan nan nan nan nan nan]\n",
      "  warnings.warn(\n"
     ]
    },
    {
     "data": {
      "text/plain": [
       "GridSearchCV(cv=5,\n",
       "             estimator=DecisionTreeClassifier(max_depth=4,\n",
       "                                              min_samples_leaf=0.14,\n",
       "                                              random_state=168),\n",
       "             n_jobs=8,\n",
       "             param_grid={'max_depth': [4, 5, 6, 7, 8, 9, 10],\n",
       "                         'max_features': [0.2, 0.4, 0.45, 0.5, 0.6],\n",
       "                         'min_samples_leaf': [0.2, 0.04, 0.06, 0.08, 0.09,\n",
       "                                              0.1]},\n",
       "             refit='AUC', scoring=make_scorer(profit_scoring, needs_proba=True),\n",
       "             verbose=5)"
      ]
     },
     "execution_count": 53,
     "metadata": {},
     "output_type": "execute_result"
    }
   ],
   "source": [
    "grid_dt.fit(X_train, y_train)"
   ]
  },
  {
   "cell_type": "code",
   "execution_count": 54,
   "metadata": {},
   "outputs": [
    {
     "name": "stdout",
     "output_type": "stream",
     "text": [
      "Best hyerparameters:\n",
      " {'max_depth': 4, 'max_features': 0.2, 'min_samples_leaf': 0.2}\n"
     ]
    }
   ],
   "source": [
    "best_hyperparams = grid_dt.best_params_\n",
    "print(\"Best hyerparameters:\\n\", best_hyperparams)"
   ]
  },
  {
   "cell_type": "code",
   "execution_count": 55,
   "metadata": {},
   "outputs": [],
   "source": [
    "best_model = grid_dt.best_estimator_"
   ]
  },
  {
   "cell_type": "code",
   "execution_count": 56,
   "metadata": {},
   "outputs": [
    {
     "name": "stdout",
     "output_type": "stream",
     "text": [
      "ROC AUC is 0.5\n",
      "Profit is 1365.0\n"
     ]
    },
    {
     "data": {
      "text/html": [
       "<div>\n",
       "<style scoped>\n",
       "    .dataframe tbody tr th:only-of-type {\n",
       "        vertical-align: middle;\n",
       "    }\n",
       "\n",
       "    .dataframe tbody tr th {\n",
       "        vertical-align: top;\n",
       "    }\n",
       "\n",
       "    .dataframe thead th {\n",
       "        text-align: right;\n",
       "    }\n",
       "</style>\n",
       "<table border=\"1\" class=\"dataframe\">\n",
       "  <thead>\n",
       "    <tr style=\"text-align: right;\">\n",
       "      <th>predicted_res_dt</th>\n",
       "      <th>1</th>\n",
       "      <th>Total</th>\n",
       "    </tr>\n",
       "    <tr>\n",
       "      <th>res_y</th>\n",
       "      <th></th>\n",
       "      <th></th>\n",
       "    </tr>\n",
       "  </thead>\n",
       "  <tbody>\n",
       "    <tr>\n",
       "      <th>0</th>\n",
       "      <td>21397</td>\n",
       "      <td>21397</td>\n",
       "    </tr>\n",
       "    <tr>\n",
       "      <th>1</th>\n",
       "      <td>1103</td>\n",
       "      <td>1103</td>\n",
       "    </tr>\n",
       "    <tr>\n",
       "      <th>Total</th>\n",
       "      <td>22500</td>\n",
       "      <td>22500</td>\n",
       "    </tr>\n",
       "  </tbody>\n",
       "</table>\n",
       "</div>"
      ],
      "text/plain": [
       "predicted_res_dt      1  Total\n",
       "res_y                         \n",
       "0                 21397  21397\n",
       "1                  1103   1103\n",
       "Total             22500  22500"
      ]
     },
     "execution_count": 56,
     "metadata": {},
     "output_type": "execute_result"
    }
   ],
   "source": [
    "roc_dt, profit_dt, cm_dt = performance_profit(\n",
    "    X_test, y_test, best_model, \"dt\", breakeven\n",
    ")\n",
    "cm_dt"
   ]
  },
  {
   "cell_type": "markdown",
   "metadata": {},
   "source": [
    "<br>"
   ]
  },
  {
   "cell_type": "markdown",
   "metadata": {},
   "source": [
    "## Bagging Classifier Model"
   ]
  },
  {
   "cell_type": "markdown",
   "metadata": {},
   "source": [
    "### Fitting the Model"
   ]
  },
  {
   "cell_type": "code",
   "execution_count": 162,
   "metadata": {},
   "outputs": [
    {
     "name": "stderr",
     "output_type": "stream",
     "text": [
      "/usr/local/lib/python3.8/dist-packages/sklearn/utils/validation.py:63: DataConversionWarning: A column-vector y was passed when a 1d array was expected. Please change the shape of y to (n_samples, ), for example using ravel().\n",
      "  return f(*args, **kwargs)\n"
     ]
    },
    {
     "name": "stdout",
     "output_type": "stream",
     "text": [
      "Accuracy of Bagging Classifier: 0.951\n",
      "OOB accuracy: 0.952\n",
      "CPU times: user 2.37 s, sys: 28.1 ms, total: 2.4 s\n",
      "Wall time: 5.15 s\n"
     ]
    }
   ],
   "source": [
    "%%time\n",
    "\n",
    "\n",
    "bc = BaggingClassifier(base_estimator=dt, n_estimators=300, n_jobs=4, oob_score=True)\n",
    "\n",
    "bc.fit(X_train, y_train)\n",
    "\n",
    "y_pred = bc.predict(X_test)\n",
    "\n",
    "accuracy = accuracy_score(y_test, y_pred)\n",
    "oob_accuracy = bc.oob_score_\n",
    "\n",
    "print(\"Accuracy of Bagging Classifier: {:.3f}\".format(accuracy))\n",
    "print(\"OOB accuracy: {:.3f}\".format(oob_accuracy))"
   ]
  },
  {
   "cell_type": "code",
   "execution_count": 163,
   "metadata": {},
   "outputs": [
    {
     "name": "stdout",
     "output_type": "stream",
     "text": [
      "ROC AUC is 0.6530415101701033\n",
      "Profit is 6374.91\n"
     ]
    },
    {
     "data": {
      "text/html": [
       "<div>\n",
       "<style scoped>\n",
       "    .dataframe tbody tr th:only-of-type {\n",
       "        vertical-align: middle;\n",
       "    }\n",
       "\n",
       "    .dataframe tbody tr th {\n",
       "        vertical-align: top;\n",
       "    }\n",
       "\n",
       "    .dataframe thead th {\n",
       "        text-align: right;\n",
       "    }\n",
       "</style>\n",
       "<table border=\"1\" class=\"dataframe\">\n",
       "  <thead>\n",
       "    <tr style=\"text-align: right;\">\n",
       "      <th>predicted_res_bc</th>\n",
       "      <th>0</th>\n",
       "      <th>1</th>\n",
       "      <th>Total</th>\n",
       "    </tr>\n",
       "    <tr>\n",
       "      <th>res_y</th>\n",
       "      <th></th>\n",
       "      <th></th>\n",
       "      <th></th>\n",
       "    </tr>\n",
       "  </thead>\n",
       "  <tbody>\n",
       "    <tr>\n",
       "      <th>0</th>\n",
       "      <td>8602</td>\n",
       "      <td>12795</td>\n",
       "      <td>21397</td>\n",
       "    </tr>\n",
       "    <tr>\n",
       "      <th>1</th>\n",
       "      <td>249</td>\n",
       "      <td>854</td>\n",
       "      <td>1103</td>\n",
       "    </tr>\n",
       "    <tr>\n",
       "      <th>Total</th>\n",
       "      <td>8851</td>\n",
       "      <td>13649</td>\n",
       "      <td>22500</td>\n",
       "    </tr>\n",
       "  </tbody>\n",
       "</table>\n",
       "</div>"
      ],
      "text/plain": [
       "predicted_res_bc     0      1  Total\n",
       "res_y                               \n",
       "0                 8602  12795  21397\n",
       "1                  249    854   1103\n",
       "Total             8851  13649  22500"
      ]
     },
     "execution_count": 163,
     "metadata": {},
     "output_type": "execute_result"
    }
   ],
   "source": [
    "roc_bc, profit_bc, cm_bc = performance_profit(X_test, y_test, bc, \"bc\", breakeven)\n",
    "cm_bc"
   ]
  },
  {
   "cell_type": "markdown",
   "metadata": {},
   "source": [
    "### Grid Search Cross Validation"
   ]
  },
  {
   "cell_type": "code",
   "execution_count": 52,
   "metadata": {},
   "outputs": [
    {
     "data": {
      "text/plain": [
       "{'base_estimator__ccp_alpha': 0.0,\n",
       " 'base_estimator__class_weight': None,\n",
       " 'base_estimator__criterion': 'gini',\n",
       " 'base_estimator__max_depth': 4,\n",
       " 'base_estimator__max_features': None,\n",
       " 'base_estimator__max_leaf_nodes': None,\n",
       " 'base_estimator__min_impurity_decrease': 0.0,\n",
       " 'base_estimator__min_impurity_split': None,\n",
       " 'base_estimator__min_samples_leaf': 0.14,\n",
       " 'base_estimator__min_samples_split': 2,\n",
       " 'base_estimator__min_weight_fraction_leaf': 0.0,\n",
       " 'base_estimator__random_state': 168,\n",
       " 'base_estimator__splitter': 'best',\n",
       " 'base_estimator': DecisionTreeClassifier(max_depth=4, min_samples_leaf=0.14, random_state=168),\n",
       " 'bootstrap': True,\n",
       " 'bootstrap_features': False,\n",
       " 'max_features': 1.0,\n",
       " 'max_samples': 1.0,\n",
       " 'n_estimators': 300,\n",
       " 'n_jobs': 4,\n",
       " 'oob_score': True,\n",
       " 'random_state': None,\n",
       " 'verbose': 0,\n",
       " 'warm_start': False}"
      ]
     },
     "execution_count": 52,
     "metadata": {},
     "output_type": "execute_result"
    }
   ],
   "source": [
    "from sklearn.model_selection import GridSearchCV\n",
    "\n",
    "bc.get_params()"
   ]
  },
  {
   "cell_type": "code",
   "execution_count": 53,
   "metadata": {},
   "outputs": [],
   "source": [
    "params_bc = {\n",
    "    \"base_estimator__min_samples_leaf\": [0.04, 0.06, 0.08],\n",
    "    \"max_features\": [0.2, 0.4, 0.6, 0.8],\n",
    "    \"base_estimator__max_depth\": [3, 4, 5, 6],\n",
    "    \"max_samples\": [0.05, 0.1, 0.2, 0.5],\n",
    "}"
   ]
  },
  {
   "cell_type": "code",
   "execution_count": 54,
   "metadata": {},
   "outputs": [],
   "source": [
    "grid_bc = GridSearchCV(\n",
    "    estimator=bc,\n",
    "    param_grid=params_bc,\n",
    "    scoring=profit_score,\n",
    "    cv=5,\n",
    "    n_jobs=8,\n",
    "    verbose=5,\n",
    "    refit=\"AUC\",\n",
    ")"
   ]
  },
  {
   "cell_type": "code",
   "execution_count": null,
   "metadata": {},
   "outputs": [],
   "source": [
    "grid_bc.fit(X_train, y_train)"
   ]
  },
  {
   "cell_type": "code",
   "execution_count": null,
   "metadata": {},
   "outputs": [],
   "source": [
    "best_hyperparams = grid_bc.best_params_\n",
    "print(\"Best hyerparameters:\\n\", best_hyperparams)"
   ]
  },
  {
   "cell_type": "code",
   "execution_count": null,
   "metadata": {},
   "outputs": [],
   "source": [
    "best_model = grid_bc.best_estimator_"
   ]
  },
  {
   "cell_type": "code",
   "execution_count": null,
   "metadata": {},
   "outputs": [],
   "source": [
    "roc_bcbest, profit_bcbest, cm_bcbest = performance_profit(\n",
    "    X_test, y_test, best_model, \"bcbest\", breakeven\n",
    ")\n",
    "cm_bcbest"
   ]
  },
  {
   "cell_type": "markdown",
   "metadata": {},
   "source": [
    "<br>"
   ]
  },
  {
   "cell_type": "markdown",
   "metadata": {},
   "source": [
    "## Random Forest"
   ]
  },
  {
   "cell_type": "markdown",
   "metadata": {},
   "source": [
    "### Fitting the Model"
   ]
  },
  {
   "cell_type": "code",
   "execution_count": 164,
   "metadata": {},
   "outputs": [
    {
     "name": "stderr",
     "output_type": "stream",
     "text": [
      "<timed exec>:15: DataConversionWarning: A column-vector y was passed when a 1d array was expected. Please change the shape of y to (n_samples,), for example using ravel().\n"
     ]
    },
    {
     "name": "stdout",
     "output_type": "stream",
     "text": [
      "Test set RMSE of rf: 0.22\n",
      "CPU times: user 4.57 s, sys: 0 ns, total: 4.57 s\n",
      "Wall time: 4.57 s\n"
     ]
    }
   ],
   "source": [
    "%%time\n",
    "from sklearn.ensemble import RandomForestClassifier, RandomForestRegressor\n",
    "from sklearn.metrics import mean_squared_error as MSE\n",
    "from sklearn.model_selection import train_test_split\n",
    "\n",
    "SEED = 1234\n",
    "\n",
    "rf = RandomForestClassifier(\n",
    "    n_estimators=400,\n",
    "    min_samples_leaf=0.12,\n",
    "    random_state=SEED,\n",
    "    max_features=3,\n",
    "    oob_score=True,\n",
    ")\n",
    "\n",
    "rf.fit(X_train, y_train)\n",
    "y_pred = rf.predict(X_test)\n",
    "rmse_test = MSE(y_test, y_pred) ** (1 / 2)\n",
    "\n",
    "print(\"Test set RMSE of rf: {:.2f}\".format(rmse_test))"
   ]
  },
  {
   "cell_type": "code",
   "execution_count": 165,
   "metadata": {},
   "outputs": [
    {
     "data": {
      "image/png": "[encoded data removed]",
      "text/plain": [
       "<Figure size 900x600 with 1 Axes>"
      ]
     },
     "metadata": {
      "needs_background": "light"
     },
     "output_type": "display_data"
    },
    {
     "data": {
      "text/plain": [
       "8             0.000000\n",
       "20            0.000000\n",
       "19            0.000000\n",
       "18            0.000000\n",
       "17            0.000000\n",
       "16            0.000000\n",
       "15            0.000000\n",
       "14            0.000000\n",
       "13            0.000000\n",
       "12            0.000000\n",
       "11            0.000000\n",
       "10            0.000000\n",
       "9             0.000000\n",
       "zip801        0.000000\n",
       "zip804        0.000000\n",
       "6             0.000000\n",
       "5             0.000000\n",
       "4             0.000000\n",
       "3             0.000000\n",
       "2             0.000000\n",
       "1             0.000000\n",
       "owntaxprod    0.000000\n",
       "7             0.000000\n",
       "version1      0.070501\n",
       "dollars       0.123625\n",
       "upgraded      0.125192\n",
       "numords       0.163707\n",
       "sincepurch    0.246547\n",
       "last          0.270428\n",
       "dtype: float64"
      ]
     },
     "execution_count": 165,
     "metadata": {},
     "output_type": "execute_result"
    }
   ],
   "source": [
    "importances_rf = pd.Series(rf.feature_importances_, index=intuit75k_cols)\n",
    "sorted_importances_rf = importances_rf.sort_values()\n",
    "sorted_importances_rf.plot(kind=\"barh\", color=\"lightgreen\")\n",
    "plt.show()\n",
    "sorted_importances_rf"
   ]
  },
  {
   "cell_type": "code",
   "execution_count": 166,
   "metadata": {},
   "outputs": [
    {
     "name": "stdout",
     "output_type": "stream",
     "text": [
      "ROC AUC is 0.6769772802221747\n",
      "Profit is 7310.4000000000015\n"
     ]
    },
    {
     "data": {
      "text/html": [
       "<div>\n",
       "<style scoped>\n",
       "    .dataframe tbody tr th:only-of-type {\n",
       "        vertical-align: middle;\n",
       "    }\n",
       "\n",
       "    .dataframe tbody tr th {\n",
       "        vertical-align: top;\n",
       "    }\n",
       "\n",
       "    .dataframe thead th {\n",
       "        text-align: right;\n",
       "    }\n",
       "</style>\n",
       "<table border=\"1\" class=\"dataframe\">\n",
       "  <thead>\n",
       "    <tr style=\"text-align: right;\">\n",
       "      <th>predicted_res_rf</th>\n",
       "      <th>0</th>\n",
       "      <th>1</th>\n",
       "      <th>Total</th>\n",
       "    </tr>\n",
       "    <tr>\n",
       "      <th>res_y</th>\n",
       "      <th></th>\n",
       "      <th></th>\n",
       "      <th></th>\n",
       "    </tr>\n",
       "  </thead>\n",
       "  <tbody>\n",
       "    <tr>\n",
       "      <th>0</th>\n",
       "      <td>9671</td>\n",
       "      <td>11726</td>\n",
       "      <td>21397</td>\n",
       "    </tr>\n",
       "    <tr>\n",
       "      <th>1</th>\n",
       "      <td>269</td>\n",
       "      <td>834</td>\n",
       "      <td>1103</td>\n",
       "    </tr>\n",
       "    <tr>\n",
       "      <th>Total</th>\n",
       "      <td>9940</td>\n",
       "      <td>12560</td>\n",
       "      <td>22500</td>\n",
       "    </tr>\n",
       "  </tbody>\n",
       "</table>\n",
       "</div>"
      ],
      "text/plain": [
       "predicted_res_rf     0      1  Total\n",
       "res_y                               \n",
       "0                 9671  11726  21397\n",
       "1                  269    834   1103\n",
       "Total             9940  12560  22500"
      ]
     },
     "execution_count": 166,
     "metadata": {},
     "output_type": "execute_result"
    }
   ],
   "source": [
    "roc_rf, profit_rf, cm_rf = performance_profit(X_test, y_test, rf, \"rf\", breakeven)\n",
    "cm_rf"
   ]
  },
  {
   "cell_type": "markdown",
   "metadata": {},
   "source": [
    "### Grid Search Cross Validation"
   ]
  },
  {
   "cell_type": "code",
   "execution_count": 26,
   "metadata": {},
   "outputs": [
    {
     "data": {
      "text/plain": [
       "{'bootstrap': True,\n",
       " 'ccp_alpha': 0.0,\n",
       " 'class_weight': None,\n",
       " 'criterion': 'gini',\n",
       " 'max_depth': None,\n",
       " 'max_features': 3,\n",
       " 'max_leaf_nodes': None,\n",
       " 'max_samples': None,\n",
       " 'min_impurity_decrease': 0.0,\n",
       " 'min_impurity_split': None,\n",
       " 'min_samples_leaf': 0.12,\n",
       " 'min_samples_split': 2,\n",
       " 'min_weight_fraction_leaf': 0.0,\n",
       " 'n_estimators': 400,\n",
       " 'n_jobs': None,\n",
       " 'oob_score': True,\n",
       " 'random_state': 1234,\n",
       " 'verbose': 0,\n",
       " 'warm_start': False}"
      ]
     },
     "execution_count": 26,
     "metadata": {},
     "output_type": "execute_result"
    }
   ],
   "source": [
    "rf.get_params()"
   ]
  },
  {
   "cell_type": "code",
   "execution_count": 35,
   "metadata": {},
   "outputs": [],
   "source": [
    "params_rf = {\n",
    "    \"criterion\": [\"gini\", \"entropy\"],\n",
    "    \"bootstrap\": [True, False],\n",
    "    \"max_depth\": [10, 20, 30, 40],\n",
    "    \"max_features\": [\"sqrt\"],\n",
    "    \"min_samples_leaf\": [1, 2, 4],\n",
    "    \"min_samples_split\": [2, 5, 10],\n",
    "    \"n_estimators\": [200, 400, 600, 800],\n",
    "    \"class_weight\": [\"balanced\", \"balanced_subsample\"],\n",
    "}"
   ]
  },
  {
   "cell_type": "code",
   "execution_count": 36,
   "metadata": {},
   "outputs": [],
   "source": [
    "grid_rf = GridSearchCV(\n",
    "    estimator=rf,\n",
    "    param_grid=params_rf,\n",
    "    scoring=profit_score,\n",
    "    cv=5,\n",
    "    n_jobs=8,\n",
    "    verbose=5,\n",
    "    refit=\"AUC\",\n",
    ")"
   ]
  },
  {
   "cell_type": "code",
   "execution_count": null,
   "metadata": {},
   "outputs": [
    {
     "name": "stdout",
     "output_type": "stream",
     "text": [
      "Fitting 5 folds for each of 1152 candidates, totalling 5760 fits\n"
     ]
    },
    {
     "name": "stderr",
     "output_type": "stream",
     "text": [
      "/usr/local/lib/python3.8/dist-packages/joblib/externals/loky/process_executor.py:688: UserWarning: A worker stopped while some jobs were given to the executor. This can be caused by a too short worker timeout or by a memory leak.\n",
      "  warnings.warn(\n"
     ]
    }
   ],
   "source": [
    "%%time\n",
    "grid_rf.fit(X_train, y_train)"
   ]
  },
  {
   "cell_type": "code",
   "execution_count": 52,
   "metadata": {},
   "outputs": [
    {
     "name": "stdout",
     "output_type": "stream",
     "text": [
      "Fitting 5 folds for each of 10 candidates, totalling 50 fits\n"
     ]
    },
    {
     "name": "stderr",
     "output_type": "stream",
     "text": [
      "/usr/local/lib/python3.8/dist-packages/joblib/externals/loky/process_executor.py:688: UserWarning: A worker stopped while some jobs were given to the executor. This can be caused by a too short worker timeout or by a memory leak.\n",
      "  warnings.warn(\n",
      "/usr/local/lib/python3.8/dist-packages/sklearn/model_selection/_search.py:918: UserWarning: One or more of the test scores are non-finite: [16082.478       nan       nan 15957.48  15811.716 15781.47        nan\n",
      "       nan 15905.376 15447.   ]\n",
      "  warnings.warn(\n"
     ]
    },
    {
     "data": {
      "text/plain": [
       "RandomizedSearchCV(cv=5,\n",
       "                   estimator=RandomForestClassifier(max_features=3,\n",
       "                                                    min_samples_leaf=0.12,\n",
       "                                                    n_estimators=400,\n",
       "                                                    oob_score=True,\n",
       "                                                    random_state=123),\n",
       "                   n_jobs=8,\n",
       "                   param_distributions={'bootstrap': [True, False],\n",
       "                                        'class_weight': ['balanced',\n",
       "                                                         'balanced_subsample'],\n",
       "                                        'criterion': ['gini', 'entropy'],\n",
       "                                        'max_depth': [10, 20, 30, 40, 50, 60,\n",
       "                                                      70, 80, 90, 100, None],\n",
       "                                        'max_features': ['auto', 'sqrt'],\n",
       "                                        'min_samples_leaf': [1, 2, 4],\n",
       "                                        'min_samples_split': [2, 5, 10],\n",
       "                                        'n_estimators': [200, 400, 600, 800,\n",
       "                                                         1000, 1200, 1400, 1600,\n",
       "                                                         1800, 2000]},\n",
       "                   scoring=make_scorer(profit_scoring, needs_proba=True),\n",
       "                   verbose=5)"
      ]
     },
     "execution_count": 52,
     "metadata": {},
     "output_type": "execute_result"
    }
   ],
   "source": [
    "randomized_rf = RandomizedSearchCV(\n",
    "    estimator=rf,\n",
    "    param_distributions=params_rf,\n",
    "    scoring=profit_score,\n",
    "    cv=5,\n",
    "    n_jobs=8,\n",
    "    verbose=5,\n",
    ")\n",
    "#     scoring=\"roc_auc\",verbose=1, estimator=clf, param_distributions=gbm_param_grid, n_jobs=6)\n",
    "randomized_rf.fit(X_train, y_train)"
   ]
  },
  {
   "cell_type": "code",
   "execution_count": 53,
   "metadata": {},
   "outputs": [
    {
     "name": "stdout",
     "output_type": "stream",
     "text": [
      "Best hyerparameters:\n",
      " {'n_estimators': 200, 'min_samples_split': 5, 'min_samples_leaf': 4, 'max_features': 'sqrt', 'max_depth': 50, 'criterion': 'gini', 'class_weight': 'balanced', 'bootstrap': True}\n"
     ]
    }
   ],
   "source": [
    "best_hyperparams = randomized_rf.best_params_\n",
    "print(\"Best hyerparameters:\\n\", best_hyperparams)"
   ]
  },
  {
   "cell_type": "code",
   "execution_count": 54,
   "metadata": {},
   "outputs": [],
   "source": [
    "best_model_rf = randomized_rf.best_estimator_"
   ]
  },
  {
   "cell_type": "code",
   "execution_count": null,
   "metadata": {},
   "outputs": [],
   "source": [
    "roc_rfbest, profit_rfbest, cm_rfbest = performance_profit(\n",
    "    X_test, y_test, best_model_rf, \"rfbest\", breakeven\n",
    ")\n",
    "cm_rfbest"
   ]
  },
  {
   "cell_type": "markdown",
   "metadata": {},
   "source": [
    "## Stochastic Gradient Boosting (SGB)"
   ]
  },
  {
   "cell_type": "markdown",
   "metadata": {},
   "source": [
    "### Fitting the Model"
   ]
  },
  {
   "cell_type": "code",
   "execution_count": 167,
   "metadata": {},
   "outputs": [
    {
     "name": "stderr",
     "output_type": "stream",
     "text": [
      "/usr/local/lib/python3.8/dist-packages/sklearn/utils/validation.py:63: DataConversionWarning: A column-vector y was passed when a 1d array was expected. Please change the shape of y to (n_samples, ), for example using ravel().\n",
      "  return f(*args, **kwargs)\n"
     ]
    },
    {
     "name": "stdout",
     "output_type": "stream",
     "text": [
      "Test set RMSE: 0.22\n"
     ]
    }
   ],
   "source": [
    "SEED = 1234\n",
    "\n",
    "\n",
    "sgbt = GradientBoostingClassifier(\n",
    "    max_depth=4,\n",
    "    subsample=0.8,\n",
    "    max_features=\"sqrt\",\n",
    "    n_estimators=100,\n",
    "    learning_rate=0.05,\n",
    "    min_samples_split=500,\n",
    "    min_samples_leaf=100,\n",
    "    random_state=SEED,\n",
    ")\n",
    "\n",
    "sgbt.fit(X_train, y_train)\n",
    "y_pred = sgbt.predict(X_test)\n",
    "rmse_test = MSE(y_test, y_pred) ** (1 / 2)\n",
    "print(\"Test set RMSE: {:.2f}\".format(rmse_test))"
   ]
  },
  {
   "cell_type": "code",
   "execution_count": 168,
   "metadata": {},
   "outputs": [
    {
     "name": "stdout",
     "output_type": "stream",
     "text": [
      "ROC AUC is 0.7669921021202123\n",
      "Profit is 13391.49\n"
     ]
    },
    {
     "data": {
      "text/html": [
       "<div>\n",
       "<style scoped>\n",
       "    .dataframe tbody tr th:only-of-type {\n",
       "        vertical-align: middle;\n",
       "    }\n",
       "\n",
       "    .dataframe tbody tr th {\n",
       "        vertical-align: top;\n",
       "    }\n",
       "\n",
       "    .dataframe thead th {\n",
       "        text-align: right;\n",
       "    }\n",
       "</style>\n",
       "<table border=\"1\" class=\"dataframe\">\n",
       "  <thead>\n",
       "    <tr style=\"text-align: right;\">\n",
       "      <th>predicted_res_sgbt</th>\n",
       "      <th>0</th>\n",
       "      <th>1</th>\n",
       "      <th>Total</th>\n",
       "    </tr>\n",
       "    <tr>\n",
       "      <th>res_y</th>\n",
       "      <th></th>\n",
       "      <th></th>\n",
       "      <th></th>\n",
       "    </tr>\n",
       "  </thead>\n",
       "  <tbody>\n",
       "    <tr>\n",
       "      <th>0</th>\n",
       "      <td>15829</td>\n",
       "      <td>5568</td>\n",
       "      <td>21397</td>\n",
       "    </tr>\n",
       "    <tr>\n",
       "      <th>1</th>\n",
       "      <td>360</td>\n",
       "      <td>743</td>\n",
       "      <td>1103</td>\n",
       "    </tr>\n",
       "    <tr>\n",
       "      <th>Total</th>\n",
       "      <td>16189</td>\n",
       "      <td>6311</td>\n",
       "      <td>22500</td>\n",
       "    </tr>\n",
       "  </tbody>\n",
       "</table>\n",
       "</div>"
      ],
      "text/plain": [
       "predicted_res_sgbt      0     1  Total\n",
       "res_y                                 \n",
       "0                   15829  5568  21397\n",
       "1                     360   743   1103\n",
       "Total               16189  6311  22500"
      ]
     },
     "execution_count": 168,
     "metadata": {},
     "output_type": "execute_result"
    }
   ],
   "source": [
    "roc_sgbt, profit_sgbt, cm_sgbt = performance_profit(\n",
    "    X_test, y_test, sgbt, \"sgbt\", breakeven\n",
    ")\n",
    "cm_sgbt"
   ]
  },
  {
   "cell_type": "code",
   "execution_count": 169,
   "metadata": {},
   "outputs": [],
   "source": [
    "# Prediction probabilities on the test set\n",
    "pred = sgbt.predict_proba(X_test)\n",
    "probs = pd.Series([p[1] for p in pred])\n",
    "\n",
    "# Prediction probabilities on the train set\n",
    "pred_train = sgbt.predict_proba(X_train)\n",
    "probs_train = pd.Series([p[1] for p in pred_train])"
   ]
  },
  {
   "cell_type": "code",
   "execution_count": 170,
   "metadata": {},
   "outputs": [],
   "source": [
    "y_test = pd.DataFrame(y_test)\n",
    "pred_prof = pd.Series((probs))\n",
    "pred_prof.name = \"predictions_sgb_test\"\n",
    "\n",
    "pred_prof_train = pd.Series((probs_train))\n",
    "pred_prof_train.name = \"predictions_sgb_train\"\n",
    "\n",
    "df_test_sgb = y_test.join(pred_prof, how=\"inner\")"
   ]
  },
  {
   "cell_type": "markdown",
   "metadata": {},
   "source": [
    "## Neural Network using Keras"
   ]
  },
  {
   "cell_type": "markdown",
   "metadata": {},
   "source": [
    "### Data Cleaning"
   ]
  },
  {
   "cell_type": "code",
   "execution_count": 171,
   "metadata": {},
   "outputs": [],
   "source": [
    "## loading the data - this dataset must NOT be changed\n",
    "intuit75k = pd.read_pickle(\"data/intuit75k.pkl\")\n",
    "intuit75k[\"res1_yes\"] = (intuit75k[\"res1\"] == \"Yes\").astype(int)"
   ]
  },
  {
   "cell_type": "code",
   "execution_count": 172,
   "metadata": {},
   "outputs": [],
   "source": [
    "# Standardization\n",
    "\n",
    "scaler = preprocessing.StandardScaler()\n",
    "sf = scaler.fit(\n",
    "    intuit75k.query(\"training==1\")[[\"numords\", \"dollars\", \"last\", \"sincepurch\"]]\n",
    ")\n",
    "intuit75k[[\"numords\", \"dollars\", \"last\", \"sincepurch\"]] = sf.transform(\n",
    "    intuit75k[[\"numords\", \"dollars\", \"last\", \"sincepurch\"]]\n",
    ")"
   ]
  },
  {
   "cell_type": "code",
   "execution_count": 173,
   "metadata": {},
   "outputs": [],
   "source": [
    "intuit75k.zip_bins = intuit75k.zip_bins.astype(object)"
   ]
  },
  {
   "cell_type": "code",
   "execution_count": 174,
   "metadata": {},
   "outputs": [],
   "source": [
    "# One-hot encoding of categorical variables\n",
    "intuit75k = intuit75k.join(pd.get_dummies(intuit75k.zip_bins), how=\"inner\")"
   ]
  },
  {
   "cell_type": "code",
   "execution_count": 175,
   "metadata": {},
   "outputs": [],
   "source": [
    "# Extracting zips 00801 and 00804\n",
    "intuit75k = intuit75k.assign(\n",
    "    zip801=(intuit75k[\"zip\"] == \"00801\").astype(int),\n",
    "    zip804=(intuit75k[\"zip\"] == \"00804\").astype(int),\n",
    ")"
   ]
  },
  {
   "cell_type": "code",
   "execution_count": 176,
   "metadata": {},
   "outputs": [
    {
     "data": {
      "text/html": [
       "<div>\n",
       "<style scoped>\n",
       "    .dataframe tbody tr th:only-of-type {\n",
       "        vertical-align: middle;\n",
       "    }\n",
       "\n",
       "    .dataframe tbody tr th {\n",
       "        vertical-align: top;\n",
       "    }\n",
       "\n",
       "    .dataframe thead th {\n",
       "        text-align: right;\n",
       "    }\n",
       "</style>\n",
       "<table border=\"1\" class=\"dataframe\">\n",
       "  <thead>\n",
       "    <tr style=\"text-align: right;\">\n",
       "      <th></th>\n",
       "      <th>index</th>\n",
       "      <th>id</th>\n",
       "      <th>zip</th>\n",
       "      <th>zip_bins</th>\n",
       "      <th>sex</th>\n",
       "      <th>bizflag</th>\n",
       "      <th>numords</th>\n",
       "      <th>dollars</th>\n",
       "      <th>last</th>\n",
       "      <th>sincepurch</th>\n",
       "      <th>...</th>\n",
       "      <th>13</th>\n",
       "      <th>14</th>\n",
       "      <th>15</th>\n",
       "      <th>16</th>\n",
       "      <th>17</th>\n",
       "      <th>18</th>\n",
       "      <th>19</th>\n",
       "      <th>20</th>\n",
       "      <th>zip801</th>\n",
       "      <th>zip804</th>\n",
       "    </tr>\n",
       "  </thead>\n",
       "  <tbody>\n",
       "    <tr>\n",
       "      <th>0</th>\n",
       "      <td>0</td>\n",
       "      <td>1</td>\n",
       "      <td>94553</td>\n",
       "      <td>18</td>\n",
       "      <td>Male</td>\n",
       "      <td>0</td>\n",
       "      <td>-0.057079</td>\n",
       "      <td>0.207902</td>\n",
       "      <td>-1.137183</td>\n",
       "      <td>-0.360809</td>\n",
       "      <td>...</td>\n",
       "      <td>0</td>\n",
       "      <td>0</td>\n",
       "      <td>0</td>\n",
       "      <td>0</td>\n",
       "      <td>0</td>\n",
       "      <td>1</td>\n",
       "      <td>0</td>\n",
       "      <td>0</td>\n",
       "      <td>0</td>\n",
       "      <td>0</td>\n",
       "    </tr>\n",
       "    <tr>\n",
       "      <th>1</th>\n",
       "      <td>3</td>\n",
       "      <td>4</td>\n",
       "      <td>02125</td>\n",
       "      <td>1</td>\n",
       "      <td>Male</td>\n",
       "      <td>0</td>\n",
       "      <td>-0.863720</td>\n",
       "      <td>-0.873735</td>\n",
       "      <td>0.119783</td>\n",
       "      <td>-1.458194</td>\n",
       "      <td>...</td>\n",
       "      <td>0</td>\n",
       "      <td>0</td>\n",
       "      <td>0</td>\n",
       "      <td>0</td>\n",
       "      <td>0</td>\n",
       "      <td>0</td>\n",
       "      <td>0</td>\n",
       "      <td>0</td>\n",
       "      <td>0</td>\n",
       "      <td>0</td>\n",
       "    </tr>\n",
       "    <tr>\n",
       "      <th>2</th>\n",
       "      <td>5</td>\n",
       "      <td>6</td>\n",
       "      <td>12309</td>\n",
       "      <td>3</td>\n",
       "      <td>Male</td>\n",
       "      <td>0</td>\n",
       "      <td>-0.863720</td>\n",
       "      <td>-0.898458</td>\n",
       "      <td>0.119783</td>\n",
       "      <td>0.138003</td>\n",
       "      <td>...</td>\n",
       "      <td>0</td>\n",
       "      <td>0</td>\n",
       "      <td>0</td>\n",
       "      <td>0</td>\n",
       "      <td>0</td>\n",
       "      <td>0</td>\n",
       "      <td>0</td>\n",
       "      <td>0</td>\n",
       "      <td>0</td>\n",
       "      <td>0</td>\n",
       "    </tr>\n",
       "    <tr>\n",
       "      <th>3</th>\n",
       "      <td>7</td>\n",
       "      <td>8</td>\n",
       "      <td>55122</td>\n",
       "      <td>11</td>\n",
       "      <td>Male</td>\n",
       "      <td>1</td>\n",
       "      <td>-0.863720</td>\n",
       "      <td>-0.842831</td>\n",
       "      <td>-1.241930</td>\n",
       "      <td>0.138003</td>\n",
       "      <td>...</td>\n",
       "      <td>0</td>\n",
       "      <td>0</td>\n",
       "      <td>0</td>\n",
       "      <td>0</td>\n",
       "      <td>0</td>\n",
       "      <td>0</td>\n",
       "      <td>0</td>\n",
       "      <td>0</td>\n",
       "      <td>0</td>\n",
       "      <td>0</td>\n",
       "    </tr>\n",
       "    <tr>\n",
       "      <th>4</th>\n",
       "      <td>9</td>\n",
       "      <td>10</td>\n",
       "      <td>20036</td>\n",
       "      <td>5</td>\n",
       "      <td>Male</td>\n",
       "      <td>0</td>\n",
       "      <td>0.749561</td>\n",
       "      <td>-0.237115</td>\n",
       "      <td>-0.613447</td>\n",
       "      <td>-0.660096</td>\n",
       "      <td>...</td>\n",
       "      <td>0</td>\n",
       "      <td>0</td>\n",
       "      <td>0</td>\n",
       "      <td>0</td>\n",
       "      <td>0</td>\n",
       "      <td>0</td>\n",
       "      <td>0</td>\n",
       "      <td>0</td>\n",
       "      <td>0</td>\n",
       "      <td>0</td>\n",
       "    </tr>\n",
       "    <tr>\n",
       "      <th>...</th>\n",
       "      <td>...</td>\n",
       "      <td>...</td>\n",
       "      <td>...</td>\n",
       "      <td>...</td>\n",
       "      <td>...</td>\n",
       "      <td>...</td>\n",
       "      <td>...</td>\n",
       "      <td>...</td>\n",
       "      <td>...</td>\n",
       "      <td>...</td>\n",
       "      <td>...</td>\n",
       "      <td>...</td>\n",
       "      <td>...</td>\n",
       "      <td>...</td>\n",
       "      <td>...</td>\n",
       "      <td>...</td>\n",
       "      <td>...</td>\n",
       "      <td>...</td>\n",
       "      <td>...</td>\n",
       "      <td>...</td>\n",
       "      <td>...</td>\n",
       "    </tr>\n",
       "    <tr>\n",
       "      <th>52495</th>\n",
       "      <td>74994</td>\n",
       "      <td>74995</td>\n",
       "      <td>60610</td>\n",
       "      <td>11</td>\n",
       "      <td>Male</td>\n",
       "      <td>1</td>\n",
       "      <td>-0.863720</td>\n",
       "      <td>-0.224753</td>\n",
       "      <td>0.434024</td>\n",
       "      <td>-1.358431</td>\n",
       "      <td>...</td>\n",
       "      <td>0</td>\n",
       "      <td>0</td>\n",
       "      <td>0</td>\n",
       "      <td>0</td>\n",
       "      <td>0</td>\n",
       "      <td>0</td>\n",
       "      <td>0</td>\n",
       "      <td>0</td>\n",
       "      <td>0</td>\n",
       "      <td>0</td>\n",
       "    </tr>\n",
       "    <tr>\n",
       "      <th>52496</th>\n",
       "      <td>74995</td>\n",
       "      <td>74996</td>\n",
       "      <td>28205</td>\n",
       "      <td>6</td>\n",
       "      <td>Male</td>\n",
       "      <td>1</td>\n",
       "      <td>1.556202</td>\n",
       "      <td>1.468781</td>\n",
       "      <td>-1.137183</td>\n",
       "      <td>-0.061522</td>\n",
       "      <td>...</td>\n",
       "      <td>0</td>\n",
       "      <td>0</td>\n",
       "      <td>0</td>\n",
       "      <td>0</td>\n",
       "      <td>0</td>\n",
       "      <td>0</td>\n",
       "      <td>0</td>\n",
       "      <td>0</td>\n",
       "      <td>0</td>\n",
       "      <td>0</td>\n",
       "    </tr>\n",
       "    <tr>\n",
       "      <th>52497</th>\n",
       "      <td>74996</td>\n",
       "      <td>74997</td>\n",
       "      <td>94806</td>\n",
       "      <td>18</td>\n",
       "      <td>Male</td>\n",
       "      <td>0</td>\n",
       "      <td>-0.863720</td>\n",
       "      <td>-1.090062</td>\n",
       "      <td>2.005232</td>\n",
       "      <td>1.833961</td>\n",
       "      <td>...</td>\n",
       "      <td>0</td>\n",
       "      <td>0</td>\n",
       "      <td>0</td>\n",
       "      <td>0</td>\n",
       "      <td>0</td>\n",
       "      <td>1</td>\n",
       "      <td>0</td>\n",
       "      <td>0</td>\n",
       "      <td>0</td>\n",
       "      <td>0</td>\n",
       "    </tr>\n",
       "    <tr>\n",
       "      <th>52498</th>\n",
       "      <td>74997</td>\n",
       "      <td>74998</td>\n",
       "      <td>72958</td>\n",
       "      <td>13</td>\n",
       "      <td>Female</td>\n",
       "      <td>1</td>\n",
       "      <td>-0.863720</td>\n",
       "      <td>-0.471984</td>\n",
       "      <td>-1.241930</td>\n",
       "      <td>0.337527</td>\n",
       "      <td>...</td>\n",
       "      <td>1</td>\n",
       "      <td>0</td>\n",
       "      <td>0</td>\n",
       "      <td>0</td>\n",
       "      <td>0</td>\n",
       "      <td>0</td>\n",
       "      <td>0</td>\n",
       "      <td>0</td>\n",
       "      <td>0</td>\n",
       "      <td>0</td>\n",
       "    </tr>\n",
       "    <tr>\n",
       "      <th>52499</th>\n",
       "      <td>74998</td>\n",
       "      <td>74999</td>\n",
       "      <td>29464</td>\n",
       "      <td>6</td>\n",
       "      <td>Male</td>\n",
       "      <td>0</td>\n",
       "      <td>-0.863720</td>\n",
       "      <td>-0.286561</td>\n",
       "      <td>0.434024</td>\n",
       "      <td>1.135625</td>\n",
       "      <td>...</td>\n",
       "      <td>0</td>\n",
       "      <td>0</td>\n",
       "      <td>0</td>\n",
       "      <td>0</td>\n",
       "      <td>0</td>\n",
       "      <td>0</td>\n",
       "      <td>0</td>\n",
       "      <td>0</td>\n",
       "      <td>0</td>\n",
       "      <td>0</td>\n",
       "    </tr>\n",
       "  </tbody>\n",
       "</table>\n",
       "<p>52500 rows × 38 columns</p>\n",
       "</div>"
      ],
      "text/plain": [
       "       index     id    zip zip_bins     sex  bizflag   numords   dollars  \\\n",
       "0          0      1  94553       18    Male        0 -0.057079  0.207902   \n",
       "1          3      4  02125        1    Male        0 -0.863720 -0.873735   \n",
       "2          5      6  12309        3    Male        0 -0.863720 -0.898458   \n",
       "3          7      8  55122       11    Male        1 -0.863720 -0.842831   \n",
       "4          9     10  20036        5    Male        0  0.749561 -0.237115   \n",
       "...      ...    ...    ...      ...     ...      ...       ...       ...   \n",
       "52495  74994  74995  60610       11    Male        1 -0.863720 -0.224753   \n",
       "52496  74995  74996  28205        6    Male        1  1.556202  1.468781   \n",
       "52497  74996  74997  94806       18    Male        0 -0.863720 -1.090062   \n",
       "52498  74997  74998  72958       13  Female        1 -0.863720 -0.471984   \n",
       "52499  74998  74999  29464        6    Male        0 -0.863720 -0.286561   \n",
       "\n",
       "           last  sincepurch  ...  13  14  15 16  17  18  19  20  zip801  \\\n",
       "0     -1.137183   -0.360809  ...   0   0   0  0   0   1   0   0       0   \n",
       "1      0.119783   -1.458194  ...   0   0   0  0   0   0   0   0       0   \n",
       "2      0.119783    0.138003  ...   0   0   0  0   0   0   0   0       0   \n",
       "3     -1.241930    0.138003  ...   0   0   0  0   0   0   0   0       0   \n",
       "4     -0.613447   -0.660096  ...   0   0   0  0   0   0   0   0       0   \n",
       "...         ...         ...  ...  ..  ..  .. ..  ..  ..  ..  ..     ...   \n",
       "52495  0.434024   -1.358431  ...   0   0   0  0   0   0   0   0       0   \n",
       "52496 -1.137183   -0.061522  ...   0   0   0  0   0   0   0   0       0   \n",
       "52497  2.005232    1.833961  ...   0   0   0  0   0   1   0   0       0   \n",
       "52498 -1.241930    0.337527  ...   1   0   0  0   0   0   0   0       0   \n",
       "52499  0.434024    1.135625  ...   0   0   0  0   0   0   0   0       0   \n",
       "\n",
       "       zip804  \n",
       "0           0  \n",
       "1           0  \n",
       "2           0  \n",
       "3           0  \n",
       "4           0  \n",
       "...       ...  \n",
       "52495       0  \n",
       "52496       0  \n",
       "52497       0  \n",
       "52498       0  \n",
       "52499       0  \n",
       "\n",
       "[52500 rows x 38 columns]"
      ]
     },
     "execution_count": 176,
     "metadata": {},
     "output_type": "execute_result"
    }
   ],
   "source": [
    "# Splitting train and test dataset\n",
    "intuit_train = intuit75k.query(\"training == 1\").reset_index()\n",
    "intuit_test = intuit75k.query(\"training == 0\").reset_index()\n",
    "intuit_train"
   ]
  },
  {
   "cell_type": "code",
   "execution_count": 177,
   "metadata": {},
   "outputs": [],
   "source": [
    "# Creating X and Y datasets\n",
    "X_train = intuit_train.drop(\n",
    "    columns=[\n",
    "        \"id\",\n",
    "        \"zip\",\n",
    "        \"zip_bins\",\n",
    "        \"res1\",\n",
    "        \"res1_yes\",\n",
    "        \"training\",\n",
    "        \"sex\",\n",
    "        \"index\",\n",
    "        \"bizflag\",\n",
    "    ]\n",
    ")\n",
    "y_train = intuit_train[[\"res1_yes\"]]\n",
    "X_test = intuit_test.drop(\n",
    "    columns=[\n",
    "        \"id\",\n",
    "        \"zip\",\n",
    "        \"zip_bins\",\n",
    "        \"res1\",\n",
    "        \"res1_yes\",\n",
    "        \"training\",\n",
    "        \"sex\",\n",
    "        \"index\",\n",
    "        \"bizflag\",\n",
    "    ]\n",
    ")\n",
    "y_test = intuit_test[[\"res1_yes\"]]"
   ]
  },
  {
   "cell_type": "markdown",
   "metadata": {},
   "source": [
    "### Fitting the Model"
   ]
  },
  {
   "cell_type": "code",
   "execution_count": 178,
   "metadata": {},
   "outputs": [
    {
     "data": {
      "text/plain": [
       "29"
      ]
     },
     "execution_count": 178,
     "metadata": {},
     "output_type": "execute_result"
    }
   ],
   "source": [
    "# Number of columns to define input shape of model\n",
    "ncols = X_test.shape[1]\n",
    "ncols"
   ]
  },
  {
   "cell_type": "code",
   "execution_count": 179,
   "metadata": {},
   "outputs": [],
   "source": [
    "# Model creation\n",
    "model = Sequential()\n",
    "model.add(Dense(50, activation=\"relu\", input_shape=(ncols,)))\n",
    "model.add(Dense(50, activation=\"relu\"))\n",
    "model.add(Dense(50, activation=\"relu\"))\n",
    "model.add(Dense(2, activation=\"softmax\"))"
   ]
  },
  {
   "cell_type": "code",
   "execution_count": 180,
   "metadata": {},
   "outputs": [
    {
     "name": "stdout",
     "output_type": "stream",
     "text": [
      "1641/1641 [==============================] - 5s 3ms/step - loss: 0.1942 - accuracy: 0.9522\n"
     ]
    },
    {
     "data": {
      "text/plain": [
       "<tensorflow.python.keras.callbacks.History at 0x7fdd5444ca60>"
      ]
     },
     "execution_count": 180,
     "metadata": {},
     "output_type": "execute_result"
    }
   ],
   "source": [
    "# Model compilation and fit\n",
    "model.compile(optimizer=\"adam\", loss=\"categorical_crossentropy\", metrics=[\"accuracy\"])\n",
    "model.fit(X_train, to_categorical(y_train))"
   ]
  },
  {
   "cell_type": "code",
   "execution_count": 181,
   "metadata": {},
   "outputs": [],
   "source": [
    "# Predictions from model\n",
    "predictions = model.predict(X_test)\n",
    "prob_true = pd.Series([p[1] for p in predictions])\n",
    "prob_true.name = \"predictions_nn_test\""
   ]
  },
  {
   "cell_type": "code",
   "execution_count": 182,
   "metadata": {},
   "outputs": [],
   "source": [
    "# Prob to respond\n",
    "df_test = y_test.join(prob_true, how=\"inner\")"
   ]
  },
  {
   "cell_type": "code",
   "execution_count": 183,
   "metadata": {},
   "outputs": [],
   "source": [
    "# Calculating breakeven response rate\n",
    "breakeven = 1.41 / 30"
   ]
  },
  {
   "cell_type": "code",
   "execution_count": 184,
   "metadata": {},
   "outputs": [
    {
     "name": "stdout",
     "output_type": "stream",
     "text": [
      "TP: 762\n",
      "TN: 14766\n",
      "FP: 6631\n",
      "FN: 341\n"
     ]
    }
   ],
   "source": [
    "# Calculating confusion matrix\n",
    "TP, FP, TN, FN, contact = confusion(\n",
    "    df_test, \"res1_yes\", 1, \"predictions_nn_test\", 1.41, 30\n",
    ")\n",
    "\n",
    "print(f\"TP: {TP}\")\n",
    "print(f\"TN: {TN}\")\n",
    "print(f\"FP: {FP}\")\n",
    "print(f\"FN: {FN}\")"
   ]
  },
  {
   "cell_type": "code",
   "execution_count": 186,
   "metadata": {},
   "outputs": [
    {
     "data": {
      "text/plain": [
       "0.7576636619354753"
      ]
     },
     "execution_count": 186,
     "metadata": {},
     "output_type": "execute_result"
    }
   ],
   "source": [
    "roc_auc_score(df_test['res1_yes'],df_test['predictions_nn_test'] )"
   ]
  },
  {
   "cell_type": "code",
   "execution_count": 187,
   "metadata": {},
   "outputs": [
    {
     "name": "stdout",
     "output_type": "stream",
     "text": [
      "The profit on the test data is $12435.87\n"
     ]
    }
   ],
   "source": [
    "# Calculating profit on test dataset\n",
    "p = profit_max(df_test, \"res1_yes\", 1, \"predictions_nn_test\", 1.41, 30)\n",
    "\n",
    "print(f\"The profit on the test data is ${round(p,3)}\")"
   ]
  },
  {
   "cell_type": "code",
   "execution_count": 188,
   "metadata": {},
   "outputs": [],
   "source": [
    "df_test_nn = df_test"
   ]
  },
  {
   "cell_type": "markdown",
   "metadata": {},
   "source": [
    "### Ensemble Model"
   ]
  },
  {
   "cell_type": "code",
   "execution_count": 641,
   "metadata": {},
   "outputs": [],
   "source": [
    "df_test = df_test_xgb[[\"id\", \"res1_yes\", \"predictions_xgb_1_test\"]]"
   ]
  },
  {
   "cell_type": "code",
   "execution_count": 642,
   "metadata": {},
   "outputs": [],
   "source": [
    "df_test = df_test.join(df_test_sgb[[\"predictions_sgb_test\"]], how=\"inner\")"
   ]
  },
  {
   "cell_type": "code",
   "execution_count": 643,
   "metadata": {},
   "outputs": [],
   "source": [
    "df_test = df_test.join(df_test_nn[[\"predictions_nn_test\"]], how=\"inner\")"
   ]
  },
  {
   "cell_type": "code",
   "execution_count": 644,
   "metadata": {},
   "outputs": [],
   "source": [
    "df_test[\"predictions_ensemble\"] = (\n",
    "    df_test[\"predictions_xgb_1_test\"] + df_test[\"predictions_sgb_test\"]\n",
    ") / 2"
   ]
  },
  {
   "cell_type": "code",
   "execution_count": 645,
   "metadata": {},
   "outputs": [
    {
     "name": "stdout",
     "output_type": "stream",
     "text": [
      "Test data auc is 0.7679317276623159\n"
     ]
    }
   ],
   "source": [
    "fpr, tpr, thresholds = metrics.roc_curve(\n",
    "    y_test.res1_yes, df_test[\"predictions_ensemble\"]\n",
    ")\n",
    "print(f\"Test data auc is {metrics.auc(fpr,tpr)}\")"
   ]
  },
  {
   "cell_type": "code",
   "execution_count": 646,
   "metadata": {},
   "outputs": [
    {
     "name": "stdout",
     "output_type": "stream",
     "text": [
      "The profit on the test data is $13584.81\n"
     ]
    }
   ],
   "source": [
    "# Calculating profit on test dataset\n",
    "p = profit_max(df_test, \"res1_yes\", 1, \"predictions_ensemble\", 1.41, 30)\n",
    "\n",
    "print(f\"The profit on the test data is ${round(p,3)}\")"
   ]
  },
  {
   "cell_type": "markdown",
   "metadata": {},
   "source": [
    "## Comparing Models"
   ]
  },
  {
   "cell_type": "code",
   "execution_count": 636,
   "metadata": {},
   "outputs": [
    {
     "data": {
      "text/plain": [
       "<AxesSubplot:xlabel='Proportion of customers', ylabel='Profit'>"
      ]
     },
     "execution_count": 636,
     "metadata": {},
     "output_type": "execute_result"
    },
    {
     "data": {
      "image/png": "[encoded data removed]",
      "text/plain": [
       "<Figure size 900x600 with 1 Axes>"
      ]
     },
     "metadata": {
      "needs_background": "light"
     },
     "output_type": "display_data"
    }
   ],
   "source": [
    "# Profit plot\n",
    "\n",
    "profit_plot(\n",
    "    df=df_test,\n",
    "    rvar=\"res1_yes\",\n",
    "    lev=1,\n",
    "    pred=[\n",
    "        \"predictions_xgb_1_test\",\n",
    "        \"predictions_sgb_test\",\n",
    "        \"predictions_nn_test\",\n",
    "        \"predictions_ensemble\",\n",
    "    ],\n",
    "    cost=1.41,\n",
    "    margin=30,\n",
    ")"
   ]
  },
  {
   "cell_type": "code",
   "execution_count": 637,
   "metadata": {},
   "outputs": [
    {
     "data": {
      "text/plain": [
       "<AxesSubplot:xlabel='Proportion of customers', ylabel='Cumulative gains'>"
      ]
     },
     "execution_count": 637,
     "metadata": {},
     "output_type": "execute_result"
    },
    {
     "data": {
      "image/png": "[encoded data removed]",
      "text/plain": [
       "<Figure size 900x600 with 1 Axes>"
      ]
     },
     "metadata": {
      "needs_background": "light"
     },
     "output_type": "display_data"
    }
   ],
   "source": [
    "# Gains plot\n",
    "\n",
    "gains_plot(\n",
    "    df=df_test,\n",
    "    rvar=\"res1_yes\",\n",
    "    lev=1,\n",
    "    pred=[\n",
    "        \"predictions_xgb_1_test\",\n",
    "        \"predictions_sgb_test\",\n",
    "        \"predictions_nn_test\",\n",
    "        \"predictions_ensemble\",\n",
    "    ],\n",
    ")"
   ]
  },
  {
   "cell_type": "code",
   "execution_count": 638,
   "metadata": {},
   "outputs": [
    {
     "data": {
      "text/plain": [
       "<AxesSubplot:xlabel='Proportion of customers', ylabel='Cumulative lift'>"
      ]
     },
     "execution_count": 638,
     "metadata": {},
     "output_type": "execute_result"
    },
    {
     "data": {
      "image/png": "[encoded data removed]",
      "text/plain": [
       "<Figure size 900x600 with 1 Axes>"
      ]
     },
     "metadata": {
      "needs_background": "light"
     },
     "output_type": "display_data"
    }
   ],
   "source": [
    "# Lift plot\n",
    "\n",
    "lift_plot(\n",
    "    df=df_test,\n",
    "    rvar=\"res1_yes\",\n",
    "    lev=1,\n",
    "    pred=[\n",
    "        \"predictions_xgb_1_test\",\n",
    "        \"predictions_sgb_test\",\n",
    "        \"predictions_nn_test\",\n",
    "        \"predictions_ensemble\",\n",
    "    ],\n",
    ")"
   ]
  },
  {
   "cell_type": "code",
   "execution_count": 639,
   "metadata": {},
   "outputs": [
    {
     "data": {
      "text/plain": [
       "<AxesSubplot:xlabel='Proportion of customers', ylabel='Return on Marketing Expenditures (ROME)'>"
      ]
     },
     "execution_count": 639,
     "metadata": {},
     "output_type": "execute_result"
    },
    {
     "data": {
      "image/png": "[encoded data removed]",
      "text/plain": [
       "<Figure size 900x600 with 1 Axes>"
      ]
     },
     "metadata": {
      "needs_background": "light"
     },
     "output_type": "display_data"
    }
   ],
   "source": [
    "# ROME plot\n",
    "\n",
    "ROME_plot(\n",
    "    df=df_test,\n",
    "    rvar=\"res1_yes\",\n",
    "    lev=1,\n",
    "    pred=[\n",
    "        \"predictions_xgb_1_test\",\n",
    "        \"predictions_sgb_test\",\n",
    "        \"predictions_nn_test\",\n",
    "        \"predictions_ensemble\",\n",
    "    ],\n",
    "    cost=1.41,\n",
    "    margin=60,\n",
    ")"
   ]
  },
  {
   "cell_type": "markdown",
   "metadata": {},
   "source": [
    "## People to Mail"
   ]
  },
  {
   "cell_type": "markdown",
   "metadata": {},
   "source": [
    "The XGBoost Model gave us the highest profit and good roc_auc scores on both training and test data. Hence we chose the XGBoost model as our final model."
   ]
  },
  {
   "cell_type": "code",
   "execution_count": 647,
   "metadata": {},
   "outputs": [],
   "source": [
    "breakeven = 1.41 / 30"
   ]
  },
  {
   "cell_type": "code",
   "execution_count": 650,
   "metadata": {},
   "outputs": [],
   "source": [
    "df_test[\"mailto_wave2\"] = df_test.predictions_xgb_1_test > breakeven"
   ]
  },
  {
   "cell_type": "code",
   "execution_count": 651,
   "metadata": {},
   "outputs": [],
   "source": [
    "final = df_test[[\"id\", \"mailto_wave2\"]]"
   ]
  },
  {
   "cell_type": "code",
   "execution_count": 652,
   "metadata": {},
   "outputs": [],
   "source": [
    "final.to_csv(\"Akshay_Deeptarka_Saurav_Shreya_Nijs_Guys.csv\", index=False)"
   ]
  },
  {
   "cell_type": "markdown",
   "metadata": {},
   "source": [
    "<br>"
   ]
  }
 ],
 "metadata": {
  "kernelspec": {
   "display_name": "Python 3",
   "language": "python",
   "name": "python3"
  },
  "language_info": {
   "codemirror_mode": {
    "name": "ipython",
    "version": 3
   },
   "file_extension": ".py",
   "mimetype": "text/x-python",
   "name": "python",
   "nbconvert_exporter": "python",
   "pygments_lexer": "ipython3",
   "version": "3.8.5"
  }
 },
 "nbformat": 4,
 "nbformat_minor": 4
}
