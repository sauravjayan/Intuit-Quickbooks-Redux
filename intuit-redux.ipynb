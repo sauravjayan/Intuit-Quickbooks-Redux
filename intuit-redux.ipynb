{
 "cells": [
  {
   "cell_type": "markdown",
   "metadata": {},
   "source": [
    "# Intuit Quickbooks Upgrade\n",
    "\n",
    "* Team-lead GitLab userid:\n",
    "* Group name:\n",
    "* Team member names:"
   ]
  },
  {
   "cell_type": "markdown",
   "metadata": {},
   "source": [
    "## Setup\n",
    "\n",
    "Please complete this python notebook with your group by answering the questions in `intuit-redux.pdf`. Create a Notebook and HTML file with all your results and comments and push both the Notebook and HTML file to GitLab when your team is done. All results MUST be reproducible (i.e., the TA and I must be able to recreate the HTML file from the Jupyter Notebook without changes or errors). This means that you should NOT use any python-packages that are not part of the rsm-msba-spark docker container.\n",
    "\n",
    "This is the second group assignment for MGTA 455 and you will be using Git and GitLab. If two people edit the same file at the same time you could get what is called a \"merge conflict\". This is not something serious but you should realize that Git will not decide for you who's change to accept so the team-lead will have to determine the edits to use. To avoid merge conflicts, **always** \"pull\" changes to the repo before you start working on any files. Then, when you are done, save and commit your changes, and then push them to GitLab. Make \"pull first\" a habit!\n",
    "\n",
    "If multiple people are going to work on the assignment at the same time I recommend you work in different notebooks. You can then `%run ...`  these \"sub\" notebooks from the main assignment file. You can seen an example of this in action below for the `model1.ipynb` notebook\n",
    "\n",
    "Some group work-flow tips:\n",
    "\n",
    "* Pull, edit, save, stage, commit, and push\n",
    "* Schedule who does what and when\n",
    "* Try to avoid working simultaneously on the same file \n",
    "* If you are going to work simultaneously, do it in different notebooks, e.g., \n",
    "    - model1.ipynb, model2.ipynb, model3.ipynb\n",
    "* Use the `%run ... ` command to bring different pieces of code together into the main jupyter notebook\n",
    "* Put python functions in modules that you can import from your notebooks. See the example below for the `example` function defined in `utils/functions.py`\n",
    "\n",
    "A graphical depiction of the group work-flow is shown below:\n",
    "\n",
    "![](images/git-group-workflow-wbg.png)\n",
    "\n",
    "Tutorial videos about using Git, GitLab, and GitGadget for group assignments:\n",
    "\n",
    "* Setup the MSBA server to use Git and GitLab: https://youtu.be/zJHwodmjatY\n",
    "* Dealing with Merge Conflicts: https://youtu.be/qFnyb8_rgTI\n",
    "* Group assignment practice: https://youtu.be/4Ty_94gIWeA"
   ]
  },
  {
   "cell_type": "code",
   "execution_count": 15,
   "metadata": {},
   "outputs": [],
   "source": [
    "import matplotlib as mpl\n",
    "import matplotlib.pyplot as plt\n",
    "import numpy as np\n",
    "import pandas as pd\n",
    "import pyrsm as rsm\n",
    "import statsmodels.formula.api as smf\n",
    "from sklearn import preprocessing\n",
    "from statsmodels.genmod.families import Binomial\n",
    "from statsmodels.genmod.families.links import logit\n",
    "import xgboost as xgb\n",
    "from sklearn import metrics\n",
    "from pyrsm import profit_max, confusion, profit_plot, gains_plot, lift_plot, ROME_plot\n",
    "from sklearn.model_selection import RandomizedSearchCV\n"
   ]
  },
  {
   "cell_type": "code",
   "execution_count": 24,
   "metadata": {},
   "outputs": [],
   "source": [
    " mpl.rcParams[\"figure.dpi\"] = 150"
   ]
  },
  {
   "cell_type": "code",
   "execution_count": 5,
   "metadata": {},
   "outputs": [
    {
     "data": {
      "text/html": [
       "<div>\n",
       "<style scoped>\n",
       "    .dataframe tbody tr th:only-of-type {\n",
       "        vertical-align: middle;\n",
       "    }\n",
       "\n",
       "    .dataframe tbody tr th {\n",
       "        vertical-align: top;\n",
       "    }\n",
       "\n",
       "    .dataframe thead th {\n",
       "        text-align: right;\n",
       "    }\n",
       "</style>\n",
       "<table border=\"1\" class=\"dataframe\">\n",
       "  <thead>\n",
       "    <tr style=\"text-align: right;\">\n",
       "      <th></th>\n",
       "      <th>id</th>\n",
       "      <th>zip</th>\n",
       "      <th>zip_bins</th>\n",
       "      <th>sex</th>\n",
       "      <th>bizflag</th>\n",
       "      <th>numords</th>\n",
       "      <th>dollars</th>\n",
       "      <th>last</th>\n",
       "      <th>sincepurch</th>\n",
       "      <th>version1</th>\n",
       "      <th>owntaxprod</th>\n",
       "      <th>upgraded</th>\n",
       "      <th>res1</th>\n",
       "      <th>training</th>\n",
       "      <th>res1_yes</th>\n",
       "    </tr>\n",
       "  </thead>\n",
       "  <tbody>\n",
       "    <tr>\n",
       "      <th>0</th>\n",
       "      <td>1</td>\n",
       "      <td>94553</td>\n",
       "      <td>18</td>\n",
       "      <td>Male</td>\n",
       "      <td>0</td>\n",
       "      <td>2</td>\n",
       "      <td>109.5</td>\n",
       "      <td>5</td>\n",
       "      <td>12</td>\n",
       "      <td>0</td>\n",
       "      <td>0</td>\n",
       "      <td>0</td>\n",
       "      <td>No</td>\n",
       "      <td>1</td>\n",
       "      <td>0</td>\n",
       "    </tr>\n",
       "    <tr>\n",
       "      <th>1</th>\n",
       "      <td>2</td>\n",
       "      <td>53190</td>\n",
       "      <td>10</td>\n",
       "      <td>Unknown</td>\n",
       "      <td>0</td>\n",
       "      <td>1</td>\n",
       "      <td>69.5</td>\n",
       "      <td>4</td>\n",
       "      <td>3</td>\n",
       "      <td>0</td>\n",
       "      <td>0</td>\n",
       "      <td>0</td>\n",
       "      <td>No</td>\n",
       "      <td>0</td>\n",
       "      <td>0</td>\n",
       "    </tr>\n",
       "    <tr>\n",
       "      <th>2</th>\n",
       "      <td>3</td>\n",
       "      <td>37091</td>\n",
       "      <td>8</td>\n",
       "      <td>Male</td>\n",
       "      <td>0</td>\n",
       "      <td>4</td>\n",
       "      <td>93.0</td>\n",
       "      <td>14</td>\n",
       "      <td>29</td>\n",
       "      <td>0</td>\n",
       "      <td>0</td>\n",
       "      <td>1</td>\n",
       "      <td>No</td>\n",
       "      <td>0</td>\n",
       "      <td>0</td>\n",
       "    </tr>\n",
       "    <tr>\n",
       "      <th>3</th>\n",
       "      <td>4</td>\n",
       "      <td>02125</td>\n",
       "      <td>1</td>\n",
       "      <td>Male</td>\n",
       "      <td>0</td>\n",
       "      <td>1</td>\n",
       "      <td>22.0</td>\n",
       "      <td>17</td>\n",
       "      <td>1</td>\n",
       "      <td>0</td>\n",
       "      <td>0</td>\n",
       "      <td>0</td>\n",
       "      <td>No</td>\n",
       "      <td>1</td>\n",
       "      <td>0</td>\n",
       "    </tr>\n",
       "    <tr>\n",
       "      <th>4</th>\n",
       "      <td>5</td>\n",
       "      <td>60201</td>\n",
       "      <td>11</td>\n",
       "      <td>Male</td>\n",
       "      <td>0</td>\n",
       "      <td>1</td>\n",
       "      <td>24.5</td>\n",
       "      <td>2</td>\n",
       "      <td>3</td>\n",
       "      <td>0</td>\n",
       "      <td>0</td>\n",
       "      <td>0</td>\n",
       "      <td>No</td>\n",
       "      <td>0</td>\n",
       "      <td>0</td>\n",
       "    </tr>\n",
       "  </tbody>\n",
       "</table>\n",
       "</div>"
      ],
      "text/plain": [
       "   id    zip  zip_bins      sex  bizflag  numords  dollars  last  sincepurch  \\\n",
       "0   1  94553        18     Male        0        2    109.5     5          12   \n",
       "1   2  53190        10  Unknown        0        1     69.5     4           3   \n",
       "2   3  37091         8     Male        0        4     93.0    14          29   \n",
       "3   4  02125         1     Male        0        1     22.0    17           1   \n",
       "4   5  60201        11     Male        0        1     24.5     2           3   \n",
       "\n",
       "   version1  owntaxprod  upgraded res1  training  res1_yes  \n",
       "0         0           0         0   No         1         0  \n",
       "1         0           0         0   No         0         0  \n",
       "2         0           0         1   No         0         0  \n",
       "3         0           0         0   No         1         0  \n",
       "4         0           0         0   No         0         0  "
      ]
     },
     "execution_count": 5,
     "metadata": {},
     "output_type": "execute_result"
    }
   ],
   "source": [
    "## loading the data - this dataset must NOT be changed\n",
    "intuit75k = pd.read_pickle(\"data/intuit75k.pkl\")\n",
    "intuit75k[\"res1_yes\"] = (intuit75k[\"res1\"] == \"Yes\").astype(int)\n",
    "intuit75k.head()"
   ]
  },
  {
   "cell_type": "code",
   "execution_count": 6,
   "metadata": {},
   "outputs": [
    {
     "name": "stdout",
     "output_type": "stream",
     "text": [
      "## Intuit: Quickbooks upgrade\n",
      "\n",
      "The purpose of this exercise is to gain experience modeling the response to an upsell campaign. The `intuit75k.rds` file contains data on 75,000 (small) businesses that were selected randomly from the 801,821 that were sent the wave-1 mailing. The mailing contained an offer to upgrade to the latest version of the Quickbooks software. \n",
      "\n",
      "Variable `res1` denotes which of these businesses responded to the mailing by purchasing Quickbooks version 3.0 from Intuit Direct. Note that Intuit Direct sells products directly to its customers rather than through a retailer. Use the available data to predict which businesses that did not respond to the wave-1 mailing, are most likely to respond to the wave-2 mailing. Note that variables were added, deleted, and recoded so please ignore the variable descriptions in Exhibit 3 in the case in the course reader. Instead, use the variable descriptions below:\n",
      "\n",
      "## Variable description\n",
      "\n",
      "* id: Small business customer ID\n",
      "* zip: 5-Digit ZIP Code (00000=unknown, 99999=international ZIPs).\n",
      "* zip_bins: Zip-code bins (20 approx. equal sized bins from lowest to highest zip code number)\n",
      "* sex: \"Female\", \"Male\", or \"Unknown\"\n",
      "* bizflag: Business Flag.  Address contains a Business name (1 = yes, 0 = no or unknown).\n",
      "* numords: Number of orders from Intuit Direct in the previous 36 months\n",
      "* dollars: Total $ ordered from Intuit Direct in the previous 36 months\n",
      "* last: Time (in months) since last order from Intuit Direct in previous 36 months\n",
      "* sincepurch: Time (in months) since original (not upgrade) purchase of Quickbooks\n",
      "* version1: Is 1 if customer's current Quickbooks is version 1, 0 if version 2\n",
      "* owntaxprod: Is 1 if customer purchased tax software, 0 otherwise\n",
      "* upgraded: Is 1 if customer upgraded from Quickbooks vs. 1 to vs. 2\n",
      "* res1: Response to wave 1 mailing (\"Yes\" if responded else \"No\")\n",
      "* training: 70/30 split, 1 for training sample, 0 for validation sample\n",
      "\n"
     ]
    }
   ],
   "source": [
    "# show dataset description\n",
    "rsm.describe(intuit75k)"
   ]
  },
  {
   "cell_type": "markdown",
   "metadata": {},
   "source": [
    "## Gradient Boosted Trees"
   ]
  },
  {
   "cell_type": "markdown",
   "metadata": {},
   "source": [
    "### Data Cleaning"
   ]
  },
  {
   "cell_type": "code",
   "execution_count": 7,
   "metadata": {},
   "outputs": [],
   "source": [
    "intuit75k.zip_bins = intuit75k.zip_bins.astype(object)"
   ]
  },
  {
   "cell_type": "code",
   "execution_count": 8,
   "metadata": {},
   "outputs": [],
   "source": [
    "intuit75k = intuit75k.join(pd.get_dummies(intuit75k.zip_bins), how='inner')"
   ]
  },
  {
   "cell_type": "code",
   "execution_count": 9,
   "metadata": {},
   "outputs": [],
   "source": [
    "intuit75k = intuit75k.assign(\n",
    "\n",
    "    zip801 = (intuit75k['zip'] == '00801').astype(int),\n",
    "    zip804 = (intuit75k['zip'] == '00804').astype(int)\n",
    ")"
   ]
  },
  {
   "cell_type": "code",
   "execution_count": 10,
   "metadata": {},
   "outputs": [
    {
     "data": {
      "text/plain": [
       "id               int32\n",
       "zip             object\n",
       "zip_bins        object\n",
       "sex           category\n",
       "bizflag          int32\n",
       "numords          int32\n",
       "dollars        float64\n",
       "last             int32\n",
       "sincepurch       int32\n",
       "version1         int32\n",
       "owntaxprod       int32\n",
       "upgraded         int32\n",
       "res1          category\n",
       "training         int32\n",
       "res1_yes         int64\n",
       "1                uint8\n",
       "2                uint8\n",
       "3                uint8\n",
       "4                uint8\n",
       "5                uint8\n",
       "6                uint8\n",
       "7                uint8\n",
       "8                uint8\n",
       "9                uint8\n",
       "10               uint8\n",
       "11               uint8\n",
       "12               uint8\n",
       "13               uint8\n",
       "14               uint8\n",
       "15               uint8\n",
       "16               uint8\n",
       "17               uint8\n",
       "18               uint8\n",
       "19               uint8\n",
       "20               uint8\n",
       "zip801           int64\n",
       "zip804           int64\n",
       "dtype: object"
      ]
     },
     "execution_count": 10,
     "metadata": {},
     "output_type": "execute_result"
    }
   ],
   "source": [
    "intuit75k.dtypes"
   ]
  },
  {
   "cell_type": "code",
   "execution_count": 11,
   "metadata": {},
   "outputs": [],
   "source": [
    "intuit_train = intuit75k.query('training == 1').reset_index()\n",
    "intuit_val = intuit75k.query('training == 0').reset_index()"
   ]
  },
  {
   "cell_type": "code",
   "execution_count": 12,
   "metadata": {},
   "outputs": [],
   "source": [
    "X_train = intuit_train.drop(columns=['id','zip', 'zip_bins','res1','res1_yes','training','sex','index','bizflag'])\n",
    "y_train = intuit_train[['res1_yes']]\n",
    "X_test = intuit_val.drop(columns=['id','zip', 'zip_bins','res1','res1_yes','training','sex','index','bizflag'])\n",
    "y_test = intuit_val[['res1_yes']]"
   ]
  },
  {
   "cell_type": "markdown",
   "metadata": {},
   "source": [
    "### Fitting the XGBoost Model"
   ]
  },
  {
   "cell_type": "code",
   "execution_count": 13,
   "metadata": {},
   "outputs": [
    {
     "name": "stdout",
     "output_type": "stream",
     "text": [
      "[0]\tvalidation_0-auc:0.66263\n",
      "[1]\tvalidation_0-auc:0.70723\n",
      "[2]\tvalidation_0-auc:0.72689\n",
      "[3]\tvalidation_0-auc:0.72222\n",
      "[4]\tvalidation_0-auc:0.73195\n",
      "[5]\tvalidation_0-auc:0.72766\n",
      "[6]\tvalidation_0-auc:0.72994\n",
      "[7]\tvalidation_0-auc:0.73743\n",
      "[8]\tvalidation_0-auc:0.74284\n",
      "[9]\tvalidation_0-auc:0.75380\n",
      "[10]\tvalidation_0-auc:0.75251\n",
      "[11]\tvalidation_0-auc:0.75479\n",
      "[12]\tvalidation_0-auc:0.75472\n",
      "[13]\tvalidation_0-auc:0.75820\n",
      "[14]\tvalidation_0-auc:0.75831\n",
      "[15]\tvalidation_0-auc:0.76084\n",
      "[16]\tvalidation_0-auc:0.76181\n",
      "[17]\tvalidation_0-auc:0.76300\n",
      "[18]\tvalidation_0-auc:0.76291\n",
      "[19]\tvalidation_0-auc:0.76288\n",
      "[20]\tvalidation_0-auc:0.76344\n",
      "[21]\tvalidation_0-auc:0.76455\n",
      "[22]\tvalidation_0-auc:0.76529\n",
      "[23]\tvalidation_0-auc:0.76595\n",
      "[24]\tvalidation_0-auc:0.76637\n",
      "[25]\tvalidation_0-auc:0.76593\n",
      "[26]\tvalidation_0-auc:0.76558\n",
      "[27]\tvalidation_0-auc:0.76594\n",
      "[28]\tvalidation_0-auc:0.76618\n",
      "[29]\tvalidation_0-auc:0.76639\n",
      "[30]\tvalidation_0-auc:0.76636\n",
      "[31]\tvalidation_0-auc:0.76620\n",
      "[32]\tvalidation_0-auc:0.76634\n",
      "[33]\tvalidation_0-auc:0.76637\n",
      "[34]\tvalidation_0-auc:0.76642\n",
      "[35]\tvalidation_0-auc:0.76639\n",
      "[36]\tvalidation_0-auc:0.76628\n",
      "[37]\tvalidation_0-auc:0.76653\n",
      "[38]\tvalidation_0-auc:0.76674\n",
      "[39]\tvalidation_0-auc:0.76671\n",
      "[40]\tvalidation_0-auc:0.76627\n",
      "[41]\tvalidation_0-auc:0.76607\n",
      "[42]\tvalidation_0-auc:0.76604\n",
      "[43]\tvalidation_0-auc:0.76597\n",
      "[44]\tvalidation_0-auc:0.76614\n",
      "[45]\tvalidation_0-auc:0.76645\n",
      "[46]\tvalidation_0-auc:0.76629\n",
      "[47]\tvalidation_0-auc:0.76635\n",
      "[48]\tvalidation_0-auc:0.76636\n",
      "[49]\tvalidation_0-auc:0.76635\n",
      "[50]\tvalidation_0-auc:0.76644\n",
      "[51]\tvalidation_0-auc:0.76669\n",
      "[52]\tvalidation_0-auc:0.76654\n",
      "[53]\tvalidation_0-auc:0.76676\n",
      "[54]\tvalidation_0-auc:0.76681\n",
      "[55]\tvalidation_0-auc:0.76684\n",
      "[56]\tvalidation_0-auc:0.76698\n",
      "[57]\tvalidation_0-auc:0.76714\n",
      "[58]\tvalidation_0-auc:0.76696\n",
      "[59]\tvalidation_0-auc:0.76677\n",
      "[60]\tvalidation_0-auc:0.76685\n",
      "[61]\tvalidation_0-auc:0.76684\n",
      "[62]\tvalidation_0-auc:0.76688\n",
      "[63]\tvalidation_0-auc:0.76684\n",
      "[64]\tvalidation_0-auc:0.76675\n",
      "[65]\tvalidation_0-auc:0.76665\n",
      "[66]\tvalidation_0-auc:0.76684\n",
      "[67]\tvalidation_0-auc:0.76704\n",
      "[68]\tvalidation_0-auc:0.76691\n",
      "[69]\tvalidation_0-auc:0.76734\n",
      "[70]\tvalidation_0-auc:0.76716\n",
      "[71]\tvalidation_0-auc:0.76745\n",
      "[72]\tvalidation_0-auc:0.76741\n",
      "[73]\tvalidation_0-auc:0.76745\n",
      "[74]\tvalidation_0-auc:0.76735\n",
      "[75]\tvalidation_0-auc:0.76729\n",
      "[76]\tvalidation_0-auc:0.76751\n",
      "[77]\tvalidation_0-auc:0.76752\n",
      "[78]\tvalidation_0-auc:0.76760\n",
      "[79]\tvalidation_0-auc:0.76749\n",
      "[80]\tvalidation_0-auc:0.76743\n",
      "[81]\tvalidation_0-auc:0.76740\n",
      "[82]\tvalidation_0-auc:0.76709\n",
      "[83]\tvalidation_0-auc:0.76733\n",
      "[84]\tvalidation_0-auc:0.76744\n",
      "[85]\tvalidation_0-auc:0.76747\n",
      "[86]\tvalidation_0-auc:0.76748\n",
      "[87]\tvalidation_0-auc:0.76741\n",
      "[88]\tvalidation_0-auc:0.76738\n",
      "[89]\tvalidation_0-auc:0.76736\n",
      "[90]\tvalidation_0-auc:0.76734\n",
      "[91]\tvalidation_0-auc:0.76732\n",
      "[92]\tvalidation_0-auc:0.76729\n",
      "[93]\tvalidation_0-auc:0.76709\n",
      "[94]\tvalidation_0-auc:0.76721\n",
      "[95]\tvalidation_0-auc:0.76705\n",
      "[96]\tvalidation_0-auc:0.76708\n",
      "[97]\tvalidation_0-auc:0.76699\n",
      "[98]\tvalidation_0-auc:0.76696\n",
      "[99]\tvalidation_0-auc:0.76678\n",
      "[100]\tvalidation_0-auc:0.76671\n",
      "[101]\tvalidation_0-auc:0.76680\n",
      "[102]\tvalidation_0-auc:0.76691\n",
      "[103]\tvalidation_0-auc:0.76699\n",
      "[104]\tvalidation_0-auc:0.76720\n",
      "[105]\tvalidation_0-auc:0.76703\n",
      "[106]\tvalidation_0-auc:0.76708\n",
      "[107]\tvalidation_0-auc:0.76689\n",
      "[108]\tvalidation_0-auc:0.76689\n",
      "[109]\tvalidation_0-auc:0.76694\n",
      "[110]\tvalidation_0-auc:0.76701\n",
      "[111]\tvalidation_0-auc:0.76679\n",
      "[112]\tvalidation_0-auc:0.76671\n",
      "[113]\tvalidation_0-auc:0.76671\n",
      "[114]\tvalidation_0-auc:0.76660\n",
      "[115]\tvalidation_0-auc:0.76655\n",
      "[116]\tvalidation_0-auc:0.76658\n",
      "[117]\tvalidation_0-auc:0.76670\n",
      "[118]\tvalidation_0-auc:0.76663\n",
      "[119]\tvalidation_0-auc:0.76677\n",
      "[120]\tvalidation_0-auc:0.76684\n",
      "[121]\tvalidation_0-auc:0.76695\n",
      "[122]\tvalidation_0-auc:0.76700\n",
      "[123]\tvalidation_0-auc:0.76700\n",
      "[124]\tvalidation_0-auc:0.76692\n",
      "[125]\tvalidation_0-auc:0.76688\n",
      "[126]\tvalidation_0-auc:0.76685\n",
      "[127]\tvalidation_0-auc:0.76666\n",
      "[128]\tvalidation_0-auc:0.76645\n",
      "[129]\tvalidation_0-auc:0.76663\n",
      "[130]\tvalidation_0-auc:0.76658\n",
      "[131]\tvalidation_0-auc:0.76666\n",
      "[132]\tvalidation_0-auc:0.76666\n",
      "[133]\tvalidation_0-auc:0.76679\n",
      "[134]\tvalidation_0-auc:0.76631\n",
      "[135]\tvalidation_0-auc:0.76643\n",
      "[136]\tvalidation_0-auc:0.76639\n",
      "[137]\tvalidation_0-auc:0.76636\n",
      "[138]\tvalidation_0-auc:0.76642\n",
      "[139]\tvalidation_0-auc:0.76637\n",
      "[140]\tvalidation_0-auc:0.76630\n",
      "[141]\tvalidation_0-auc:0.76640\n",
      "[142]\tvalidation_0-auc:0.76634\n",
      "[143]\tvalidation_0-auc:0.76664\n",
      "[144]\tvalidation_0-auc:0.76671\n",
      "[145]\tvalidation_0-auc:0.76667\n",
      "[146]\tvalidation_0-auc:0.76669\n",
      "[147]\tvalidation_0-auc:0.76672\n",
      "[148]\tvalidation_0-auc:0.76670\n",
      "[149]\tvalidation_0-auc:0.76663\n",
      "[150]\tvalidation_0-auc:0.76668\n",
      "[151]\tvalidation_0-auc:0.76659\n",
      "[152]\tvalidation_0-auc:0.76650\n",
      "[153]\tvalidation_0-auc:0.76641\n",
      "[154]\tvalidation_0-auc:0.76646\n",
      "[155]\tvalidation_0-auc:0.76643\n",
      "[156]\tvalidation_0-auc:0.76639\n",
      "[157]\tvalidation_0-auc:0.76640\n",
      "[158]\tvalidation_0-auc:0.76642\n",
      "[159]\tvalidation_0-auc:0.76639\n",
      "[160]\tvalidation_0-auc:0.76632\n",
      "[161]\tvalidation_0-auc:0.76628\n",
      "[162]\tvalidation_0-auc:0.76626\n",
      "[163]\tvalidation_0-auc:0.76628\n",
      "[164]\tvalidation_0-auc:0.76633\n",
      "[165]\tvalidation_0-auc:0.76636\n",
      "[166]\tvalidation_0-auc:0.76634\n",
      "[167]\tvalidation_0-auc:0.76629\n",
      "[168]\tvalidation_0-auc:0.76629\n",
      "[169]\tvalidation_0-auc:0.76628\n",
      "[170]\tvalidation_0-auc:0.76633\n",
      "[171]\tvalidation_0-auc:0.76629\n",
      "[172]\tvalidation_0-auc:0.76638\n",
      "[173]\tvalidation_0-auc:0.76634\n",
      "[174]\tvalidation_0-auc:0.76614\n",
      "[175]\tvalidation_0-auc:0.76613\n",
      "[176]\tvalidation_0-auc:0.76610\n",
      "[177]\tvalidation_0-auc:0.76612\n"
     ]
    },
    {
     "data": {
      "text/plain": [
       "XGBClassifier(base_score=0.5, booster='gbtree', colsample_bylevel=1,\n",
       "              colsample_bynode=1, colsample_bytree=1, gamma=0, gpu_id=-1,\n",
       "              importance_type='gain', interaction_constraints='',\n",
       "              learning_rate=0.3, max_delta_step=0, max_depth=2,\n",
       "              min_child_weight=1, missing=nan, monotone_constraints='()',\n",
       "              n_estimators=1000, n_jobs=6, num_parallel_tree=1,\n",
       "              random_state=123, reg_alpha=0, reg_lambda=3.9, scale_pos_weight=1,\n",
       "              subsample=1, tree_method='exact', use_label_encoder=False,\n",
       "              validate_parameters=1, verbosity=None)"
      ]
     },
     "execution_count": 13,
     "metadata": {},
     "output_type": "execute_result"
    }
   ],
   "source": [
    "xgb_clf = xgb.XGBClassifier(objective='binary:logistic', n_estimators=1000, random_state=123, max_depth=2,n_jobs=6, use_label_encoder=False,reg_lambda=3.9, learning_rate=0.3)\n",
    "xgb_clf.fit(X_train, y_train.values.ravel(), early_stopping_rounds=100, eval_metric=\"auc\", verbose=True, eval_set=[(X_test, y_test.values.ravel())])"
   ]
  },
  {
   "cell_type": "code",
   "execution_count": 14,
   "metadata": {},
   "outputs": [],
   "source": [
    "# Prediction probabilities on the test set\n",
    "pred = xgb_clf.predict_proba(X_test)\n",
    "probs = pd.Series([p[1] for p in pred])\n",
    "\n",
    "# Prediction probabilities on the train set\n",
    "pred_train = xgb_clf.predict_proba(X_train)\n",
    "probs_train = pd.Series([p[1] for p in pred_train])"
   ]
  },
  {
   "cell_type": "code",
   "execution_count": 15,
   "metadata": {},
   "outputs": [
    {
     "name": "stdout",
     "output_type": "stream",
     "text": [
      "Test data auc is 0.7675955115423396\n"
     ]
    }
   ],
   "source": [
    "fpr, tpr, thresholds = metrics.roc_curve(y_test.res1_yes, pred[:,1])\n",
    "print(f'Test data auc is {metrics.auc(fpr,tpr)}')"
   ]
  },
  {
   "cell_type": "code",
   "execution_count": 16,
   "metadata": {},
   "outputs": [
    {
     "name": "stdout",
     "output_type": "stream",
     "text": [
      "Train data auc is 0.7827163935059891\n"
     ]
    }
   ],
   "source": [
    "fpr, tpr, thresholds = metrics.roc_curve(y_train.res1_yes, pred_train[:,1])\n",
    "print(f'Train data auc is {metrics.auc(fpr,tpr)}')"
   ]
  },
  {
   "cell_type": "code",
   "execution_count": 17,
   "metadata": {},
   "outputs": [],
   "source": [
    "breakeven = 1.41/30"
   ]
  },
  {
   "cell_type": "code",
   "execution_count": 18,
   "metadata": {},
   "outputs": [],
   "source": [
    "pred_prof = pd.Series((probs)) \n",
    "pred_prof.name = 'predictions_xgb_1_test'\n",
    "\n",
    "pred_prof_train = pd.Series((probs_train))\n",
    "pred_prof_train.name = 'predictions_xgb_1_train'\n",
    "\n",
    "df_test = y_test.join(pred_prof, how='inner')"
   ]
  },
  {
   "cell_type": "code",
   "execution_count": 19,
   "metadata": {},
   "outputs": [
    {
     "name": "stdout",
     "output_type": "stream",
     "text": [
      "The profit for XGBClassifier(base_score=0.5, booster='gbtree', colsample_bylevel=1,\n",
      "              colsample_bynode=1, colsample_bytree=1, gamma=0, gpu_id=-1,\n",
      "              importance_type='gain', interaction_constraints='',\n",
      "              learning_rate=0.3, max_delta_step=0, max_depth=2,\n",
      "              min_child_weight=1, missing=nan, monotone_constraints='()',\n",
      "              n_estimators=1000, n_jobs=6, num_parallel_tree=1,\n",
      "              random_state=123, reg_alpha=0, reg_lambda=3.9, scale_pos_weight=1,\n",
      "              subsample=1, tree_method='exact', use_label_encoder=False,\n",
      "              validate_parameters=1, verbosity=None) on the test data is $13618.65\n"
     ]
    }
   ],
   "source": [
    "p = profit_max(df_test,'res1_yes',1,'predictions_xgb_1_test',1.41,30)\n",
    "\n",
    "print(f'The profit for {xgb_clf} on the test data is ${round(p,3)}')"
   ]
  },
  {
   "cell_type": "code",
   "execution_count": 20,
   "metadata": {},
   "outputs": [
    {
     "name": "stdout",
     "output_type": "stream",
     "text": [
      "TP: 747\n",
      "TN: 15909\n",
      "FP: 5488\n",
      "FN: 356\n"
     ]
    }
   ],
   "source": [
    "TP, FP, TN, FN, contact = confusion(df_test,'res1_yes',1,'predictions_xgb_1_test',1.41,30)\n",
    "\n",
    "print(f'TP: {TP}')\n",
    "print(f'TN: {TN}')\n",
    "print(f'FP: {FP}')\n",
    "print(f'FN: {FN}')"
   ]
  },
  {
   "cell_type": "code",
   "execution_count": 21,
   "metadata": {},
   "outputs": [],
   "source": [
    "df_test['target_xgb'] = (df_test.predictions_xgb_1_test > breakeven).astype(int)\n",
    "\n",
    "total_biz = 801821\n",
    "already_resp = 38487\n",
    "population = total_biz - already_resp\n",
    "response_rate_xgb = np.mean(df_test[df_test.target_xgb == 1]['res1_yes'])\n",
    "targets = population * contact\n",
    "responses = targets * (response_rate_xgb/2)"
   ]
  },
  {
   "cell_type": "code",
   "execution_count": 22,
   "metadata": {},
   "outputs": [
    {
     "name": "stdout",
     "output_type": "stream",
     "text": [
      "The projected profit for the those people who did not respond to wave 1 of mailing but will be mailed a second time is $ 462025.71\n"
     ]
    }
   ],
   "source": [
    "cost = targets * 1.41\n",
    "rev = responses * 60\n",
    "profit = rev - cost\n",
    "print(f'The projected profit for the those people who did not respond to wave 1 of mailing but will be mailed a second time is $ {round(profit,2)}')"
   ]
  },
  {
   "cell_type": "markdown",
   "metadata": {},
   "source": [
    "### Decision Tree Plot"
   ]
  },
  {
   "cell_type": "code",
   "execution_count": 26,
   "metadata": {},
   "outputs": [
    {
     "data": {
      "text/plain": [
       "<AxesSubplot:>"
      ]
     },
     "execution_count": 26,
     "metadata": {},
     "output_type": "execute_result"
    },
    {
     "data": {
      "image/png": "[encoded data removed]",
      "text/plain": [
       "<Figure size 900x600 with 1 Axes>"
      ]
     },
     "metadata": {
      "needs_background": "light"
     },
     "output_type": "display_data"
    }
   ],
   "source": [
    "mpl.rcParams[\"figure.dpi\"] = 150\n",
    "xgb.plot_tree(xgb_clf, rankdir='LR')"
   ]
  },
  {
   "cell_type": "markdown",
   "metadata": {},
   "source": [
    "### Randomised Search Cross-validation"
   ]
  },
  {
   "cell_type": "code",
   "execution_count": 11,
   "metadata": {},
   "outputs": [],
   "source": [
    "clf = xgb.XGBClassifier(objective='binary:logistic',seed=123, use_label_encoder=False)"
   ]
  },
  {
   "cell_type": "code",
   "execution_count": 107,
   "metadata": {},
   "outputs": [],
   "source": [
    "fit_params={\"early_stopping_rounds\":100, \n",
    "            \"eval_metric\" : \"auc\", \n",
    "            \"eval_set\" : [(X_test, y_test.values.ravel())]}"
   ]
  },
  {
   "cell_type": "code",
   "execution_count": 108,
   "metadata": {},
   "outputs": [],
   "source": [
    "gbm_param_grid = {\n",
    "    'learning_rate': np.arange(0.1, 0.3, 0.05),\n",
    "    'max_depth': np.arange(1, 4, 1),\n",
    "    'n_estimators': 1000,\n",
    "    'reg_lambda':np.arange(3,5,1)\n",
    "}"
   ]
  },
  {
   "cell_type": "code",
   "execution_count": 109,
   "metadata": {},
   "outputs": [],
   "source": [
    "from sklearn.metrics import make_scorer\n",
    "\n",
    "def profit_scoring(y_true, y_pred):\n",
    "    profit = rsm.profit(pd.Series(y_true), pd.Series(y_pred), 1, 1.41, 30)\n",
    "    return profit\n",
    "\n",
    "profit_score = make_scorer(profit_scoring, greater_is_better = True, needs_proba=True)"
   ]
  },
  {
   "cell_type": "code",
   "execution_count": 110,
   "metadata": {},
   "outputs": [
    {
     "name": "stdout",
     "output_type": "stream",
     "text": [
      "Fitting 5 folds for each of 10 candidates, totalling 50 fits\n",
      "[0]\tvalidation_0-auc:0.67453\n",
      "[1]\tvalidation_0-auc:0.74596\n",
      "[2]\tvalidation_0-auc:0.74563\n",
      "[3]\tvalidation_0-auc:0.74729\n",
      "[4]\tvalidation_0-auc:0.74921\n",
      "[5]\tvalidation_0-auc:0.74682\n",
      "[6]\tvalidation_0-auc:0.74731\n",
      "[7]\tvalidation_0-auc:0.74853\n",
      "[8]\tvalidation_0-auc:0.74918\n",
      "[9]\tvalidation_0-auc:0.74898\n",
      "[10]\tvalidation_0-auc:0.75153\n",
      "[11]\tvalidation_0-auc:0.75276\n",
      "[12]\tvalidation_0-auc:0.75376\n",
      "[13]\tvalidation_0-auc:0.75977\n",
      "[14]\tvalidation_0-auc:0.76063\n",
      "[15]\tvalidation_0-auc:0.76198\n",
      "[16]\tvalidation_0-auc:0.76276\n",
      "[17]\tvalidation_0-auc:0.76316\n",
      "[18]\tvalidation_0-auc:0.76377\n",
      "[19]\tvalidation_0-auc:0.76444\n",
      "[20]\tvalidation_0-auc:0.76494\n",
      "[21]\tvalidation_0-auc:0.76529\n",
      "[22]\tvalidation_0-auc:0.76458\n",
      "[23]\tvalidation_0-auc:0.76453\n",
      "[24]\tvalidation_0-auc:0.76454\n",
      "[25]\tvalidation_0-auc:0.76469\n",
      "[26]\tvalidation_0-auc:0.76486\n",
      "[27]\tvalidation_0-auc:0.76517\n",
      "[28]\tvalidation_0-auc:0.76513\n",
      "[29]\tvalidation_0-auc:0.76508\n",
      "[30]\tvalidation_0-auc:0.76534\n",
      "[31]\tvalidation_0-auc:0.76474\n",
      "[32]\tvalidation_0-auc:0.76480\n",
      "[33]\tvalidation_0-auc:0.76462\n",
      "[34]\tvalidation_0-auc:0.76457\n",
      "[35]\tvalidation_0-auc:0.76467\n",
      "[36]\tvalidation_0-auc:0.76482\n",
      "[37]\tvalidation_0-auc:0.76486\n",
      "[38]\tvalidation_0-auc:0.76517\n",
      "[39]\tvalidation_0-auc:0.76531\n",
      "[40]\tvalidation_0-auc:0.76535\n",
      "[41]\tvalidation_0-auc:0.76524\n",
      "[42]\tvalidation_0-auc:0.76519\n",
      "[43]\tvalidation_0-auc:0.76538\n",
      "[44]\tvalidation_0-auc:0.76523\n",
      "[45]\tvalidation_0-auc:0.76542\n",
      "[46]\tvalidation_0-auc:0.76579\n",
      "[47]\tvalidation_0-auc:0.76574\n",
      "[48]\tvalidation_0-auc:0.76579\n",
      "[49]\tvalidation_0-auc:0.76564\n",
      "[50]\tvalidation_0-auc:0.76590\n",
      "[51]\tvalidation_0-auc:0.76595\n",
      "[52]\tvalidation_0-auc:0.76583\n",
      "[53]\tvalidation_0-auc:0.76587\n",
      "[54]\tvalidation_0-auc:0.76533\n",
      "[55]\tvalidation_0-auc:0.76524\n",
      "[56]\tvalidation_0-auc:0.76523\n",
      "[57]\tvalidation_0-auc:0.76516\n",
      "[58]\tvalidation_0-auc:0.76510\n",
      "[59]\tvalidation_0-auc:0.76502\n",
      "[60]\tvalidation_0-auc:0.76484\n",
      "[61]\tvalidation_0-auc:0.76474\n",
      "[62]\tvalidation_0-auc:0.76455\n",
      "[63]\tvalidation_0-auc:0.76474\n",
      "[64]\tvalidation_0-auc:0.76468\n",
      "[65]\tvalidation_0-auc:0.76458\n",
      "[66]\tvalidation_0-auc:0.76414\n",
      "[67]\tvalidation_0-auc:0.76447\n",
      "[68]\tvalidation_0-auc:0.76438\n",
      "[69]\tvalidation_0-auc:0.76404\n",
      "[70]\tvalidation_0-auc:0.76371\n",
      "[71]\tvalidation_0-auc:0.76360\n",
      "[72]\tvalidation_0-auc:0.76343\n",
      "[73]\tvalidation_0-auc:0.76359\n",
      "[74]\tvalidation_0-auc:0.76350\n",
      "[75]\tvalidation_0-auc:0.76352\n",
      "[76]\tvalidation_0-auc:0.76370\n",
      "[77]\tvalidation_0-auc:0.76365\n",
      "[78]\tvalidation_0-auc:0.76358\n",
      "[79]\tvalidation_0-auc:0.76379\n",
      "[80]\tvalidation_0-auc:0.76368\n",
      "[81]\tvalidation_0-auc:0.76401\n",
      "[82]\tvalidation_0-auc:0.76396\n",
      "[83]\tvalidation_0-auc:0.76381\n",
      "[84]\tvalidation_0-auc:0.76381\n",
      "[85]\tvalidation_0-auc:0.76381\n",
      "[86]\tvalidation_0-auc:0.76394\n",
      "[87]\tvalidation_0-auc:0.76389\n",
      "[88]\tvalidation_0-auc:0.76388\n",
      "[89]\tvalidation_0-auc:0.76374\n",
      "[90]\tvalidation_0-auc:0.76365\n",
      "[91]\tvalidation_0-auc:0.76347\n",
      "[92]\tvalidation_0-auc:0.76331\n",
      "[93]\tvalidation_0-auc:0.76326\n",
      "[94]\tvalidation_0-auc:0.76313\n",
      "[95]\tvalidation_0-auc:0.76307\n",
      "[96]\tvalidation_0-auc:0.76308\n",
      "[97]\tvalidation_0-auc:0.76306\n",
      "[98]\tvalidation_0-auc:0.76329\n",
      "[99]\tvalidation_0-auc:0.76353\n",
      "[100]\tvalidation_0-auc:0.76349\n",
      "[101]\tvalidation_0-auc:0.76347\n",
      "[102]\tvalidation_0-auc:0.76350\n",
      "[103]\tvalidation_0-auc:0.76349\n",
      "[104]\tvalidation_0-auc:0.76342\n",
      "[105]\tvalidation_0-auc:0.76369\n",
      "[106]\tvalidation_0-auc:0.76368\n",
      "[107]\tvalidation_0-auc:0.76338\n",
      "[108]\tvalidation_0-auc:0.76341\n",
      "[109]\tvalidation_0-auc:0.76373\n",
      "[110]\tvalidation_0-auc:0.76367\n",
      "[111]\tvalidation_0-auc:0.76353\n",
      "[112]\tvalidation_0-auc:0.76348\n",
      "[113]\tvalidation_0-auc:0.76354\n",
      "[114]\tvalidation_0-auc:0.76356\n",
      "[115]\tvalidation_0-auc:0.76348\n",
      "[116]\tvalidation_0-auc:0.76352\n",
      "[117]\tvalidation_0-auc:0.76336\n",
      "[118]\tvalidation_0-auc:0.76340\n",
      "[119]\tvalidation_0-auc:0.76319\n",
      "[120]\tvalidation_0-auc:0.76281\n",
      "[121]\tvalidation_0-auc:0.76284\n",
      "[122]\tvalidation_0-auc:0.76281\n",
      "[123]\tvalidation_0-auc:0.76284\n",
      "[124]\tvalidation_0-auc:0.76284\n",
      "[125]\tvalidation_0-auc:0.76270\n",
      "[126]\tvalidation_0-auc:0.76267\n",
      "[127]\tvalidation_0-auc:0.76268\n",
      "[128]\tvalidation_0-auc:0.76287\n",
      "[129]\tvalidation_0-auc:0.76276\n",
      "[130]\tvalidation_0-auc:0.76274\n",
      "[131]\tvalidation_0-auc:0.76296\n",
      "[132]\tvalidation_0-auc:0.76297\n",
      "[133]\tvalidation_0-auc:0.76299\n",
      "[134]\tvalidation_0-auc:0.76297\n",
      "[135]\tvalidation_0-auc:0.76298\n",
      "[136]\tvalidation_0-auc:0.76281\n",
      "[137]\tvalidation_0-auc:0.76297\n",
      "[138]\tvalidation_0-auc:0.76266\n",
      "[139]\tvalidation_0-auc:0.76248\n",
      "[140]\tvalidation_0-auc:0.76203\n",
      "[141]\tvalidation_0-auc:0.76196\n",
      "[142]\tvalidation_0-auc:0.76229\n",
      "[143]\tvalidation_0-auc:0.76250\n",
      "[144]\tvalidation_0-auc:0.76223\n",
      "[145]\tvalidation_0-auc:0.76216\n",
      "[146]\tvalidation_0-auc:0.76237\n",
      "[147]\tvalidation_0-auc:0.76236\n",
      "[148]\tvalidation_0-auc:0.76248\n",
      "[149]\tvalidation_0-auc:0.76262\n",
      "[150]\tvalidation_0-auc:0.76216\n",
      "[151]\tvalidation_0-auc:0.76218\n"
     ]
    },
    {
     "data": {
      "text/plain": [
       "RandomizedSearchCV(estimator=XGBClassifier(base_score=None, booster=None,\n",
       "                                           colsample_bylevel=None,\n",
       "                                           colsample_bynode=None,\n",
       "                                           colsample_bytree=None, gamma=None,\n",
       "                                           gpu_id=None, importance_type='gain',\n",
       "                                           interaction_constraints=None,\n",
       "                                           learning_rate=None,\n",
       "                                           max_delta_step=None, max_depth=None,\n",
       "                                           min_child_weight=None, missing=nan,\n",
       "                                           monotone_constraints=None,\n",
       "                                           n_estimators=100, n_job...\n",
       "                                           subsample=None, tree_method=None,\n",
       "                                           use_label_encoder=False,\n",
       "                                           validate_parameters=None,\n",
       "                                           verbosity=None),\n",
       "                   n_jobs=6,\n",
       "                   param_distributions={'learning_rate': array([0.1 , 0.15, 0.2 , 0.25]),\n",
       "                                        'max_depth': array([1, 2, 3]),\n",
       "                                        'n_estimators': array([ 200,  400,  600,  800, 1000, 1200, 1400, 1600, 1800]),\n",
       "                                        'reg_lambda': array([3, 4])},\n",
       "                   scoring=make_scorer(profit_scoring, needs_proba=True),\n",
       "                   verbose=1)"
      ]
     },
     "execution_count": 110,
     "metadata": {},
     "output_type": "execute_result"
    }
   ],
   "source": [
    "randomized_roc_auc = RandomizedSearchCV(scoring=profit_score,verbose=1, estimator=clf, param_distributions=gbm_param_grid, n_jobs=6)\n",
    "randomized_roc_auc.fit(X_train,y_train.values.ravel(),**fit_params)"
   ]
  },
  {
   "cell_type": "code",
   "execution_count": 23,
   "metadata": {},
   "outputs": [
    {
     "data": {
      "text/html": [
       "<div>\n",
       "<style scoped>\n",
       "    .dataframe tbody tr th:only-of-type {\n",
       "        vertical-align: middle;\n",
       "    }\n",
       "\n",
       "    .dataframe tbody tr th {\n",
       "        vertical-align: top;\n",
       "    }\n",
       "\n",
       "    .dataframe thead th {\n",
       "        text-align: right;\n",
       "    }\n",
       "</style>\n",
       "<table border=\"1\" class=\"dataframe\">\n",
       "  <thead>\n",
       "    <tr style=\"text-align: right;\">\n",
       "      <th></th>\n",
       "      <th>res1_yes</th>\n",
       "      <th>predictions_xgb_1_test</th>\n",
       "      <th>target_xgb</th>\n",
       "    </tr>\n",
       "  </thead>\n",
       "  <tbody>\n",
       "    <tr>\n",
       "      <th>0</th>\n",
       "      <td>0</td>\n",
       "      <td>0.028346</td>\n",
       "      <td>0</td>\n",
       "    </tr>\n",
       "    <tr>\n",
       "      <th>1</th>\n",
       "      <td>0</td>\n",
       "      <td>0.075152</td>\n",
       "      <td>1</td>\n",
       "    </tr>\n",
       "    <tr>\n",
       "      <th>2</th>\n",
       "      <td>0</td>\n",
       "      <td>0.024862</td>\n",
       "      <td>0</td>\n",
       "    </tr>\n",
       "    <tr>\n",
       "      <th>3</th>\n",
       "      <td>0</td>\n",
       "      <td>0.025639</td>\n",
       "      <td>0</td>\n",
       "    </tr>\n",
       "    <tr>\n",
       "      <th>4</th>\n",
       "      <td>0</td>\n",
       "      <td>0.017403</td>\n",
       "      <td>0</td>\n",
       "    </tr>\n",
       "    <tr>\n",
       "      <th>...</th>\n",
       "      <td>...</td>\n",
       "      <td>...</td>\n",
       "      <td>...</td>\n",
       "    </tr>\n",
       "    <tr>\n",
       "      <th>22495</th>\n",
       "      <td>0</td>\n",
       "      <td>0.032376</td>\n",
       "      <td>0</td>\n",
       "    </tr>\n",
       "    <tr>\n",
       "      <th>22496</th>\n",
       "      <td>0</td>\n",
       "      <td>0.016093</td>\n",
       "      <td>0</td>\n",
       "    </tr>\n",
       "    <tr>\n",
       "      <th>22497</th>\n",
       "      <td>0</td>\n",
       "      <td>0.121897</td>\n",
       "      <td>1</td>\n",
       "    </tr>\n",
       "    <tr>\n",
       "      <th>22498</th>\n",
       "      <td>1</td>\n",
       "      <td>0.146067</td>\n",
       "      <td>1</td>\n",
       "    </tr>\n",
       "    <tr>\n",
       "      <th>22499</th>\n",
       "      <td>0</td>\n",
       "      <td>0.059577</td>\n",
       "      <td>1</td>\n",
       "    </tr>\n",
       "  </tbody>\n",
       "</table>\n",
       "<p>22500 rows × 3 columns</p>\n",
       "</div>"
      ],
      "text/plain": [
       "       res1_yes  predictions_xgb_1_test  target_xgb\n",
       "0             0                0.028346           0\n",
       "1             0                0.075152           1\n",
       "2             0                0.024862           0\n",
       "3             0                0.025639           0\n",
       "4             0                0.017403           0\n",
       "...         ...                     ...         ...\n",
       "22495         0                0.032376           0\n",
       "22496         0                0.016093           0\n",
       "22497         0                0.121897           1\n",
       "22498         1                0.146067           1\n",
       "22499         0                0.059577           1\n",
       "\n",
       "[22500 rows x 3 columns]"
      ]
     },
     "execution_count": 23,
     "metadata": {},
     "output_type": "execute_result"
    }
   ],
   "source": [
    "df_test"
   ]
  },
  {
   "cell_type": "code",
   "execution_count": null,
   "metadata": {},
   "outputs": [],
   "source": []
  },
  {
   "cell_type": "code",
   "execution_count": 16,
   "metadata": {},
   "outputs": [],
   "source": [
    "from sklearn.metrics import make_scorer\n",
    "\n",
    "def profit_scoring(y_true, y_pred):\n",
    "    profit = rsm.profit(pd.Series(y_true), pd.Series(y_pred), 1, 1.41, 30)\n",
    "    return profit\n",
    "\n",
    "profit_score = make_scorer(profit_scoring, greater_is_better = True, needs_proba=True)"
   ]
  },
  {
   "cell_type": "code",
   "execution_count": 17,
   "metadata": {},
   "outputs": [],
   "source": [
    "from sklearn.metrics import roc_auc_score\n",
    "\n",
    "def performance_profit(X_test, y_test, model,model_name, breakeven):\n",
    "    df_test = pd.DataFrame(X_test, columns=intuit75k_cols)\n",
    "    df_test['res_y'] = y_test\n",
    "    df_test['predict_res_proba_'+model_name] = model.predict_proba(X_test)[:,1]\n",
    "    df_test['predicted_res_'+model_name] = np.where(df_test['predict_res_proba_'+model_name] > breakeven,1,0)\n",
    "    \n",
    "    confusion_matrix = pd.crosstab(df_test['res_y'], df_test['predicted_res_'+model_name], margins = True, margins_name = 'Total')\n",
    "    roc_auc = roc_auc_score(y_test, model.predict_proba(X_test)[:,1]/2)\n",
    "    \n",
    "    profit = rsm.profit_max(df_test, 'res_y',1 ,'predict_res_proba_'+model_name,1.41,30)\n",
    "    \n",
    "    print(\"ROC AUC is {}\".format(roc_auc))\n",
    "    print(\"Profit is {}\".format(profit))\n",
    "    return roc_auc,profit,confusion_matrix"
   ]
  },
  {
   "cell_type": "code",
   "execution_count": 19,
   "metadata": {},
   "outputs": [
    {
     "data": {
      "text/html": [
       "<div>\n",
       "<style scoped>\n",
       "    .dataframe tbody tr th:only-of-type {\n",
       "        vertical-align: middle;\n",
       "    }\n",
       "\n",
       "    .dataframe tbody tr th {\n",
       "        vertical-align: top;\n",
       "    }\n",
       "\n",
       "    .dataframe thead th {\n",
       "        text-align: right;\n",
       "    }\n",
       "</style>\n",
       "<table border=\"1\" class=\"dataframe\">\n",
       "  <thead>\n",
       "    <tr style=\"text-align: right;\">\n",
       "      <th></th>\n",
       "      <th>id</th>\n",
       "      <th>zip</th>\n",
       "      <th>zip_bins</th>\n",
       "      <th>sex</th>\n",
       "      <th>bizflag</th>\n",
       "      <th>numords</th>\n",
       "      <th>dollars</th>\n",
       "      <th>last</th>\n",
       "      <th>sincepurch</th>\n",
       "      <th>version1</th>\n",
       "      <th>owntaxprod</th>\n",
       "      <th>upgraded</th>\n",
       "      <th>res1</th>\n",
       "      <th>training</th>\n",
       "      <th>res1_yes</th>\n",
       "    </tr>\n",
       "  </thead>\n",
       "  <tbody>\n",
       "    <tr>\n",
       "      <th>0</th>\n",
       "      <td>1</td>\n",
       "      <td>94553</td>\n",
       "      <td>18</td>\n",
       "      <td>Male</td>\n",
       "      <td>0</td>\n",
       "      <td>2</td>\n",
       "      <td>109.5</td>\n",
       "      <td>5</td>\n",
       "      <td>12</td>\n",
       "      <td>0</td>\n",
       "      <td>0</td>\n",
       "      <td>0</td>\n",
       "      <td>No</td>\n",
       "      <td>1</td>\n",
       "      <td>0</td>\n",
       "    </tr>\n",
       "    <tr>\n",
       "      <th>1</th>\n",
       "      <td>2</td>\n",
       "      <td>53190</td>\n",
       "      <td>10</td>\n",
       "      <td>Unknown</td>\n",
       "      <td>0</td>\n",
       "      <td>1</td>\n",
       "      <td>69.5</td>\n",
       "      <td>4</td>\n",
       "      <td>3</td>\n",
       "      <td>0</td>\n",
       "      <td>0</td>\n",
       "      <td>0</td>\n",
       "      <td>No</td>\n",
       "      <td>0</td>\n",
       "      <td>0</td>\n",
       "    </tr>\n",
       "    <tr>\n",
       "      <th>2</th>\n",
       "      <td>3</td>\n",
       "      <td>37091</td>\n",
       "      <td>8</td>\n",
       "      <td>Male</td>\n",
       "      <td>0</td>\n",
       "      <td>4</td>\n",
       "      <td>93.0</td>\n",
       "      <td>14</td>\n",
       "      <td>29</td>\n",
       "      <td>0</td>\n",
       "      <td>0</td>\n",
       "      <td>1</td>\n",
       "      <td>No</td>\n",
       "      <td>0</td>\n",
       "      <td>0</td>\n",
       "    </tr>\n",
       "    <tr>\n",
       "      <th>3</th>\n",
       "      <td>4</td>\n",
       "      <td>02125</td>\n",
       "      <td>1</td>\n",
       "      <td>Male</td>\n",
       "      <td>0</td>\n",
       "      <td>1</td>\n",
       "      <td>22.0</td>\n",
       "      <td>17</td>\n",
       "      <td>1</td>\n",
       "      <td>0</td>\n",
       "      <td>0</td>\n",
       "      <td>0</td>\n",
       "      <td>No</td>\n",
       "      <td>1</td>\n",
       "      <td>0</td>\n",
       "    </tr>\n",
       "    <tr>\n",
       "      <th>4</th>\n",
       "      <td>5</td>\n",
       "      <td>60201</td>\n",
       "      <td>11</td>\n",
       "      <td>Male</td>\n",
       "      <td>0</td>\n",
       "      <td>1</td>\n",
       "      <td>24.5</td>\n",
       "      <td>2</td>\n",
       "      <td>3</td>\n",
       "      <td>0</td>\n",
       "      <td>0</td>\n",
       "      <td>0</td>\n",
       "      <td>No</td>\n",
       "      <td>0</td>\n",
       "      <td>0</td>\n",
       "    </tr>\n",
       "  </tbody>\n",
       "</table>\n",
       "</div>"
      ],
      "text/plain": [
       "   id    zip  zip_bins      sex  bizflag  numords  dollars  last  sincepurch  \\\n",
       "0   1  94553        18     Male        0        2    109.5     5          12   \n",
       "1   2  53190        10  Unknown        0        1     69.5     4           3   \n",
       "2   3  37091         8     Male        0        4     93.0    14          29   \n",
       "3   4  02125         1     Male        0        1     22.0    17           1   \n",
       "4   5  60201        11     Male        0        1     24.5     2           3   \n",
       "\n",
       "   version1  owntaxprod  upgraded res1  training  res1_yes  \n",
       "0         0           0         0   No         1         0  \n",
       "1         0           0         0   No         0         0  \n",
       "2         0           0         1   No         0         0  \n",
       "3         0           0         0   No         1         0  \n",
       "4         0           0         0   No         0         0  "
      ]
     },
     "execution_count": 19,
     "metadata": {},
     "output_type": "execute_result"
    }
   ],
   "source": [
    "## loading the data - this dataset must NOT be changed\n",
    "intuit75k = pd.read_pickle(\"data/intuit75k.pkl\")\n",
    "intuit75k[\"res1_yes\"] = (intuit75k[\"res1\"] == \"Yes\").astype(int)\n",
    "intuit75k.head()"
   ]
  },
  {
   "cell_type": "markdown",
   "metadata": {},
   "source": [
    "### EDA, Features"
   ]
  },
  {
   "cell_type": "code",
   "execution_count": 20,
   "metadata": {},
   "outputs": [],
   "source": [
    "# rsm.distr_plot(intuit75k.loc[:,'zip_bins':])"
   ]
  },
  {
   "cell_type": "code",
   "execution_count": 21,
   "metadata": {},
   "outputs": [],
   "source": [
    "intuit75k['zip801'] = np.where(intuit75k['zip'] == \"00801\",1,0)\n",
    "intuit75k['zip804'] = np.where(intuit75k['zip'] == \"00804\",1,0)\n",
    "intuit75k['Res_zip_bin'] = np.where(intuit75k['zip_bins'] == 1,1,0)"
   ]
  },
  {
   "cell_type": "code",
   "execution_count": 22,
   "metadata": {},
   "outputs": [],
   "source": [
    "def make_version_status(x, y):\n",
    "    if x == 1 and y == 0:\n",
    "        return \"BoughtV1_CurrentV1\"\n",
    "    if x == 0 and y == 1:\n",
    "        return \"BoughtV1_CurrentV2\"\n",
    "    if x == 0 and y == 0:\n",
    "        return \"BoughtV2_CurrentV2\"\n",
    "\n",
    "\n",
    "intuit75k[\"version_status\"] = intuit75k[[\"version1\", \"upgraded\"]].apply(\n",
    "    lambda x: make_version_status(*x), axis=1\n",
    ")\n",
    "\n"
   ]
  },
  {
   "cell_type": "code",
   "execution_count": 23,
   "metadata": {},
   "outputs": [
    {
     "data": {
      "text/html": [
       "<div>\n",
       "<style scoped>\n",
       "    .dataframe tbody tr th:only-of-type {\n",
       "        vertical-align: middle;\n",
       "    }\n",
       "\n",
       "    .dataframe tbody tr th {\n",
       "        vertical-align: top;\n",
       "    }\n",
       "\n",
       "    .dataframe thead th {\n",
       "        text-align: right;\n",
       "    }\n",
       "</style>\n",
       "<table border=\"1\" class=\"dataframe\">\n",
       "  <thead>\n",
       "    <tr style=\"text-align: right;\">\n",
       "      <th></th>\n",
       "      <th>id</th>\n",
       "      <th>zip</th>\n",
       "      <th>zip_bins</th>\n",
       "      <th>sex</th>\n",
       "      <th>bizflag</th>\n",
       "      <th>numords</th>\n",
       "      <th>dollars</th>\n",
       "      <th>last</th>\n",
       "      <th>sincepurch</th>\n",
       "      <th>version1</th>\n",
       "      <th>owntaxprod</th>\n",
       "      <th>upgraded</th>\n",
       "      <th>res1</th>\n",
       "      <th>training</th>\n",
       "      <th>res1_yes</th>\n",
       "      <th>zip801</th>\n",
       "      <th>zip804</th>\n",
       "      <th>Res_zip_bin</th>\n",
       "      <th>version_status</th>\n",
       "    </tr>\n",
       "  </thead>\n",
       "  <tbody>\n",
       "    <tr>\n",
       "      <th>0</th>\n",
       "      <td>1</td>\n",
       "      <td>94553</td>\n",
       "      <td>18</td>\n",
       "      <td>Male</td>\n",
       "      <td>0</td>\n",
       "      <td>2</td>\n",
       "      <td>109.5</td>\n",
       "      <td>5</td>\n",
       "      <td>12</td>\n",
       "      <td>0</td>\n",
       "      <td>0</td>\n",
       "      <td>0</td>\n",
       "      <td>No</td>\n",
       "      <td>1</td>\n",
       "      <td>0</td>\n",
       "      <td>0</td>\n",
       "      <td>0</td>\n",
       "      <td>0</td>\n",
       "      <td>BoughtV2_CurrentV2</td>\n",
       "    </tr>\n",
       "    <tr>\n",
       "      <th>1</th>\n",
       "      <td>2</td>\n",
       "      <td>53190</td>\n",
       "      <td>10</td>\n",
       "      <td>Unknown</td>\n",
       "      <td>0</td>\n",
       "      <td>1</td>\n",
       "      <td>69.5</td>\n",
       "      <td>4</td>\n",
       "      <td>3</td>\n",
       "      <td>0</td>\n",
       "      <td>0</td>\n",
       "      <td>0</td>\n",
       "      <td>No</td>\n",
       "      <td>0</td>\n",
       "      <td>0</td>\n",
       "      <td>0</td>\n",
       "      <td>0</td>\n",
       "      <td>0</td>\n",
       "      <td>BoughtV2_CurrentV2</td>\n",
       "    </tr>\n",
       "    <tr>\n",
       "      <th>2</th>\n",
       "      <td>3</td>\n",
       "      <td>37091</td>\n",
       "      <td>8</td>\n",
       "      <td>Male</td>\n",
       "      <td>0</td>\n",
       "      <td>4</td>\n",
       "      <td>93.0</td>\n",
       "      <td>14</td>\n",
       "      <td>29</td>\n",
       "      <td>0</td>\n",
       "      <td>0</td>\n",
       "      <td>1</td>\n",
       "      <td>No</td>\n",
       "      <td>0</td>\n",
       "      <td>0</td>\n",
       "      <td>0</td>\n",
       "      <td>0</td>\n",
       "      <td>0</td>\n",
       "      <td>BoughtV1_CurrentV2</td>\n",
       "    </tr>\n",
       "    <tr>\n",
       "      <th>3</th>\n",
       "      <td>4</td>\n",
       "      <td>02125</td>\n",
       "      <td>1</td>\n",
       "      <td>Male</td>\n",
       "      <td>0</td>\n",
       "      <td>1</td>\n",
       "      <td>22.0</td>\n",
       "      <td>17</td>\n",
       "      <td>1</td>\n",
       "      <td>0</td>\n",
       "      <td>0</td>\n",
       "      <td>0</td>\n",
       "      <td>No</td>\n",
       "      <td>1</td>\n",
       "      <td>0</td>\n",
       "      <td>0</td>\n",
       "      <td>0</td>\n",
       "      <td>1</td>\n",
       "      <td>BoughtV2_CurrentV2</td>\n",
       "    </tr>\n",
       "    <tr>\n",
       "      <th>4</th>\n",
       "      <td>5</td>\n",
       "      <td>60201</td>\n",
       "      <td>11</td>\n",
       "      <td>Male</td>\n",
       "      <td>0</td>\n",
       "      <td>1</td>\n",
       "      <td>24.5</td>\n",
       "      <td>2</td>\n",
       "      <td>3</td>\n",
       "      <td>0</td>\n",
       "      <td>0</td>\n",
       "      <td>0</td>\n",
       "      <td>No</td>\n",
       "      <td>0</td>\n",
       "      <td>0</td>\n",
       "      <td>0</td>\n",
       "      <td>0</td>\n",
       "      <td>0</td>\n",
       "      <td>BoughtV2_CurrentV2</td>\n",
       "    </tr>\n",
       "  </tbody>\n",
       "</table>\n",
       "</div>"
      ],
      "text/plain": [
       "   id    zip  zip_bins      sex  bizflag  numords  dollars  last  sincepurch  \\\n",
       "0   1  94553        18     Male        0        2    109.5     5          12   \n",
       "1   2  53190        10  Unknown        0        1     69.5     4           3   \n",
       "2   3  37091         8     Male        0        4     93.0    14          29   \n",
       "3   4  02125         1     Male        0        1     22.0    17           1   \n",
       "4   5  60201        11     Male        0        1     24.5     2           3   \n",
       "\n",
       "   version1  owntaxprod  upgraded res1  training  res1_yes  zip801  zip804  \\\n",
       "0         0           0         0   No         1         0       0       0   \n",
       "1         0           0         0   No         0         0       0       0   \n",
       "2         0           0         1   No         0         0       0       0   \n",
       "3         0           0         0   No         1         0       0       0   \n",
       "4         0           0         0   No         0         0       0       0   \n",
       "\n",
       "   Res_zip_bin      version_status  \n",
       "0            0  BoughtV2_CurrentV2  \n",
       "1            0  BoughtV2_CurrentV2  \n",
       "2            0  BoughtV1_CurrentV2  \n",
       "3            1  BoughtV2_CurrentV2  \n",
       "4            0  BoughtV2_CurrentV2  "
      ]
     },
     "execution_count": 23,
     "metadata": {},
     "output_type": "execute_result"
    }
   ],
   "source": [
    "intuit75k.head()"
   ]
  },
  {
   "cell_type": "code",
   "execution_count": 24,
   "metadata": {},
   "outputs": [
    {
     "data": {
      "text/html": [
       "<div>\n",
       "<style scoped>\n",
       "    .dataframe tbody tr th:only-of-type {\n",
       "        vertical-align: middle;\n",
       "    }\n",
       "\n",
       "    .dataframe tbody tr th {\n",
       "        vertical-align: top;\n",
       "    }\n",
       "\n",
       "    .dataframe thead th {\n",
       "        text-align: right;\n",
       "    }\n",
       "</style>\n",
       "<table border=\"1\" class=\"dataframe\">\n",
       "  <thead>\n",
       "    <tr style=\"text-align: right;\">\n",
       "      <th></th>\n",
       "      <th>numords</th>\n",
       "      <th>dollars</th>\n",
       "      <th>last</th>\n",
       "      <th>sincepurch</th>\n",
       "      <th>version1</th>\n",
       "      <th>owntaxprod</th>\n",
       "      <th>upgraded</th>\n",
       "      <th>zip801</th>\n",
       "      <th>zip804</th>\n",
       "      <th>zip_bins_1</th>\n",
       "      <th>...</th>\n",
       "      <th>zip_bins_11</th>\n",
       "      <th>zip_bins_12</th>\n",
       "      <th>zip_bins_13</th>\n",
       "      <th>zip_bins_14</th>\n",
       "      <th>zip_bins_15</th>\n",
       "      <th>zip_bins_16</th>\n",
       "      <th>zip_bins_17</th>\n",
       "      <th>zip_bins_18</th>\n",
       "      <th>zip_bins_19</th>\n",
       "      <th>zip_bins_20</th>\n",
       "    </tr>\n",
       "  </thead>\n",
       "  <tbody>\n",
       "    <tr>\n",
       "      <th>0</th>\n",
       "      <td>2</td>\n",
       "      <td>109.5</td>\n",
       "      <td>5</td>\n",
       "      <td>12</td>\n",
       "      <td>0</td>\n",
       "      <td>0</td>\n",
       "      <td>0</td>\n",
       "      <td>0</td>\n",
       "      <td>0</td>\n",
       "      <td>0</td>\n",
       "      <td>...</td>\n",
       "      <td>0</td>\n",
       "      <td>0</td>\n",
       "      <td>0</td>\n",
       "      <td>0</td>\n",
       "      <td>0</td>\n",
       "      <td>0</td>\n",
       "      <td>0</td>\n",
       "      <td>1</td>\n",
       "      <td>0</td>\n",
       "      <td>0</td>\n",
       "    </tr>\n",
       "    <tr>\n",
       "      <th>1</th>\n",
       "      <td>1</td>\n",
       "      <td>69.5</td>\n",
       "      <td>4</td>\n",
       "      <td>3</td>\n",
       "      <td>0</td>\n",
       "      <td>0</td>\n",
       "      <td>0</td>\n",
       "      <td>0</td>\n",
       "      <td>0</td>\n",
       "      <td>0</td>\n",
       "      <td>...</td>\n",
       "      <td>0</td>\n",
       "      <td>0</td>\n",
       "      <td>0</td>\n",
       "      <td>0</td>\n",
       "      <td>0</td>\n",
       "      <td>0</td>\n",
       "      <td>0</td>\n",
       "      <td>0</td>\n",
       "      <td>0</td>\n",
       "      <td>0</td>\n",
       "    </tr>\n",
       "    <tr>\n",
       "      <th>2</th>\n",
       "      <td>4</td>\n",
       "      <td>93.0</td>\n",
       "      <td>14</td>\n",
       "      <td>29</td>\n",
       "      <td>0</td>\n",
       "      <td>0</td>\n",
       "      <td>1</td>\n",
       "      <td>0</td>\n",
       "      <td>0</td>\n",
       "      <td>0</td>\n",
       "      <td>...</td>\n",
       "      <td>0</td>\n",
       "      <td>0</td>\n",
       "      <td>0</td>\n",
       "      <td>0</td>\n",
       "      <td>0</td>\n",
       "      <td>0</td>\n",
       "      <td>0</td>\n",
       "      <td>0</td>\n",
       "      <td>0</td>\n",
       "      <td>0</td>\n",
       "    </tr>\n",
       "    <tr>\n",
       "      <th>3</th>\n",
       "      <td>1</td>\n",
       "      <td>22.0</td>\n",
       "      <td>17</td>\n",
       "      <td>1</td>\n",
       "      <td>0</td>\n",
       "      <td>0</td>\n",
       "      <td>0</td>\n",
       "      <td>0</td>\n",
       "      <td>0</td>\n",
       "      <td>1</td>\n",
       "      <td>...</td>\n",
       "      <td>0</td>\n",
       "      <td>0</td>\n",
       "      <td>0</td>\n",
       "      <td>0</td>\n",
       "      <td>0</td>\n",
       "      <td>0</td>\n",
       "      <td>0</td>\n",
       "      <td>0</td>\n",
       "      <td>0</td>\n",
       "      <td>0</td>\n",
       "    </tr>\n",
       "    <tr>\n",
       "      <th>4</th>\n",
       "      <td>1</td>\n",
       "      <td>24.5</td>\n",
       "      <td>2</td>\n",
       "      <td>3</td>\n",
       "      <td>0</td>\n",
       "      <td>0</td>\n",
       "      <td>0</td>\n",
       "      <td>0</td>\n",
       "      <td>0</td>\n",
       "      <td>0</td>\n",
       "      <td>...</td>\n",
       "      <td>1</td>\n",
       "      <td>0</td>\n",
       "      <td>0</td>\n",
       "      <td>0</td>\n",
       "      <td>0</td>\n",
       "      <td>0</td>\n",
       "      <td>0</td>\n",
       "      <td>0</td>\n",
       "      <td>0</td>\n",
       "      <td>0</td>\n",
       "    </tr>\n",
       "  </tbody>\n",
       "</table>\n",
       "<p>5 rows × 29 columns</p>\n",
       "</div>"
      ],
      "text/plain": [
       "   numords  dollars  last  sincepurch  version1  owntaxprod  upgraded  zip801  \\\n",
       "0        2    109.5     5          12         0           0         0       0   \n",
       "1        1     69.5     4           3         0           0         0       0   \n",
       "2        4     93.0    14          29         0           0         1       0   \n",
       "3        1     22.0    17           1         0           0         0       0   \n",
       "4        1     24.5     2           3         0           0         0       0   \n",
       "\n",
       "   zip804  zip_bins_1  ...  zip_bins_11  zip_bins_12  zip_bins_13  \\\n",
       "0       0           0  ...            0            0            0   \n",
       "1       0           0  ...            0            0            0   \n",
       "2       0           0  ...            0            0            0   \n",
       "3       0           1  ...            0            0            0   \n",
       "4       0           0  ...            1            0            0   \n",
       "\n",
       "   zip_bins_14  zip_bins_15  zip_bins_16  zip_bins_17  zip_bins_18  \\\n",
       "0            0            0            0            0            1   \n",
       "1            0            0            0            0            0   \n",
       "2            0            0            0            0            0   \n",
       "3            0            0            0            0            0   \n",
       "4            0            0            0            0            0   \n",
       "\n",
       "   zip_bins_19  zip_bins_20  \n",
       "0            0            0  \n",
       "1            0            0  \n",
       "2            0            0  \n",
       "3            0            0  \n",
       "4            0            0  \n",
       "\n",
       "[5 rows x 29 columns]"
      ]
     },
     "execution_count": 24,
     "metadata": {},
     "output_type": "execute_result"
    }
   ],
   "source": [
    "y = np.array(intuit75k['res1_yes'])\n",
    "intuit75k_modified = intuit75k.drop(columns=['zip','res1','res1_yes','sex', 'id','training','Res_zip_bin','bizflag','version_status'], axis=1)\n",
    "intuit75k_modified['zip_bins'] = pd.Categorical(intuit75k_modified['zip_bins'])\n",
    "intuit75k_modified = pd.get_dummies(intuit75k_modified)\n",
    "intuit75k_modified.head()\n"
   ]
  },
  {
   "cell_type": "code",
   "execution_count": 25,
   "metadata": {},
   "outputs": [],
   "source": [
    "intuit75k_cols = list(intuit75k_modified.columns)\n",
    "\n",
    "X = np.array(intuit75k_modified)"
   ]
  },
  {
   "cell_type": "code",
   "execution_count": 26,
   "metadata": {},
   "outputs": [],
   "source": [
    "cost= 1.41\n",
    "margin= 30\n",
    "breakeven= cost/margin"
   ]
  },
  {
   "cell_type": "code",
   "execution_count": 27,
   "metadata": {},
   "outputs": [
    {
     "data": {
      "text/plain": [
       "0.047"
      ]
     },
     "execution_count": 27,
     "metadata": {},
     "output_type": "execute_result"
    }
   ],
   "source": [
    "breakeven"
   ]
  },
  {
   "cell_type": "markdown",
   "metadata": {},
   "source": [
    "### Decision Tree  "
   ]
  },
  {
   "cell_type": "code",
   "execution_count": 28,
   "metadata": {},
   "outputs": [
    {
     "name": "stdout",
     "output_type": "stream",
     "text": [
      "Accuracy: 0.95\n",
      "CV MSE: 0.05\n",
      "Train MSE: 0.05\n",
      "Test MSE: 0.05\n",
      "ROC AUC Score Test: 0.65\n",
      "ROC AUC Score Train: 0.66\n"
     ]
    }
   ],
   "source": [
    "from sklearn.tree import DecisionTreeClassifier\n",
    "from sklearn.model_selection import train_test_split\n",
    "from sklearn.metrics import mean_squared_error as MSE\n",
    "from sklearn.model_selection import cross_val_score\n",
    "from sklearn.metrics import accuracy_score\n",
    "from sklearn.metrics import roc_auc_score\n",
    "\n",
    "SEED = 123\n",
    "SEED2 = 168\n",
    "X_train, X_test, y_train, y_test= train_test_split(X, y,\n",
    "                                                   stratify=y,  random_state=SEED, test_size = 0.3)\n",
    "\n",
    "dt = DecisionTreeClassifier(max_depth=4, random_state=SEED2, min_samples_leaf = 0.14)\n",
    "\n",
    "MSE_CV = - cross_val_score(dt, X_train, y_train, cv= 10, scoring='neg_mean_squared_error', n_jobs = 4)\n",
    "\n",
    "dt.fit(X_train,y_train)\n",
    "\n",
    "y_predict_train = dt.predict(X_train)\n",
    "y_predict_test = dt.predict(X_test)\n",
    "y_pred_proba = dt.predict_proba(X_test)[:,1]\n",
    "y_pred_proba_train = dt.predict_proba(X_train)[:,1]\n",
    "\n",
    "print('Accuracy: {:.2f}'.format(accuracy_score(y_test, y_predict_test)))\n",
    "print('CV MSE: {:.2f}'.format(MSE_CV.mean()))\n",
    "print('Train MSE: {:.2f}'.format(MSE(y_train, y_predict_train)))\n",
    "print('Test MSE: {:.2f}'.format(MSE(y_test, y_predict_test)))\n",
    "print('ROC AUC Score Test: {:.2f}'.format(roc_auc_score(y_test, y_pred_proba)))\n",
    "print('ROC AUC Score Train: {:.2f}'.format(roc_auc_score(y_train, y_pred_proba_train)))"
   ]
  },
  {
   "cell_type": "code",
   "execution_count": 15,
   "metadata": {},
   "outputs": [
    {
     "name": "stdout",
     "output_type": "stream",
     "text": [
      "ROC AUC is 0.6522815515094926\n",
      "Profit is 8210.070000000002\n"
     ]
    },
    {
     "data": {
      "text/html": [
       "<div>\n",
       "<style scoped>\n",
       "    .dataframe tbody tr th:only-of-type {\n",
       "        vertical-align: middle;\n",
       "    }\n",
       "\n",
       "    .dataframe tbody tr th {\n",
       "        vertical-align: top;\n",
       "    }\n",
       "\n",
       "    .dataframe thead th {\n",
       "        text-align: right;\n",
       "    }\n",
       "</style>\n",
       "<table border=\"1\" class=\"dataframe\">\n",
       "  <thead>\n",
       "    <tr style=\"text-align: right;\">\n",
       "      <th>predicted_res_dt</th>\n",
       "      <th>0</th>\n",
       "      <th>1</th>\n",
       "      <th>Total</th>\n",
       "    </tr>\n",
       "    <tr>\n",
       "      <th>res_y</th>\n",
       "      <th></th>\n",
       "      <th></th>\n",
       "      <th></th>\n",
       "    </tr>\n",
       "  </thead>\n",
       "  <tbody>\n",
       "    <tr>\n",
       "      <th>0</th>\n",
       "      <td>11427</td>\n",
       "      <td>9993</td>\n",
       "      <td>21420</td>\n",
       "    </tr>\n",
       "    <tr>\n",
       "      <th>1</th>\n",
       "      <td>300</td>\n",
       "      <td>780</td>\n",
       "      <td>1080</td>\n",
       "    </tr>\n",
       "    <tr>\n",
       "      <th>Total</th>\n",
       "      <td>11727</td>\n",
       "      <td>10773</td>\n",
       "      <td>22500</td>\n",
       "    </tr>\n",
       "  </tbody>\n",
       "</table>\n",
       "</div>"
      ],
      "text/plain": [
       "predicted_res_dt      0      1  Total\n",
       "res_y                                \n",
       "0                 11427   9993  21420\n",
       "1                   300    780   1080\n",
       "Total             11727  10773  22500"
      ]
     },
     "execution_count": 15,
     "metadata": {},
     "output_type": "execute_result"
    }
   ],
   "source": [
    "roc_dt, profit_dt, cm_dt = performance_profit(X_test, y_test, dt, 'dt', breakeven)\n",
    "cm_dt"
   ]
  },
  {
   "cell_type": "markdown",
   "metadata": {},
   "source": [
    "#### Grid Search DT"
   ]
  },
  {
   "cell_type": "code",
   "execution_count": 16,
   "metadata": {},
   "outputs": [
    {
     "data": {
      "text/plain": [
       "{'ccp_alpha': 0.0,\n",
       " 'class_weight': None,\n",
       " 'criterion': 'gini',\n",
       " 'max_depth': 4,\n",
       " 'max_features': None,\n",
       " 'max_leaf_nodes': None,\n",
       " 'min_impurity_decrease': 0.0,\n",
       " 'min_impurity_split': None,\n",
       " 'min_samples_leaf': 0.14,\n",
       " 'min_samples_split': 2,\n",
       " 'min_weight_fraction_leaf': 0.0,\n",
       " 'random_state': 168,\n",
       " 'splitter': 'best'}"
      ]
     },
     "execution_count": 16,
     "metadata": {},
     "output_type": "execute_result"
    }
   ],
   "source": [
    "from sklearn.model_selection import GridSearchCV\n",
    "dt.get_params()"
   ]
  },
  {
   "cell_type": "code",
   "execution_count": 17,
   "metadata": {},
   "outputs": [],
   "source": [
    "params_dt = {'max_depth': [4,5, 6, 7, 8, 9, 10],'min_samples_leaf': [0.2,0.04, 0.06, 0.08, 0.09, 0.1],'max_features': [0.2, 0.4, 0.45, 0.5, 0.6]}"
   ]
  },
  {
   "cell_type": "code",
   "execution_count": 18,
   "metadata": {},
   "outputs": [],
   "source": [
    "grid_dt = GridSearchCV(estimator=dt,\n",
    "                       param_grid=params_dt,\n",
    "                       scoring=profit_score,\n",
    "                       cv=5,\n",
    "                       n_jobs=8,\n",
    "                      verbose = 5,\n",
    "                      refit = 'AUC')"
   ]
  },
  {
   "cell_type": "code",
   "execution_count": 19,
   "metadata": {},
   "outputs": [
    {
     "name": "stdout",
     "output_type": "stream",
     "text": [
      "Fitting 5 folds for each of 210 candidates, totalling 1050 fits\n"
     ]
    },
    {
     "data": {
      "text/plain": [
       "GridSearchCV(cv=5,\n",
       "             estimator=DecisionTreeClassifier(max_depth=4,\n",
       "                                              min_samples_leaf=0.14,\n",
       "                                              random_state=168),\n",
       "             n_jobs=8,\n",
       "             param_grid={'max_depth': [4, 5, 6, 7, 8, 9, 10],\n",
       "                         'max_features': [0.2, 0.4, 0.45, 0.5, 0.6],\n",
       "                         'min_samples_leaf': [0.2, 0.04, 0.06, 0.08, 0.09,\n",
       "                                              0.1]},\n",
       "             refit='AUC', scoring=make_scorer(profit_scoring, needs_proba=True),\n",
       "             verbose=5)"
      ]
     },
     "execution_count": 19,
     "metadata": {},
     "output_type": "execute_result"
    }
   ],
   "source": [
    "grid_dt.fit(X_train, y_train)"
   ]
  },
  {
   "cell_type": "code",
   "execution_count": 20,
   "metadata": {},
   "outputs": [
    {
     "name": "stdout",
     "output_type": "stream",
     "text": [
      "Best hyerparameters:\n",
      " {'max_depth': 6, 'max_features': 0.2, 'min_samples_leaf': 0.04}\n"
     ]
    }
   ],
   "source": [
    "best_hyperparams = grid_dt.best_params_\n",
    "print('Best hyerparameters:\\n', best_hyperparams)"
   ]
  },
  {
   "cell_type": "code",
   "execution_count": 21,
   "metadata": {},
   "outputs": [],
   "source": [
    "best_model = grid_dt.best_estimator_"
   ]
  },
  {
   "cell_type": "code",
   "execution_count": 22,
   "metadata": {},
   "outputs": [
    {
     "name": "stdout",
     "output_type": "stream",
     "text": [
      "ROC AUC is 0.6786716507590691\n",
      "Profit is 8623.26\n"
     ]
    },
    {
     "data": {
      "text/html": [
       "<div>\n",
       "<style scoped>\n",
       "    .dataframe tbody tr th:only-of-type {\n",
       "        vertical-align: middle;\n",
       "    }\n",
       "\n",
       "    .dataframe tbody tr th {\n",
       "        vertical-align: top;\n",
       "    }\n",
       "\n",
       "    .dataframe thead th {\n",
       "        text-align: right;\n",
       "    }\n",
       "</style>\n",
       "<table border=\"1\" class=\"dataframe\">\n",
       "  <thead>\n",
       "    <tr style=\"text-align: right;\">\n",
       "      <th>predicted_res_dt</th>\n",
       "      <th>0</th>\n",
       "      <th>1</th>\n",
       "      <th>Total</th>\n",
       "    </tr>\n",
       "    <tr>\n",
       "      <th>res_y</th>\n",
       "      <th></th>\n",
       "      <th></th>\n",
       "      <th></th>\n",
       "    </tr>\n",
       "  </thead>\n",
       "  <tbody>\n",
       "    <tr>\n",
       "      <th>0</th>\n",
       "      <td>14356</td>\n",
       "      <td>7064</td>\n",
       "      <td>21420</td>\n",
       "    </tr>\n",
       "    <tr>\n",
       "      <th>1</th>\n",
       "      <td>430</td>\n",
       "      <td>650</td>\n",
       "      <td>1080</td>\n",
       "    </tr>\n",
       "    <tr>\n",
       "      <th>Total</th>\n",
       "      <td>14786</td>\n",
       "      <td>7714</td>\n",
       "      <td>22500</td>\n",
       "    </tr>\n",
       "  </tbody>\n",
       "</table>\n",
       "</div>"
      ],
      "text/plain": [
       "predicted_res_dt      0     1  Total\n",
       "res_y                               \n",
       "0                 14356  7064  21420\n",
       "1                   430   650   1080\n",
       "Total             14786  7714  22500"
      ]
     },
     "execution_count": 22,
     "metadata": {},
     "output_type": "execute_result"
    }
   ],
   "source": [
    "roc_dt, profit_dt, cm_dt = performance_profit(X_test, y_test, best_model , 'dt', breakeven)\n",
    "cm_dt"
   ]
  },
  {
   "cell_type": "markdown",
   "metadata": {},
   "source": [
    "<br>"
   ]
  },
  {
   "cell_type": "markdown",
   "metadata": {},
   "source": [
    "### Bagging Classifier"
   ]
  },
  {
   "cell_type": "code",
   "execution_count": 33,
   "metadata": {},
   "outputs": [
    {
     "name": "stdout",
     "output_type": "stream",
     "text": [
      "Accuracy of Bagging Classifier: 0.952\n",
      "OOB accuracy: 0.952\n",
      "CPU times: user 2.36 s, sys: 210 ms, total: 2.57 s\n",
      "Wall time: 6.62 s\n"
     ]
    }
   ],
   "source": [
    "%%time\n",
    "from sklearn.ensemble import BaggingClassifier\n",
    "from sklearn.tree import DecisionTreeClassifier\n",
    "from sklearn.metrics import accuracy_score\n",
    "from sklearn.model_selection import train_test_split\n",
    "\n",
    "X_train, X_test, y_train, y_test= train_test_split(X, y,\n",
    "                                                    stratify=y,  random_state=SEED, test_size = 0.3)\n",
    "\n",
    "bc = BaggingClassifier(base_estimator=dt, n_estimators=300, n_jobs=4, oob_score=True)\n",
    "\n",
    "bc.fit(X_train, y_train)\n",
    "\n",
    "y_pred = bc.predict(X_test)\n",
    "\n",
    "accuracy = accuracy_score(y_test, y_pred)\n",
    "oob_accuracy = bc.oob_score_\n",
    "\n",
    "print('Accuracy of Bagging Classifier: {:.3f}'.format(accuracy))\n",
    "print('OOB accuracy: {:.3f}'.format(oob_accuracy))"
   ]
  },
  {
   "cell_type": "code",
   "execution_count": 31,
   "metadata": {},
   "outputs": [
    {
     "name": "stdout",
     "output_type": "stream",
     "text": [
      "ROC AUC is 0.6550707628730504\n",
      "Profit is 6275.790000000001\n"
     ]
    },
    {
     "data": {
      "text/html": [
       "<div>\n",
       "<style scoped>\n",
       "    .dataframe tbody tr th:only-of-type {\n",
       "        vertical-align: middle;\n",
       "    }\n",
       "\n",
       "    .dataframe tbody tr th {\n",
       "        vertical-align: top;\n",
       "    }\n",
       "\n",
       "    .dataframe thead th {\n",
       "        text-align: right;\n",
       "    }\n",
       "</style>\n",
       "<table border=\"1\" class=\"dataframe\">\n",
       "  <thead>\n",
       "    <tr style=\"text-align: right;\">\n",
       "      <th>predicted_res_bc</th>\n",
       "      <th>0</th>\n",
       "      <th>1</th>\n",
       "      <th>Total</th>\n",
       "    </tr>\n",
       "    <tr>\n",
       "      <th>res_y</th>\n",
       "      <th></th>\n",
       "      <th></th>\n",
       "      <th></th>\n",
       "    </tr>\n",
       "  </thead>\n",
       "  <tbody>\n",
       "    <tr>\n",
       "      <th>0</th>\n",
       "      <td>9163</td>\n",
       "      <td>12257</td>\n",
       "      <td>21420</td>\n",
       "    </tr>\n",
       "    <tr>\n",
       "      <th>1</th>\n",
       "      <td>256</td>\n",
       "      <td>824</td>\n",
       "      <td>1080</td>\n",
       "    </tr>\n",
       "    <tr>\n",
       "      <th>Total</th>\n",
       "      <td>9419</td>\n",
       "      <td>13081</td>\n",
       "      <td>22500</td>\n",
       "    </tr>\n",
       "  </tbody>\n",
       "</table>\n",
       "</div>"
      ],
      "text/plain": [
       "predicted_res_bc     0      1  Total\n",
       "res_y                               \n",
       "0                 9163  12257  21420\n",
       "1                  256    824   1080\n",
       "Total             9419  13081  22500"
      ]
     },
     "execution_count": 31,
     "metadata": {},
     "output_type": "execute_result"
    }
   ],
   "source": [
    "roc_bc, profit_bc, cm_bc = performance_profit(X_test, y_test, bc, 'bc', breakeven)\n",
    "cm_bc"
   ]
  },
  {
   "cell_type": "markdown",
   "metadata": {},
   "source": [
    "#### Grid Search BC"
   ]
  },
  {
   "cell_type": "code",
   "execution_count": 52,
   "metadata": {},
   "outputs": [
    {
     "data": {
      "text/plain": [
       "{'base_estimator__ccp_alpha': 0.0,\n",
       " 'base_estimator__class_weight': None,\n",
       " 'base_estimator__criterion': 'gini',\n",
       " 'base_estimator__max_depth': 4,\n",
       " 'base_estimator__max_features': None,\n",
       " 'base_estimator__max_leaf_nodes': None,\n",
       " 'base_estimator__min_impurity_decrease': 0.0,\n",
       " 'base_estimator__min_impurity_split': None,\n",
       " 'base_estimator__min_samples_leaf': 0.14,\n",
       " 'base_estimator__min_samples_split': 2,\n",
       " 'base_estimator__min_weight_fraction_leaf': 0.0,\n",
       " 'base_estimator__random_state': 168,\n",
       " 'base_estimator__splitter': 'best',\n",
       " 'base_estimator': DecisionTreeClassifier(max_depth=4, min_samples_leaf=0.14, random_state=168),\n",
       " 'bootstrap': True,\n",
       " 'bootstrap_features': False,\n",
       " 'max_features': 1.0,\n",
       " 'max_samples': 1.0,\n",
       " 'n_estimators': 300,\n",
       " 'n_jobs': 4,\n",
       " 'oob_score': True,\n",
       " 'random_state': None,\n",
       " 'verbose': 0,\n",
       " 'warm_start': False}"
      ]
     },
     "execution_count": 52,
     "metadata": {},
     "output_type": "execute_result"
    }
   ],
   "source": [
    "from sklearn.model_selection import GridSearchCV\n",
    "bc.get_params()"
   ]
  },
  {
   "cell_type": "code",
   "execution_count": 53,
   "metadata": {},
   "outputs": [],
   "source": [
    "params_bc = {'base_estimator__min_samples_leaf': [0.04, 0.06, 0.08],'max_features': [0.2, 0.4,0.6, 0.8],'base_estimator__max_depth' : [3, 4, 5, 6],\n",
    "    'max_samples' : [0.05, 0.1, 0.2, 0.5]}"
   ]
  },
  {
   "cell_type": "code",
   "execution_count": 54,
   "metadata": {},
   "outputs": [],
   "source": [
    "grid_bc = GridSearchCV(estimator=bc,\n",
    "                       param_grid=params_bc,\n",
    "                       scoring=profit_score,\n",
    "                       cv=5,\n",
    "                       n_jobs=8,\n",
    "                      verbose = 5,\n",
    "                      refit = 'AUC')"
   ]
  },
  {
   "cell_type": "code",
   "execution_count": null,
   "metadata": {},
   "outputs": [],
   "source": [
    "grid_bc.fit(X_train, y_train)"
   ]
  },
  {
   "cell_type": "code",
   "execution_count": null,
   "metadata": {},
   "outputs": [],
   "source": [
    "best_hyperparams = grid_bc.best_params_\n",
    "print('Best hyerparameters:\\n', best_hyperparams)"
   ]
  },
  {
   "cell_type": "code",
   "execution_count": null,
   "metadata": {},
   "outputs": [],
   "source": [
    "best_model = grid_bc.best_estimator_"
   ]
  },
  {
   "cell_type": "code",
   "execution_count": null,
   "metadata": {},
   "outputs": [],
   "source": [
    "roc_bcbest, profit_bcbest, cm_bcbest = performance_profit(X_test, y_test, best_model , 'bcbest', breakeven)\n",
    "cm_bcbest"
   ]
  },
  {
   "cell_type": "markdown",
   "metadata": {},
   "source": [
    "<br>"
   ]
  },
  {
   "cell_type": "markdown",
   "metadata": {},
   "source": [
    "### Random Forest"
   ]
  },
  {
   "cell_type": "code",
   "execution_count": 34,
   "metadata": {},
   "outputs": [
    {
     "name": "stdout",
     "output_type": "stream",
     "text": [
      "Test set RMSE of rf: 0.22\n",
      "CPU times: user 4.67 s, sys: 7.26 ms, total: 4.68 s\n",
      "Wall time: 4.71 s\n"
     ]
    }
   ],
   "source": [
    "%%time\n",
    "from sklearn.ensemble import RandomForestRegressor\n",
    "from sklearn.ensemble import RandomForestClassifier\n",
    "from sklearn.model_selection import train_test_split\n",
    "from sklearn.metrics import mean_squared_error as MSE\n",
    "\n",
    "SEED = 1234\n",
    "X_train, X_test, y_train, y_test= train_test_split(X, y,\n",
    "                                                   stratify=y,  random_state=SEED, test_size = 0.3)\n",
    "\n",
    "rf = RandomForestClassifier(n_estimators=400,min_samples_leaf=0.12,random_state=SEED,max_features=3, oob_score=True)\n",
    "\n",
    "rf.fit(X_train, y_train)\n",
    "y_pred = rf.predict(X_test)\n",
    "rmse_test = MSE(y_test, y_pred)**(1/2)\n",
    "\n",
    "print('Test set RMSE of rf: {:.2f}'.format(rmse_test))\n"
   ]
  },
  {
   "cell_type": "code",
   "execution_count": 24,
   "metadata": {},
   "outputs": [
    {
     "data": {
      "image/png": "[encoded data removed]",
      "text/plain": [
       "<Figure size 432x288 with 1 Axes>"
      ]
     },
     "metadata": {
      "needs_background": "light"
     },
     "output_type": "display_data"
    },
    {
     "data": {
      "text/plain": [
       "zip_bins_6     0.000000\n",
       "zip_bins_18    0.000000\n",
       "zip_bins_17    0.000000\n",
       "zip_bins_16    0.000000\n",
       "zip_bins_15    0.000000\n",
       "zip_bins_14    0.000000\n",
       "zip_bins_13    0.000000\n",
       "zip_bins_12    0.000000\n",
       "zip_bins_11    0.000000\n",
       "zip_bins_10    0.000000\n",
       "zip_bins_9     0.000000\n",
       "zip_bins_8     0.000000\n",
       "zip_bins_7     0.000000\n",
       "zip_bins_19    0.000000\n",
       "zip_bins_20    0.000000\n",
       "zip_bins_4     0.000000\n",
       "zip_bins_3     0.000000\n",
       "zip_bins_2     0.000000\n",
       "zip_bins_1     0.000000\n",
       "zip804         0.000000\n",
       "zip801         0.000000\n",
       "owntaxprod     0.000000\n",
       "zip_bins_5     0.000000\n",
       "version1       0.077323\n",
       "upgraded       0.116744\n",
       "dollars        0.128087\n",
       "numords        0.170145\n",
       "sincepurch     0.248797\n",
       "last           0.258904\n",
       "dtype: float64"
      ]
     },
     "execution_count": 24,
     "metadata": {},
     "output_type": "execute_result"
    }
   ],
   "source": [
    "import pandas as pd\n",
    "import matplotlib.pyplot as plt\n",
    "\n",
    "importances_rf = pd.Series(rf.feature_importances_, index = intuit75k_cols)\n",
    "sorted_importances_rf = importances_rf.sort_values()\n",
    "sorted_importances_rf.plot(kind='barh', color='lightgreen'); plt.show()\n",
    "sorted_importances_rf"
   ]
  },
  {
   "cell_type": "code",
   "execution_count": 25,
   "metadata": {},
   "outputs": [
    {
     "name": "stdout",
     "output_type": "stream",
     "text": [
      "ROC AUC is 0.6770441046789086\n",
      "Profit is 6504.84\n"
     ]
    },
    {
     "data": {
      "text/html": [
       "<div>\n",
       "<style scoped>\n",
       "    .dataframe tbody tr th:only-of-type {\n",
       "        vertical-align: middle;\n",
       "    }\n",
       "\n",
       "    .dataframe tbody tr th {\n",
       "        vertical-align: top;\n",
       "    }\n",
       "\n",
       "    .dataframe thead th {\n",
       "        text-align: right;\n",
       "    }\n",
       "</style>\n",
       "<table border=\"1\" class=\"dataframe\">\n",
       "  <thead>\n",
       "    <tr style=\"text-align: right;\">\n",
       "      <th>predicted_res_rf</th>\n",
       "      <th>0</th>\n",
       "      <th>1</th>\n",
       "      <th>Total</th>\n",
       "    </tr>\n",
       "    <tr>\n",
       "      <th>res_y</th>\n",
       "      <th></th>\n",
       "      <th></th>\n",
       "      <th></th>\n",
       "    </tr>\n",
       "  </thead>\n",
       "  <tbody>\n",
       "    <tr>\n",
       "      <th>0</th>\n",
       "      <td>8413</td>\n",
       "      <td>13007</td>\n",
       "      <td>21420</td>\n",
       "    </tr>\n",
       "    <tr>\n",
       "      <th>1</th>\n",
       "      <td>211</td>\n",
       "      <td>869</td>\n",
       "      <td>1080</td>\n",
       "    </tr>\n",
       "    <tr>\n",
       "      <th>Total</th>\n",
       "      <td>8624</td>\n",
       "      <td>13876</td>\n",
       "      <td>22500</td>\n",
       "    </tr>\n",
       "  </tbody>\n",
       "</table>\n",
       "</div>"
      ],
      "text/plain": [
       "predicted_res_rf     0      1  Total\n",
       "res_y                               \n",
       "0                 8413  13007  21420\n",
       "1                  211    869   1080\n",
       "Total             8624  13876  22500"
      ]
     },
     "execution_count": 25,
     "metadata": {},
     "output_type": "execute_result"
    }
   ],
   "source": [
    "roc_rf, profit_rf, cm_rf = performance_profit(X_test, y_test, rf, 'rf', breakeven)\n",
    "cm_rf"
   ]
  },
  {
   "cell_type": "markdown",
   "metadata": {},
   "source": [
    "### Grid Search RF"
   ]
  },
  {
   "cell_type": "code",
   "execution_count": 26,
   "metadata": {},
   "outputs": [
    {
     "data": {
      "text/plain": [
       "{'bootstrap': True,\n",
       " 'ccp_alpha': 0.0,\n",
       " 'class_weight': None,\n",
       " 'criterion': 'gini',\n",
       " 'max_depth': None,\n",
       " 'max_features': 3,\n",
       " 'max_leaf_nodes': None,\n",
       " 'max_samples': None,\n",
       " 'min_impurity_decrease': 0.0,\n",
       " 'min_impurity_split': None,\n",
       " 'min_samples_leaf': 0.12,\n",
       " 'min_samples_split': 2,\n",
       " 'min_weight_fraction_leaf': 0.0,\n",
       " 'n_estimators': 400,\n",
       " 'n_jobs': None,\n",
       " 'oob_score': True,\n",
       " 'random_state': 1234,\n",
       " 'verbose': 0,\n",
       " 'warm_start': False}"
      ]
     },
     "execution_count": 26,
     "metadata": {},
     "output_type": "execute_result"
    }
   ],
   "source": [
    "from sklearn.model_selection import GridSearchCV, RandomizedSearchCV\n",
    "rf.get_params()"
   ]
  },
  {
   "cell_type": "code",
   "execution_count": 35,
   "metadata": {},
   "outputs": [],
   "source": [
    "params_rf = {'criterion': ['gini', 'entropy'],\n",
    "     'bootstrap': [True, False],\n",
    "     'max_depth': [10, 20, 30, 40],\n",
    "     'max_features': ['sqrt'],\n",
    "     'min_samples_leaf': [1, 2, 4],\n",
    "     'min_samples_split': [2, 5, 10],\n",
    "     'n_estimators': [200, 400, 600, 800],\n",
    "            'class_weight': ['balanced', 'balanced_subsample']}"
   ]
  },
  {
   "cell_type": "code",
   "execution_count": 36,
   "metadata": {},
   "outputs": [],
   "source": [
    "grid_rf = GridSearchCV(estimator=rf,\n",
    "                       param_grid=params_rf,\n",
    "                       scoring=profit_score,\n",
    "                       cv=5,\n",
    "                       n_jobs=8,\n",
    "                      verbose = 5,\n",
    "                      refit = 'AUC')"
   ]
  },
  {
   "cell_type": "code",
   "execution_count": null,
   "metadata": {},
   "outputs": [
    {
     "name": "stdout",
     "output_type": "stream",
     "text": [
      "Fitting 5 folds for each of 1152 candidates, totalling 5760 fits\n"
     ]
    },
    {
     "name": "stderr",
     "output_type": "stream",
     "text": [
      "/usr/local/lib/python3.8/dist-packages/joblib/externals/loky/process_executor.py:688: UserWarning: A worker stopped while some jobs were given to the executor. This can be caused by a too short worker timeout or by a memory leak.\n",
      "  warnings.warn(\n"
     ]
    }
   ],
   "source": [
    "%%time\n",
    "grid_rf.fit(X_train, y_train)"
   ]
  },
  {
   "cell_type": "code",
   "execution_count": 52,
   "metadata": {},
   "outputs": [
    {
     "name": "stdout",
     "output_type": "stream",
     "text": [
      "Fitting 5 folds for each of 10 candidates, totalling 50 fits\n"
     ]
    },
    {
     "name": "stderr",
     "output_type": "stream",
     "text": [
      "/usr/local/lib/python3.8/dist-packages/joblib/externals/loky/process_executor.py:688: UserWarning: A worker stopped while some jobs were given to the executor. This can be caused by a too short worker timeout or by a memory leak.\n",
      "  warnings.warn(\n",
      "/usr/local/lib/python3.8/dist-packages/sklearn/model_selection/_search.py:918: UserWarning: One or more of the test scores are non-finite: [16082.478       nan       nan 15957.48  15811.716 15781.47        nan\n",
      "       nan 15905.376 15447.   ]\n",
      "  warnings.warn(\n"
     ]
    },
    {
     "data": {
      "text/plain": [
       "RandomizedSearchCV(cv=5,\n",
       "                   estimator=RandomForestClassifier(max_features=3,\n",
       "                                                    min_samples_leaf=0.12,\n",
       "                                                    n_estimators=400,\n",
       "                                                    oob_score=True,\n",
       "                                                    random_state=123),\n",
       "                   n_jobs=8,\n",
       "                   param_distributions={'bootstrap': [True, False],\n",
       "                                        'class_weight': ['balanced',\n",
       "                                                         'balanced_subsample'],\n",
       "                                        'criterion': ['gini', 'entropy'],\n",
       "                                        'max_depth': [10, 20, 30, 40, 50, 60,\n",
       "                                                      70, 80, 90, 100, None],\n",
       "                                        'max_features': ['auto', 'sqrt'],\n",
       "                                        'min_samples_leaf': [1, 2, 4],\n",
       "                                        'min_samples_split': [2, 5, 10],\n",
       "                                        'n_estimators': [200, 400, 600, 800,\n",
       "                                                         1000, 1200, 1400, 1600,\n",
       "                                                         1800, 2000]},\n",
       "                   scoring=make_scorer(profit_scoring, needs_proba=True),\n",
       "                   verbose=5)"
      ]
     },
     "execution_count": 52,
     "metadata": {},
     "output_type": "execute_result"
    }
   ],
   "source": [
    "randomized_rf = RandomizedSearchCV(estimator=rf,\n",
    "                       param_distributions=params_rf,\n",
    "                       scoring=profit_score,\n",
    "                       cv=5,\n",
    "                       n_jobs=8,\n",
    "                      verbose = 5\n",
    "                      )\n",
    "#     scoring=\"roc_auc\",verbose=1, estimator=clf, param_distributions=gbm_param_grid, n_jobs=6)\n",
    "randomized_rf.fit(X_train, y_train)\n"
   ]
  },
  {
   "cell_type": "code",
   "execution_count": 53,
   "metadata": {},
   "outputs": [
    {
     "name": "stdout",
     "output_type": "stream",
     "text": [
      "Best hyerparameters:\n",
      " {'n_estimators': 200, 'min_samples_split': 5, 'min_samples_leaf': 4, 'max_features': 'sqrt', 'max_depth': 50, 'criterion': 'gini', 'class_weight': 'balanced', 'bootstrap': True}\n"
     ]
    }
   ],
   "source": [
    "best_hyperparams = randomized_rf.best_params_\n",
    "print('Best hyerparameters:\\n', best_hyperparams)"
   ]
  },
  {
   "cell_type": "code",
   "execution_count": 54,
   "metadata": {},
   "outputs": [],
   "source": [
    "best_model_rf = randomized_rf.best_estimator_"
   ]
  },
  {
   "cell_type": "code",
   "execution_count": null,
   "metadata": {},
   "outputs": [],
   "source": [
    "roc_rfbest, profit_rfbest, cm_rfbest = performance_profit(X_test, y_test, best_model_rf , 'rfbest', breakeven)\n",
    "cm_rfbest"
   ]
  },
  {
   "cell_type": "markdown",
   "metadata": {},
   "source": [
    "### Stochastic Gradient Boosting (SGB)"
   ]
  },
  {
   "cell_type": "code",
   "execution_count": 35,
   "metadata": {},
   "outputs": [
    {
     "name": "stdout",
     "output_type": "stream",
     "text": [
      "Test set RMSE: 0.22\n"
     ]
    }
   ],
   "source": [
    "from sklearn.ensemble import GradientBoostingClassifier\n",
    "from sklearn.model_selection import train_test_split\n",
    "from sklearn.metrics import mean_squared_error as MSE\n",
    "SEED = 1234\n",
    "\n",
    "X_train, X_test, y_train, y_test= train_test_split(X, y,\n",
    "                                                   stratify=y,  random_state=SEED, test_size = 0.3)\n",
    "\n",
    "sgbt = GradientBoostingClassifier(max_depth=1,\n",
    "                                 subsample = 0.8,\n",
    "                                 max_features = 0.5,\n",
    "                                 n_estimators = 300,\n",
    "                                 learning_rate = 0.5,\n",
    "                                 random_state = SEED)\n",
    "\n",
    "sgbt.fit(X_train, y_train)\n",
    "y_pred = sgbt.predict(X_test)\n",
    "rmse_test = MSE(y_test, y_pred)**(1/2)\n",
    "print('Test set RMSE: {:.2f}'.format(rmse_test))"
   ]
  },
  {
   "cell_type": "code",
   "execution_count": 36,
   "metadata": {},
   "outputs": [
    {
     "name": "stdout",
     "output_type": "stream",
     "text": [
      "ROC AUC is 0.7622160191236989\n",
      "Profit is 12482.25\n"
     ]
    },
    {
     "data": {
      "text/html": [
       "<div>\n",
       "<style scoped>\n",
       "    .dataframe tbody tr th:only-of-type {\n",
       "        vertical-align: middle;\n",
       "    }\n",
       "\n",
       "    .dataframe tbody tr th {\n",
       "        vertical-align: top;\n",
       "    }\n",
       "\n",
       "    .dataframe thead th {\n",
       "        text-align: right;\n",
       "    }\n",
       "</style>\n",
       "<table border=\"1\" class=\"dataframe\">\n",
       "  <thead>\n",
       "    <tr style=\"text-align: right;\">\n",
       "      <th>predicted_res_sgbt</th>\n",
       "      <th>0</th>\n",
       "      <th>1</th>\n",
       "      <th>Total</th>\n",
       "    </tr>\n",
       "    <tr>\n",
       "      <th>res_y</th>\n",
       "      <th></th>\n",
       "      <th></th>\n",
       "      <th></th>\n",
       "    </tr>\n",
       "  </thead>\n",
       "  <tbody>\n",
       "    <tr>\n",
       "      <th>0</th>\n",
       "      <td>15856</td>\n",
       "      <td>5564</td>\n",
       "      <td>21420</td>\n",
       "    </tr>\n",
       "    <tr>\n",
       "      <th>1</th>\n",
       "      <td>369</td>\n",
       "      <td>711</td>\n",
       "      <td>1080</td>\n",
       "    </tr>\n",
       "    <tr>\n",
       "      <th>Total</th>\n",
       "      <td>16225</td>\n",
       "      <td>6275</td>\n",
       "      <td>22500</td>\n",
       "    </tr>\n",
       "  </tbody>\n",
       "</table>\n",
       "</div>"
      ],
      "text/plain": [
       "predicted_res_sgbt      0     1  Total\n",
       "res_y                                 \n",
       "0                   15856  5564  21420\n",
       "1                     369   711   1080\n",
       "Total               16225  6275  22500"
      ]
     },
     "execution_count": 36,
     "metadata": {},
     "output_type": "execute_result"
    }
   ],
   "source": [
    "roc_sgbt, profit_sgbt, cm_sgbt= performance_profit(X_test, y_test, sgbt, 'sgbt', breakeven)\n",
    "cm_sgbt"
   ]
  },
  {
   "cell_type": "code",
   "execution_count": 38,
   "metadata": {},
   "outputs": [],
   "source": [
    "# Prediction probabilities on the test set\n",
    "pred = sgbt.predict_proba(X_test)\n",
    "probs = pd.Series([p[1] for p in pred])\n",
    "\n",
    "# Prediction probabilities on the train set\n",
    "pred_train = sgbt.predict_proba(X_train)\n",
    "probs_train = pd.Series([p[1] for p in pred_train])"
   ]
  },
  {
   "cell_type": "code",
   "execution_count": 41,
   "metadata": {},
   "outputs": [],
   "source": [
    "y_test = pd.DataFrame(y_test)\n",
    "pred_prof = pd.Series((probs)) \n",
    "pred_prof.name = 'predictions_sgb_test'\n",
    "\n",
    "pred_prof_train = pd.Series((probs_train))\n",
    "pred_prof_train.name = 'predictions_sgb_train'\n",
    "\n",
    "df_test_sgb = y_test.join(pred_prof, how='inner')"
   ]
  },
  {
   "cell_type": "code",
   "execution_count": 42,
   "metadata": {},
   "outputs": [
    {
     "data": {
      "text/html": [
       "<div>\n",
       "<style scoped>\n",
       "    .dataframe tbody tr th:only-of-type {\n",
       "        vertical-align: middle;\n",
       "    }\n",
       "\n",
       "    .dataframe tbody tr th {\n",
       "        vertical-align: top;\n",
       "    }\n",
       "\n",
       "    .dataframe thead th {\n",
       "        text-align: right;\n",
       "    }\n",
       "</style>\n",
       "<table border=\"1\" class=\"dataframe\">\n",
       "  <thead>\n",
       "    <tr style=\"text-align: right;\">\n",
       "      <th></th>\n",
       "      <th>0</th>\n",
       "      <th>predictions_sgb_test</th>\n",
       "    </tr>\n",
       "  </thead>\n",
       "  <tbody>\n",
       "    <tr>\n",
       "      <th>0</th>\n",
       "      <td>0</td>\n",
       "      <td>0.011778</td>\n",
       "    </tr>\n",
       "    <tr>\n",
       "      <th>1</th>\n",
       "      <td>0</td>\n",
       "      <td>0.040502</td>\n",
       "    </tr>\n",
       "    <tr>\n",
       "      <th>2</th>\n",
       "      <td>0</td>\n",
       "      <td>0.009963</td>\n",
       "    </tr>\n",
       "    <tr>\n",
       "      <th>3</th>\n",
       "      <td>0</td>\n",
       "      <td>0.087378</td>\n",
       "    </tr>\n",
       "    <tr>\n",
       "      <th>4</th>\n",
       "      <td>0</td>\n",
       "      <td>0.023673</td>\n",
       "    </tr>\n",
       "    <tr>\n",
       "      <th>...</th>\n",
       "      <td>...</td>\n",
       "      <td>...</td>\n",
       "    </tr>\n",
       "    <tr>\n",
       "      <th>22495</th>\n",
       "      <td>0</td>\n",
       "      <td>0.063240</td>\n",
       "    </tr>\n",
       "    <tr>\n",
       "      <th>22496</th>\n",
       "      <td>1</td>\n",
       "      <td>0.025929</td>\n",
       "    </tr>\n",
       "    <tr>\n",
       "      <th>22497</th>\n",
       "      <td>0</td>\n",
       "      <td>0.065261</td>\n",
       "    </tr>\n",
       "    <tr>\n",
       "      <th>22498</th>\n",
       "      <td>0</td>\n",
       "      <td>0.007605</td>\n",
       "    </tr>\n",
       "    <tr>\n",
       "      <th>22499</th>\n",
       "      <td>0</td>\n",
       "      <td>0.030353</td>\n",
       "    </tr>\n",
       "  </tbody>\n",
       "</table>\n",
       "<p>22500 rows × 2 columns</p>\n",
       "</div>"
      ],
      "text/plain": [
       "       0  predictions_sgb_test\n",
       "0      0              0.011778\n",
       "1      0              0.040502\n",
       "2      0              0.009963\n",
       "3      0              0.087378\n",
       "4      0              0.023673\n",
       "...   ..                   ...\n",
       "22495  0              0.063240\n",
       "22496  1              0.025929\n",
       "22497  0              0.065261\n",
       "22498  0              0.007605\n",
       "22499  0              0.030353\n",
       "\n",
       "[22500 rows x 2 columns]"
      ]
     },
     "execution_count": 42,
     "metadata": {},
     "output_type": "execute_result"
    }
   ],
   "source": [
    "df_test_sgb"
   ]
  },
  {
   "cell_type": "markdown",
   "metadata": {},
   "source": [
    "<br>"
   ]
  }
 ],
 "metadata": {
  "kernelspec": {
   "display_name": "Python 3",
   "language": "python",
   "name": "python3"
  },
  "language_info": {
   "codemirror_mode": {
    "name": "ipython",
    "version": 3
   },
   "file_extension": ".py",
   "mimetype": "text/x-python",
   "name": "python",
   "nbconvert_exporter": "python",
   "pygments_lexer": "ipython3",
   "version": "3.8.5"
  }
 },
 "nbformat": 4,
 "nbformat_minor": 4
}
