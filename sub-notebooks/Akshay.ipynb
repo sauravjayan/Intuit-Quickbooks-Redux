{
 "cells": [
  {
   "cell_type": "code",
   "execution_count": 1,
   "id": "speaking-remark",
   "metadata": {},
   "outputs": [],
   "source": [
    "import matplotlib as mpl\n",
    "import matplotlib.pyplot as plt\n",
    "import numpy as np\n",
    "import pandas as pd\n",
    "import pyrsm as rsm\n",
    "import statsmodels.formula.api as smf\n",
    "from sklearn import preprocessing\n",
    "from statsmodels.genmod.families import Binomial\n",
    "from statsmodels.genmod.families.links import logit\n",
    "import os\n",
    "\n",
    "# increase plot resolution\n",
    "# mpl.rcParams[\"figure.dpi\"] = 150"
   ]
  },
  {
   "cell_type": "code",
   "execution_count": 2,
   "id": "stable-meter",
   "metadata": {},
   "outputs": [],
   "source": [
    "from sklearn.metrics import make_scorer\n",
    "\n",
    "def profit_scoring(y_true, y_pred):\n",
    "    profit = rsm.profit(pd.Series(y_true), pd.Series(y_pred), 1, 1.41, 30)\n",
    "    return profit\n",
    "\n",
    "profit_score = make_scorer(profit_scoring, greater_is_better = True, needs_proba=True)"
   ]
  },
  {
   "cell_type": "code",
   "execution_count": 3,
   "id": "linear-blues",
   "metadata": {},
   "outputs": [],
   "source": [
    "from sklearn.metrics import roc_auc_score\n",
    "\n",
    "def performance_profit(X_test, y_test, model,model_name, breakeven):\n",
    "    df_test = pd.DataFrame(X_test, columns=intuit75k_cols)\n",
    "    df_test['res_y'] = y_test\n",
    "    df_test['predict_res_proba_'+model_name] = model.predict_proba(X_test)[:,1]\n",
    "    df_test['predicted_res_'+model_name] = np.where(df_test['predict_res_proba_'+model_name] > breakeven,1,0)\n",
    "    \n",
    "    confusion_matrix = pd.crosstab(df_test['res_y'], df_test['predicted_res_'+model_name], margins = True, margins_name = 'Total')\n",
    "    roc_auc = roc_auc_score(y_test, model.predict_proba(X_test)[:,1]/2)\n",
    "    \n",
    "    profit = rsm.profit_max(df_test, 'res_y',1 ,'predict_res_proba_'+model_name,1.41,30)\n",
    "    \n",
    "    print(\"ROC AUC is {}\".format(roc_auc))\n",
    "    print(\"Profit is {}\".format(profit))\n",
    "    return roc_auc,profit,confusion_matrix"
   ]
  },
  {
   "cell_type": "code",
   "execution_count": 4,
   "id": "aquatic-cedar",
   "metadata": {},
   "outputs": [
    {
     "data": {
      "text/plain": [
       "'/home/jovyan/git/rsm-mgta455-intuit-redux/sub-notebooks'"
      ]
     },
     "execution_count": 4,
     "metadata": {},
     "output_type": "execute_result"
    }
   ],
   "source": [
    "os.getcwd()"
   ]
  },
  {
   "cell_type": "code",
   "execution_count": 5,
   "id": "occasional-seminar",
   "metadata": {},
   "outputs": [
    {
     "data": {
      "text/html": [
       "<div>\n",
       "<style scoped>\n",
       "    .dataframe tbody tr th:only-of-type {\n",
       "        vertical-align: middle;\n",
       "    }\n",
       "\n",
       "    .dataframe tbody tr th {\n",
       "        vertical-align: top;\n",
       "    }\n",
       "\n",
       "    .dataframe thead th {\n",
       "        text-align: right;\n",
       "    }\n",
       "</style>\n",
       "<table border=\"1\" class=\"dataframe\">\n",
       "  <thead>\n",
       "    <tr style=\"text-align: right;\">\n",
       "      <th></th>\n",
       "      <th>id</th>\n",
       "      <th>zip</th>\n",
       "      <th>zip_bins</th>\n",
       "      <th>sex</th>\n",
       "      <th>bizflag</th>\n",
       "      <th>numords</th>\n",
       "      <th>dollars</th>\n",
       "      <th>last</th>\n",
       "      <th>sincepurch</th>\n",
       "      <th>version1</th>\n",
       "      <th>owntaxprod</th>\n",
       "      <th>upgraded</th>\n",
       "      <th>res1</th>\n",
       "      <th>training</th>\n",
       "      <th>res1_yes</th>\n",
       "    </tr>\n",
       "  </thead>\n",
       "  <tbody>\n",
       "    <tr>\n",
       "      <th>0</th>\n",
       "      <td>1</td>\n",
       "      <td>94553</td>\n",
       "      <td>18</td>\n",
       "      <td>Male</td>\n",
       "      <td>0</td>\n",
       "      <td>2</td>\n",
       "      <td>109.5</td>\n",
       "      <td>5</td>\n",
       "      <td>12</td>\n",
       "      <td>0</td>\n",
       "      <td>0</td>\n",
       "      <td>0</td>\n",
       "      <td>No</td>\n",
       "      <td>1</td>\n",
       "      <td>0</td>\n",
       "    </tr>\n",
       "    <tr>\n",
       "      <th>1</th>\n",
       "      <td>2</td>\n",
       "      <td>53190</td>\n",
       "      <td>10</td>\n",
       "      <td>Unknown</td>\n",
       "      <td>0</td>\n",
       "      <td>1</td>\n",
       "      <td>69.5</td>\n",
       "      <td>4</td>\n",
       "      <td>3</td>\n",
       "      <td>0</td>\n",
       "      <td>0</td>\n",
       "      <td>0</td>\n",
       "      <td>No</td>\n",
       "      <td>0</td>\n",
       "      <td>0</td>\n",
       "    </tr>\n",
       "    <tr>\n",
       "      <th>2</th>\n",
       "      <td>3</td>\n",
       "      <td>37091</td>\n",
       "      <td>8</td>\n",
       "      <td>Male</td>\n",
       "      <td>0</td>\n",
       "      <td>4</td>\n",
       "      <td>93.0</td>\n",
       "      <td>14</td>\n",
       "      <td>29</td>\n",
       "      <td>0</td>\n",
       "      <td>0</td>\n",
       "      <td>1</td>\n",
       "      <td>No</td>\n",
       "      <td>0</td>\n",
       "      <td>0</td>\n",
       "    </tr>\n",
       "    <tr>\n",
       "      <th>3</th>\n",
       "      <td>4</td>\n",
       "      <td>02125</td>\n",
       "      <td>1</td>\n",
       "      <td>Male</td>\n",
       "      <td>0</td>\n",
       "      <td>1</td>\n",
       "      <td>22.0</td>\n",
       "      <td>17</td>\n",
       "      <td>1</td>\n",
       "      <td>0</td>\n",
       "      <td>0</td>\n",
       "      <td>0</td>\n",
       "      <td>No</td>\n",
       "      <td>1</td>\n",
       "      <td>0</td>\n",
       "    </tr>\n",
       "    <tr>\n",
       "      <th>4</th>\n",
       "      <td>5</td>\n",
       "      <td>60201</td>\n",
       "      <td>11</td>\n",
       "      <td>Male</td>\n",
       "      <td>0</td>\n",
       "      <td>1</td>\n",
       "      <td>24.5</td>\n",
       "      <td>2</td>\n",
       "      <td>3</td>\n",
       "      <td>0</td>\n",
       "      <td>0</td>\n",
       "      <td>0</td>\n",
       "      <td>No</td>\n",
       "      <td>0</td>\n",
       "      <td>0</td>\n",
       "    </tr>\n",
       "  </tbody>\n",
       "</table>\n",
       "</div>"
      ],
      "text/plain": [
       "   id    zip  zip_bins      sex  bizflag  numords  dollars  last  sincepurch  \\\n",
       "0   1  94553        18     Male        0        2    109.5     5          12   \n",
       "1   2  53190        10  Unknown        0        1     69.5     4           3   \n",
       "2   3  37091         8     Male        0        4     93.0    14          29   \n",
       "3   4  02125         1     Male        0        1     22.0    17           1   \n",
       "4   5  60201        11     Male        0        1     24.5     2           3   \n",
       "\n",
       "   version1  owntaxprod  upgraded res1  training  res1_yes  \n",
       "0         0           0         0   No         1         0  \n",
       "1         0           0         0   No         0         0  \n",
       "2         0           0         1   No         0         0  \n",
       "3         0           0         0   No         1         0  \n",
       "4         0           0         0   No         0         0  "
      ]
     },
     "execution_count": 5,
     "metadata": {},
     "output_type": "execute_result"
    }
   ],
   "source": [
    "## loading the data - this dataset must NOT be changed\n",
    "intuit75k = pd.read_pickle(\"data/intuit75k.pkl\")\n",
    "intuit75k[\"res1_yes\"] = (intuit75k[\"res1\"] == \"Yes\").astype(int)\n",
    "intuit75k.head()"
   ]
  },
  {
   "cell_type": "markdown",
   "id": "normal-lindsay",
   "metadata": {},
   "source": [
    "### EDA, Features"
   ]
  },
  {
   "cell_type": "code",
   "execution_count": 6,
   "id": "substantial-subcommittee",
   "metadata": {},
   "outputs": [],
   "source": [
    "# rsm.distr_plot(intuit75k.loc[:,'zip_bins':])"
   ]
  },
  {
   "cell_type": "code",
   "execution_count": 7,
   "id": "rocky-italic",
   "metadata": {},
   "outputs": [],
   "source": [
    "intuit75k['zip801'] = np.where(intuit75k['zip'] == \"00801\",1,0)\n",
    "intuit75k['zip804'] = np.where(intuit75k['zip'] == \"00804\",1,0)\n",
    "intuit75k['Res_zip_bin'] = np.where(intuit75k['zip_bins'] == 1,1,0)"
   ]
  },
  {
   "cell_type": "code",
   "execution_count": 8,
   "id": "julian-casino",
   "metadata": {},
   "outputs": [],
   "source": [
    "def make_version_status(x, y):\n",
    "    if x == 1 and y == 0:\n",
    "        return \"BoughtV1_CurrentV1\"\n",
    "    if x == 0 and y == 1:\n",
    "        return \"BoughtV1_CurrentV2\"\n",
    "    if x == 0 and y == 0:\n",
    "        return \"BoughtV2_CurrentV2\"\n",
    "\n",
    "\n",
    "intuit75k[\"version_status\"] = intuit75k[[\"version1\", \"upgraded\"]].apply(\n",
    "    lambda x: make_version_status(*x), axis=1\n",
    ")\n",
    "\n"
   ]
  },
  {
   "cell_type": "code",
   "execution_count": 9,
   "id": "operational-milton",
   "metadata": {},
   "outputs": [
    {
     "data": {
      "text/html": [
       "<div>\n",
       "<style scoped>\n",
       "    .dataframe tbody tr th:only-of-type {\n",
       "        vertical-align: middle;\n",
       "    }\n",
       "\n",
       "    .dataframe tbody tr th {\n",
       "        vertical-align: top;\n",
       "    }\n",
       "\n",
       "    .dataframe thead th {\n",
       "        text-align: right;\n",
       "    }\n",
       "</style>\n",
       "<table border=\"1\" class=\"dataframe\">\n",
       "  <thead>\n",
       "    <tr style=\"text-align: right;\">\n",
       "      <th></th>\n",
       "      <th>id</th>\n",
       "      <th>zip</th>\n",
       "      <th>zip_bins</th>\n",
       "      <th>sex</th>\n",
       "      <th>bizflag</th>\n",
       "      <th>numords</th>\n",
       "      <th>dollars</th>\n",
       "      <th>last</th>\n",
       "      <th>sincepurch</th>\n",
       "      <th>version1</th>\n",
       "      <th>owntaxprod</th>\n",
       "      <th>upgraded</th>\n",
       "      <th>res1</th>\n",
       "      <th>training</th>\n",
       "      <th>res1_yes</th>\n",
       "      <th>zip801</th>\n",
       "      <th>zip804</th>\n",
       "      <th>Res_zip_bin</th>\n",
       "      <th>version_status</th>\n",
       "    </tr>\n",
       "  </thead>\n",
       "  <tbody>\n",
       "    <tr>\n",
       "      <th>0</th>\n",
       "      <td>1</td>\n",
       "      <td>94553</td>\n",
       "      <td>18</td>\n",
       "      <td>Male</td>\n",
       "      <td>0</td>\n",
       "      <td>2</td>\n",
       "      <td>109.5</td>\n",
       "      <td>5</td>\n",
       "      <td>12</td>\n",
       "      <td>0</td>\n",
       "      <td>0</td>\n",
       "      <td>0</td>\n",
       "      <td>No</td>\n",
       "      <td>1</td>\n",
       "      <td>0</td>\n",
       "      <td>0</td>\n",
       "      <td>0</td>\n",
       "      <td>0</td>\n",
       "      <td>BoughtV2_CurrentV2</td>\n",
       "    </tr>\n",
       "    <tr>\n",
       "      <th>1</th>\n",
       "      <td>2</td>\n",
       "      <td>53190</td>\n",
       "      <td>10</td>\n",
       "      <td>Unknown</td>\n",
       "      <td>0</td>\n",
       "      <td>1</td>\n",
       "      <td>69.5</td>\n",
       "      <td>4</td>\n",
       "      <td>3</td>\n",
       "      <td>0</td>\n",
       "      <td>0</td>\n",
       "      <td>0</td>\n",
       "      <td>No</td>\n",
       "      <td>0</td>\n",
       "      <td>0</td>\n",
       "      <td>0</td>\n",
       "      <td>0</td>\n",
       "      <td>0</td>\n",
       "      <td>BoughtV2_CurrentV2</td>\n",
       "    </tr>\n",
       "    <tr>\n",
       "      <th>2</th>\n",
       "      <td>3</td>\n",
       "      <td>37091</td>\n",
       "      <td>8</td>\n",
       "      <td>Male</td>\n",
       "      <td>0</td>\n",
       "      <td>4</td>\n",
       "      <td>93.0</td>\n",
       "      <td>14</td>\n",
       "      <td>29</td>\n",
       "      <td>0</td>\n",
       "      <td>0</td>\n",
       "      <td>1</td>\n",
       "      <td>No</td>\n",
       "      <td>0</td>\n",
       "      <td>0</td>\n",
       "      <td>0</td>\n",
       "      <td>0</td>\n",
       "      <td>0</td>\n",
       "      <td>BoughtV1_CurrentV2</td>\n",
       "    </tr>\n",
       "    <tr>\n",
       "      <th>3</th>\n",
       "      <td>4</td>\n",
       "      <td>02125</td>\n",
       "      <td>1</td>\n",
       "      <td>Male</td>\n",
       "      <td>0</td>\n",
       "      <td>1</td>\n",
       "      <td>22.0</td>\n",
       "      <td>17</td>\n",
       "      <td>1</td>\n",
       "      <td>0</td>\n",
       "      <td>0</td>\n",
       "      <td>0</td>\n",
       "      <td>No</td>\n",
       "      <td>1</td>\n",
       "      <td>0</td>\n",
       "      <td>0</td>\n",
       "      <td>0</td>\n",
       "      <td>1</td>\n",
       "      <td>BoughtV2_CurrentV2</td>\n",
       "    </tr>\n",
       "    <tr>\n",
       "      <th>4</th>\n",
       "      <td>5</td>\n",
       "      <td>60201</td>\n",
       "      <td>11</td>\n",
       "      <td>Male</td>\n",
       "      <td>0</td>\n",
       "      <td>1</td>\n",
       "      <td>24.5</td>\n",
       "      <td>2</td>\n",
       "      <td>3</td>\n",
       "      <td>0</td>\n",
       "      <td>0</td>\n",
       "      <td>0</td>\n",
       "      <td>No</td>\n",
       "      <td>0</td>\n",
       "      <td>0</td>\n",
       "      <td>0</td>\n",
       "      <td>0</td>\n",
       "      <td>0</td>\n",
       "      <td>BoughtV2_CurrentV2</td>\n",
       "    </tr>\n",
       "  </tbody>\n",
       "</table>\n",
       "</div>"
      ],
      "text/plain": [
       "   id    zip  zip_bins      sex  bizflag  numords  dollars  last  sincepurch  \\\n",
       "0   1  94553        18     Male        0        2    109.5     5          12   \n",
       "1   2  53190        10  Unknown        0        1     69.5     4           3   \n",
       "2   3  37091         8     Male        0        4     93.0    14          29   \n",
       "3   4  02125         1     Male        0        1     22.0    17           1   \n",
       "4   5  60201        11     Male        0        1     24.5     2           3   \n",
       "\n",
       "   version1  owntaxprod  upgraded res1  training  res1_yes  zip801  zip804  \\\n",
       "0         0           0         0   No         1         0       0       0   \n",
       "1         0           0         0   No         0         0       0       0   \n",
       "2         0           0         1   No         0         0       0       0   \n",
       "3         0           0         0   No         1         0       0       0   \n",
       "4         0           0         0   No         0         0       0       0   \n",
       "\n",
       "   Res_zip_bin      version_status  \n",
       "0            0  BoughtV2_CurrentV2  \n",
       "1            0  BoughtV2_CurrentV2  \n",
       "2            0  BoughtV1_CurrentV2  \n",
       "3            1  BoughtV2_CurrentV2  \n",
       "4            0  BoughtV2_CurrentV2  "
      ]
     },
     "execution_count": 9,
     "metadata": {},
     "output_type": "execute_result"
    }
   ],
   "source": [
    "intuit75k.head()"
   ]
  },
  {
   "cell_type": "code",
   "execution_count": 10,
   "id": "neither-worth",
   "metadata": {},
   "outputs": [
    {
     "data": {
      "text/html": [
       "<div>\n",
       "<style scoped>\n",
       "    .dataframe tbody tr th:only-of-type {\n",
       "        vertical-align: middle;\n",
       "    }\n",
       "\n",
       "    .dataframe tbody tr th {\n",
       "        vertical-align: top;\n",
       "    }\n",
       "\n",
       "    .dataframe thead th {\n",
       "        text-align: right;\n",
       "    }\n",
       "</style>\n",
       "<table border=\"1\" class=\"dataframe\">\n",
       "  <thead>\n",
       "    <tr style=\"text-align: right;\">\n",
       "      <th></th>\n",
       "      <th>numords</th>\n",
       "      <th>dollars</th>\n",
       "      <th>last</th>\n",
       "      <th>sincepurch</th>\n",
       "      <th>version1</th>\n",
       "      <th>owntaxprod</th>\n",
       "      <th>upgraded</th>\n",
       "      <th>zip801</th>\n",
       "      <th>zip804</th>\n",
       "      <th>zip_bins_1</th>\n",
       "      <th>...</th>\n",
       "      <th>zip_bins_11</th>\n",
       "      <th>zip_bins_12</th>\n",
       "      <th>zip_bins_13</th>\n",
       "      <th>zip_bins_14</th>\n",
       "      <th>zip_bins_15</th>\n",
       "      <th>zip_bins_16</th>\n",
       "      <th>zip_bins_17</th>\n",
       "      <th>zip_bins_18</th>\n",
       "      <th>zip_bins_19</th>\n",
       "      <th>zip_bins_20</th>\n",
       "    </tr>\n",
       "  </thead>\n",
       "  <tbody>\n",
       "    <tr>\n",
       "      <th>0</th>\n",
       "      <td>2</td>\n",
       "      <td>109.5</td>\n",
       "      <td>5</td>\n",
       "      <td>12</td>\n",
       "      <td>0</td>\n",
       "      <td>0</td>\n",
       "      <td>0</td>\n",
       "      <td>0</td>\n",
       "      <td>0</td>\n",
       "      <td>0</td>\n",
       "      <td>...</td>\n",
       "      <td>0</td>\n",
       "      <td>0</td>\n",
       "      <td>0</td>\n",
       "      <td>0</td>\n",
       "      <td>0</td>\n",
       "      <td>0</td>\n",
       "      <td>0</td>\n",
       "      <td>1</td>\n",
       "      <td>0</td>\n",
       "      <td>0</td>\n",
       "    </tr>\n",
       "    <tr>\n",
       "      <th>1</th>\n",
       "      <td>1</td>\n",
       "      <td>69.5</td>\n",
       "      <td>4</td>\n",
       "      <td>3</td>\n",
       "      <td>0</td>\n",
       "      <td>0</td>\n",
       "      <td>0</td>\n",
       "      <td>0</td>\n",
       "      <td>0</td>\n",
       "      <td>0</td>\n",
       "      <td>...</td>\n",
       "      <td>0</td>\n",
       "      <td>0</td>\n",
       "      <td>0</td>\n",
       "      <td>0</td>\n",
       "      <td>0</td>\n",
       "      <td>0</td>\n",
       "      <td>0</td>\n",
       "      <td>0</td>\n",
       "      <td>0</td>\n",
       "      <td>0</td>\n",
       "    </tr>\n",
       "    <tr>\n",
       "      <th>2</th>\n",
       "      <td>4</td>\n",
       "      <td>93.0</td>\n",
       "      <td>14</td>\n",
       "      <td>29</td>\n",
       "      <td>0</td>\n",
       "      <td>0</td>\n",
       "      <td>1</td>\n",
       "      <td>0</td>\n",
       "      <td>0</td>\n",
       "      <td>0</td>\n",
       "      <td>...</td>\n",
       "      <td>0</td>\n",
       "      <td>0</td>\n",
       "      <td>0</td>\n",
       "      <td>0</td>\n",
       "      <td>0</td>\n",
       "      <td>0</td>\n",
       "      <td>0</td>\n",
       "      <td>0</td>\n",
       "      <td>0</td>\n",
       "      <td>0</td>\n",
       "    </tr>\n",
       "    <tr>\n",
       "      <th>3</th>\n",
       "      <td>1</td>\n",
       "      <td>22.0</td>\n",
       "      <td>17</td>\n",
       "      <td>1</td>\n",
       "      <td>0</td>\n",
       "      <td>0</td>\n",
       "      <td>0</td>\n",
       "      <td>0</td>\n",
       "      <td>0</td>\n",
       "      <td>1</td>\n",
       "      <td>...</td>\n",
       "      <td>0</td>\n",
       "      <td>0</td>\n",
       "      <td>0</td>\n",
       "      <td>0</td>\n",
       "      <td>0</td>\n",
       "      <td>0</td>\n",
       "      <td>0</td>\n",
       "      <td>0</td>\n",
       "      <td>0</td>\n",
       "      <td>0</td>\n",
       "    </tr>\n",
       "    <tr>\n",
       "      <th>4</th>\n",
       "      <td>1</td>\n",
       "      <td>24.5</td>\n",
       "      <td>2</td>\n",
       "      <td>3</td>\n",
       "      <td>0</td>\n",
       "      <td>0</td>\n",
       "      <td>0</td>\n",
       "      <td>0</td>\n",
       "      <td>0</td>\n",
       "      <td>0</td>\n",
       "      <td>...</td>\n",
       "      <td>1</td>\n",
       "      <td>0</td>\n",
       "      <td>0</td>\n",
       "      <td>0</td>\n",
       "      <td>0</td>\n",
       "      <td>0</td>\n",
       "      <td>0</td>\n",
       "      <td>0</td>\n",
       "      <td>0</td>\n",
       "      <td>0</td>\n",
       "    </tr>\n",
       "  </tbody>\n",
       "</table>\n",
       "<p>5 rows × 29 columns</p>\n",
       "</div>"
      ],
      "text/plain": [
       "   numords  dollars  last  sincepurch  version1  owntaxprod  upgraded  zip801  \\\n",
       "0        2    109.5     5          12         0           0         0       0   \n",
       "1        1     69.5     4           3         0           0         0       0   \n",
       "2        4     93.0    14          29         0           0         1       0   \n",
       "3        1     22.0    17           1         0           0         0       0   \n",
       "4        1     24.5     2           3         0           0         0       0   \n",
       "\n",
       "   zip804  zip_bins_1  ...  zip_bins_11  zip_bins_12  zip_bins_13  \\\n",
       "0       0           0  ...            0            0            0   \n",
       "1       0           0  ...            0            0            0   \n",
       "2       0           0  ...            0            0            0   \n",
       "3       0           1  ...            0            0            0   \n",
       "4       0           0  ...            1            0            0   \n",
       "\n",
       "   zip_bins_14  zip_bins_15  zip_bins_16  zip_bins_17  zip_bins_18  \\\n",
       "0            0            0            0            0            1   \n",
       "1            0            0            0            0            0   \n",
       "2            0            0            0            0            0   \n",
       "3            0            0            0            0            0   \n",
       "4            0            0            0            0            0   \n",
       "\n",
       "   zip_bins_19  zip_bins_20  \n",
       "0            0            0  \n",
       "1            0            0  \n",
       "2            0            0  \n",
       "3            0            0  \n",
       "4            0            0  \n",
       "\n",
       "[5 rows x 29 columns]"
      ]
     },
     "execution_count": 10,
     "metadata": {},
     "output_type": "execute_result"
    }
   ],
   "source": [
    "y = np.array(intuit75k['res1_yes'])\n",
    "intuit75k_modified = intuit75k.drop(columns=['zip','res1','res1_yes','sex', 'id','training','Res_zip_bin','bizflag','version_status'], axis=1)\n",
    "intuit75k_modified['zip_bins'] = pd.Categorical(intuit75k_modified['zip_bins'])\n",
    "intuit75k_modified = pd.get_dummies(intuit75k_modified)\n",
    "intuit75k_modified.head()\n"
   ]
  },
  {
   "cell_type": "code",
   "execution_count": 11,
   "id": "considerable-machine",
   "metadata": {},
   "outputs": [],
   "source": [
    "intuit75k_cols = list(intuit75k_modified.columns)\n",
    "\n",
    "X = np.array(intuit75k_modified)"
   ]
  },
  {
   "cell_type": "code",
   "execution_count": 12,
   "id": "forbidden-crisis",
   "metadata": {},
   "outputs": [],
   "source": [
    "cost= 1.41\n",
    "margin= 30\n",
    "breakeven= cost/margin"
   ]
  },
  {
   "cell_type": "code",
   "execution_count": 13,
   "id": "twenty-temple",
   "metadata": {},
   "outputs": [
    {
     "data": {
      "text/plain": [
       "0.047"
      ]
     },
     "execution_count": 13,
     "metadata": {},
     "output_type": "execute_result"
    }
   ],
   "source": [
    "breakeven"
   ]
  },
  {
   "cell_type": "markdown",
   "id": "fifty-murray",
   "metadata": {},
   "source": [
    "### Decision Tree  "
   ]
  },
  {
   "cell_type": "code",
   "execution_count": 14,
   "id": "worth-adrian",
   "metadata": {},
   "outputs": [
    {
     "name": "stdout",
     "output_type": "stream",
     "text": [
      "Accuracy: 0.95\n",
      "CV MSE: 0.05\n",
      "Train MSE: 0.05\n",
      "Test MSE: 0.05\n",
      "ROC AUC Score Test: 0.65\n",
      "ROC AUC Score Train: 0.66\n"
     ]
    }
   ],
   "source": [
    "from sklearn.tree import DecisionTreeClassifier\n",
    "from sklearn.model_selection import train_test_split\n",
    "from sklearn.metrics import mean_squared_error as MSE\n",
    "from sklearn.model_selection import cross_val_score\n",
    "from sklearn.metrics import accuracy_score\n",
    "from sklearn.metrics import roc_auc_score\n",
    "\n",
    "SEED = 123\n",
    "SEED2 = 168\n",
    "X_train, X_test, y_train, y_test= train_test_split(X, y,\n",
    "                                                   stratify=y,  random_state=SEED, test_size = 0.3)\n",
    "\n",
    "dt = DecisionTreeClassifier(max_depth=4, random_state=SEED2, min_samples_leaf = 0.14)\n",
    "\n",
    "MSE_CV = - cross_val_score(dt, X_train, y_train, cv= 10, scoring='neg_mean_squared_error', n_jobs = 4)\n",
    "\n",
    "dt.fit(X_train,y_train)\n",
    "\n",
    "y_predict_train = dt.predict(X_train)\n",
    "y_predict_test = dt.predict(X_test)\n",
    "y_pred_proba = dt.predict_proba(X_test)[:,1]\n",
    "y_pred_proba_train = dt.predict_proba(X_train)[:,1]\n",
    "\n",
    "print('Accuracy: {:.2f}'.format(accuracy_score(y_test, y_predict_test)))\n",
    "print('CV MSE: {:.2f}'.format(MSE_CV.mean()))\n",
    "print('Train MSE: {:.2f}'.format(MSE(y_train, y_predict_train)))\n",
    "print('Test MSE: {:.2f}'.format(MSE(y_test, y_predict_test)))\n",
    "print('ROC AUC Score Test: {:.2f}'.format(roc_auc_score(y_test, y_pred_proba)))\n",
    "print('ROC AUC Score Train: {:.2f}'.format(roc_auc_score(y_train, y_pred_proba_train)))"
   ]
  },
  {
   "cell_type": "code",
   "execution_count": 15,
   "id": "fifth-salmon",
   "metadata": {},
   "outputs": [
    {
     "name": "stdout",
     "output_type": "stream",
     "text": [
      "ROC AUC is 0.6522815515094926\n",
      "Profit is 8210.070000000002\n"
     ]
    },
    {
     "data": {
      "text/html": [
       "<div>\n",
       "<style scoped>\n",
       "    .dataframe tbody tr th:only-of-type {\n",
       "        vertical-align: middle;\n",
       "    }\n",
       "\n",
       "    .dataframe tbody tr th {\n",
       "        vertical-align: top;\n",
       "    }\n",
       "\n",
       "    .dataframe thead th {\n",
       "        text-align: right;\n",
       "    }\n",
       "</style>\n",
       "<table border=\"1\" class=\"dataframe\">\n",
       "  <thead>\n",
       "    <tr style=\"text-align: right;\">\n",
       "      <th>predicted_res_dt</th>\n",
       "      <th>0</th>\n",
       "      <th>1</th>\n",
       "      <th>Total</th>\n",
       "    </tr>\n",
       "    <tr>\n",
       "      <th>res_y</th>\n",
       "      <th></th>\n",
       "      <th></th>\n",
       "      <th></th>\n",
       "    </tr>\n",
       "  </thead>\n",
       "  <tbody>\n",
       "    <tr>\n",
       "      <th>0</th>\n",
       "      <td>11427</td>\n",
       "      <td>9993</td>\n",
       "      <td>21420</td>\n",
       "    </tr>\n",
       "    <tr>\n",
       "      <th>1</th>\n",
       "      <td>300</td>\n",
       "      <td>780</td>\n",
       "      <td>1080</td>\n",
       "    </tr>\n",
       "    <tr>\n",
       "      <th>Total</th>\n",
       "      <td>11727</td>\n",
       "      <td>10773</td>\n",
       "      <td>22500</td>\n",
       "    </tr>\n",
       "  </tbody>\n",
       "</table>\n",
       "</div>"
      ],
      "text/plain": [
       "predicted_res_dt      0      1  Total\n",
       "res_y                                \n",
       "0                 11427   9993  21420\n",
       "1                   300    780   1080\n",
       "Total             11727  10773  22500"
      ]
     },
     "execution_count": 15,
     "metadata": {},
     "output_type": "execute_result"
    }
   ],
   "source": [
    "roc_dt, profit_dt, cm_dt = performance_profit(X_test, y_test, dt, 'dt', breakeven)\n",
    "cm_dt"
   ]
  },
  {
   "cell_type": "markdown",
   "id": "spare-watson",
   "metadata": {},
   "source": [
    "#### Grid Search DT"
   ]
  },
  {
   "cell_type": "code",
   "execution_count": 16,
   "id": "afraid-north",
   "metadata": {},
   "outputs": [
    {
     "data": {
      "text/plain": [
       "{'ccp_alpha': 0.0,\n",
       " 'class_weight': None,\n",
       " 'criterion': 'gini',\n",
       " 'max_depth': 4,\n",
       " 'max_features': None,\n",
       " 'max_leaf_nodes': None,\n",
       " 'min_impurity_decrease': 0.0,\n",
       " 'min_impurity_split': None,\n",
       " 'min_samples_leaf': 0.14,\n",
       " 'min_samples_split': 2,\n",
       " 'min_weight_fraction_leaf': 0.0,\n",
       " 'random_state': 168,\n",
       " 'splitter': 'best'}"
      ]
     },
     "execution_count": 16,
     "metadata": {},
     "output_type": "execute_result"
    }
   ],
   "source": [
    "from sklearn.model_selection import GridSearchCV\n",
    "dt.get_params()"
   ]
  },
  {
   "cell_type": "code",
   "execution_count": 17,
   "id": "sapphire-international",
   "metadata": {},
   "outputs": [],
   "source": [
    "params_dt = {'max_depth': [4,5, 6, 7, 8, 9, 10],'min_samples_leaf': [0.2,0.04, 0.06, 0.08, 0.09, 0.1],'max_features': [0.2, 0.4, 0.45, 0.5, 0.6]}"
   ]
  },
  {
   "cell_type": "code",
   "execution_count": 18,
   "id": "varied-regard",
   "metadata": {},
   "outputs": [],
   "source": [
    "grid_dt = GridSearchCV(estimator=dt,\n",
    "                       param_grid=params_dt,\n",
    "                       scoring=profit_score,\n",
    "                       cv=5,\n",
    "                       n_jobs=8,\n",
    "                      verbose = 5,\n",
    "                      refit = 'AUC')"
   ]
  },
  {
   "cell_type": "code",
   "execution_count": 19,
   "id": "devoted-paradise",
   "metadata": {},
   "outputs": [
    {
     "name": "stdout",
     "output_type": "stream",
     "text": [
      "Fitting 5 folds for each of 210 candidates, totalling 1050 fits\n"
     ]
    },
    {
     "data": {
      "text/plain": [
       "GridSearchCV(cv=5,\n",
       "             estimator=DecisionTreeClassifier(max_depth=4,\n",
       "                                              min_samples_leaf=0.14,\n",
       "                                              random_state=168),\n",
       "             n_jobs=8,\n",
       "             param_grid={'max_depth': [4, 5, 6, 7, 8, 9, 10],\n",
       "                         'max_features': [0.2, 0.4, 0.45, 0.5, 0.6],\n",
       "                         'min_samples_leaf': [0.2, 0.04, 0.06, 0.08, 0.09,\n",
       "                                              0.1]},\n",
       "             refit='AUC', scoring=make_scorer(profit_scoring, needs_proba=True),\n",
       "             verbose=5)"
      ]
     },
     "execution_count": 19,
     "metadata": {},
     "output_type": "execute_result"
    }
   ],
   "source": [
    "grid_dt.fit(X_train, y_train)"
   ]
  },
  {
   "cell_type": "code",
   "execution_count": 20,
   "id": "prime-figure",
   "metadata": {},
   "outputs": [
    {
     "name": "stdout",
     "output_type": "stream",
     "text": [
      "Best hyerparameters:\n",
      " {'max_depth': 6, 'max_features': 0.2, 'min_samples_leaf': 0.04}\n"
     ]
    }
   ],
   "source": [
    "best_hyperparams = grid_dt.best_params_\n",
    "print('Best hyerparameters:\\n', best_hyperparams)"
   ]
  },
  {
   "cell_type": "code",
   "execution_count": 21,
   "id": "public-distance",
   "metadata": {},
   "outputs": [],
   "source": [
    "best_model = grid_dt.best_estimator_"
   ]
  },
  {
   "cell_type": "code",
   "execution_count": 22,
   "id": "differential-neighbor",
   "metadata": {},
   "outputs": [
    {
     "name": "stdout",
     "output_type": "stream",
     "text": [
      "ROC AUC is 0.6786716507590691\n",
      "Profit is 8623.26\n"
     ]
    },
    {
     "data": {
      "text/html": [
       "<div>\n",
       "<style scoped>\n",
       "    .dataframe tbody tr th:only-of-type {\n",
       "        vertical-align: middle;\n",
       "    }\n",
       "\n",
       "    .dataframe tbody tr th {\n",
       "        vertical-align: top;\n",
       "    }\n",
       "\n",
       "    .dataframe thead th {\n",
       "        text-align: right;\n",
       "    }\n",
       "</style>\n",
       "<table border=\"1\" class=\"dataframe\">\n",
       "  <thead>\n",
       "    <tr style=\"text-align: right;\">\n",
       "      <th>predicted_res_dt</th>\n",
       "      <th>0</th>\n",
       "      <th>1</th>\n",
       "      <th>Total</th>\n",
       "    </tr>\n",
       "    <tr>\n",
       "      <th>res_y</th>\n",
       "      <th></th>\n",
       "      <th></th>\n",
       "      <th></th>\n",
       "    </tr>\n",
       "  </thead>\n",
       "  <tbody>\n",
       "    <tr>\n",
       "      <th>0</th>\n",
       "      <td>14356</td>\n",
       "      <td>7064</td>\n",
       "      <td>21420</td>\n",
       "    </tr>\n",
       "    <tr>\n",
       "      <th>1</th>\n",
       "      <td>430</td>\n",
       "      <td>650</td>\n",
       "      <td>1080</td>\n",
       "    </tr>\n",
       "    <tr>\n",
       "      <th>Total</th>\n",
       "      <td>14786</td>\n",
       "      <td>7714</td>\n",
       "      <td>22500</td>\n",
       "    </tr>\n",
       "  </tbody>\n",
       "</table>\n",
       "</div>"
      ],
      "text/plain": [
       "predicted_res_dt      0     1  Total\n",
       "res_y                               \n",
       "0                 14356  7064  21420\n",
       "1                   430   650   1080\n",
       "Total             14786  7714  22500"
      ]
     },
     "execution_count": 22,
     "metadata": {},
     "output_type": "execute_result"
    }
   ],
   "source": [
    "roc_dt, profit_dt, cm_dt = performance_profit(X_test, y_test, best_model , 'dt', breakeven)\n",
    "cm_dt"
   ]
  },
  {
   "cell_type": "markdown",
   "id": "consolidated-applicant",
   "metadata": {},
   "source": [
    "<br>"
   ]
  },
  {
   "cell_type": "markdown",
   "id": "destroyed-software",
   "metadata": {},
   "source": [
    "### Bagging Classifier"
   ]
  },
  {
   "cell_type": "code",
   "execution_count": 33,
   "id": "contemporary-welding",
   "metadata": {},
   "outputs": [
    {
     "name": "stdout",
     "output_type": "stream",
     "text": [
      "Accuracy of Bagging Classifier: 0.952\n",
      "OOB accuracy: 0.952\n",
      "CPU times: user 2.36 s, sys: 210 ms, total: 2.57 s\n",
      "Wall time: 6.62 s\n"
     ]
    }
   ],
   "source": [
    "%%time\n",
    "from sklearn.ensemble import BaggingClassifier\n",
    "from sklearn.tree import DecisionTreeClassifier\n",
    "from sklearn.metrics import accuracy_score\n",
    "from sklearn.model_selection import train_test_split\n",
    "\n",
    "X_train, X_test, y_train, y_test= train_test_split(X, y,\n",
    "                                                    stratify=y,  random_state=SEED, test_size = 0.3)\n",
    "\n",
    "bc = BaggingClassifier(base_estimator=dt, n_estimators=300, n_jobs=4, oob_score=True)\n",
    "\n",
    "bc.fit(X_train, y_train)\n",
    "\n",
    "y_pred = bc.predict(X_test)\n",
    "\n",
    "accuracy = accuracy_score(y_test, y_pred)\n",
    "oob_accuracy = bc.oob_score_\n",
    "\n",
    "print('Accuracy of Bagging Classifier: {:.3f}'.format(accuracy))\n",
    "print('OOB accuracy: {:.3f}'.format(oob_accuracy))"
   ]
  },
  {
   "cell_type": "code",
   "execution_count": 31,
   "id": "cooked-litigation",
   "metadata": {},
   "outputs": [
    {
     "name": "stdout",
     "output_type": "stream",
     "text": [
      "ROC AUC is 0.6550707628730504\n",
      "Profit is 6275.790000000001\n"
     ]
    },
    {
     "data": {
      "text/html": [
       "<div>\n",
       "<style scoped>\n",
       "    .dataframe tbody tr th:only-of-type {\n",
       "        vertical-align: middle;\n",
       "    }\n",
       "\n",
       "    .dataframe tbody tr th {\n",
       "        vertical-align: top;\n",
       "    }\n",
       "\n",
       "    .dataframe thead th {\n",
       "        text-align: right;\n",
       "    }\n",
       "</style>\n",
       "<table border=\"1\" class=\"dataframe\">\n",
       "  <thead>\n",
       "    <tr style=\"text-align: right;\">\n",
       "      <th>predicted_res_bc</th>\n",
       "      <th>0</th>\n",
       "      <th>1</th>\n",
       "      <th>Total</th>\n",
       "    </tr>\n",
       "    <tr>\n",
       "      <th>res_y</th>\n",
       "      <th></th>\n",
       "      <th></th>\n",
       "      <th></th>\n",
       "    </tr>\n",
       "  </thead>\n",
       "  <tbody>\n",
       "    <tr>\n",
       "      <th>0</th>\n",
       "      <td>9163</td>\n",
       "      <td>12257</td>\n",
       "      <td>21420</td>\n",
       "    </tr>\n",
       "    <tr>\n",
       "      <th>1</th>\n",
       "      <td>256</td>\n",
       "      <td>824</td>\n",
       "      <td>1080</td>\n",
       "    </tr>\n",
       "    <tr>\n",
       "      <th>Total</th>\n",
       "      <td>9419</td>\n",
       "      <td>13081</td>\n",
       "      <td>22500</td>\n",
       "    </tr>\n",
       "  </tbody>\n",
       "</table>\n",
       "</div>"
      ],
      "text/plain": [
       "predicted_res_bc     0      1  Total\n",
       "res_y                               \n",
       "0                 9163  12257  21420\n",
       "1                  256    824   1080\n",
       "Total             9419  13081  22500"
      ]
     },
     "execution_count": 31,
     "metadata": {},
     "output_type": "execute_result"
    }
   ],
   "source": [
    "roc_bc, profit_bc, cm_bc = performance_profit(X_test, y_test, bc, 'bc', breakeven)\n",
    "cm_bc"
   ]
  },
  {
   "cell_type": "markdown",
   "id": "applicable-alexander",
   "metadata": {},
   "source": [
    "#### Grid Search BC"
   ]
  },
  {
   "cell_type": "code",
   "execution_count": 52,
   "id": "floppy-level",
   "metadata": {},
   "outputs": [
    {
     "data": {
      "text/plain": [
       "{'base_estimator__ccp_alpha': 0.0,\n",
       " 'base_estimator__class_weight': None,\n",
       " 'base_estimator__criterion': 'gini',\n",
       " 'base_estimator__max_depth': 4,\n",
       " 'base_estimator__max_features': None,\n",
       " 'base_estimator__max_leaf_nodes': None,\n",
       " 'base_estimator__min_impurity_decrease': 0.0,\n",
       " 'base_estimator__min_impurity_split': None,\n",
       " 'base_estimator__min_samples_leaf': 0.14,\n",
       " 'base_estimator__min_samples_split': 2,\n",
       " 'base_estimator__min_weight_fraction_leaf': 0.0,\n",
       " 'base_estimator__random_state': 168,\n",
       " 'base_estimator__splitter': 'best',\n",
       " 'base_estimator': DecisionTreeClassifier(max_depth=4, min_samples_leaf=0.14, random_state=168),\n",
       " 'bootstrap': True,\n",
       " 'bootstrap_features': False,\n",
       " 'max_features': 1.0,\n",
       " 'max_samples': 1.0,\n",
       " 'n_estimators': 300,\n",
       " 'n_jobs': 4,\n",
       " 'oob_score': True,\n",
       " 'random_state': None,\n",
       " 'verbose': 0,\n",
       " 'warm_start': False}"
      ]
     },
     "execution_count": 52,
     "metadata": {},
     "output_type": "execute_result"
    }
   ],
   "source": [
    "from sklearn.model_selection import GridSearchCV\n",
    "bc.get_params()"
   ]
  },
  {
   "cell_type": "code",
   "execution_count": 53,
   "id": "authorized-clear",
   "metadata": {},
   "outputs": [],
   "source": [
    "params_bc = {'base_estimator__min_samples_leaf': [0.04, 0.06, 0.08],'max_features': [0.2, 0.4,0.6, 0.8],'base_estimator__max_depth' : [3, 4, 5, 6],\n",
    "    'max_samples' : [0.05, 0.1, 0.2, 0.5]}"
   ]
  },
  {
   "cell_type": "code",
   "execution_count": 54,
   "id": "adjusted-baseball",
   "metadata": {},
   "outputs": [],
   "source": [
    "grid_bc = GridSearchCV(estimator=bc,\n",
    "                       param_grid=params_bc,\n",
    "                       scoring=profit_score,\n",
    "                       cv=5,\n",
    "                       n_jobs=8,\n",
    "                      verbose = 5,\n",
    "                      refit = 'AUC')"
   ]
  },
  {
   "cell_type": "code",
   "execution_count": null,
   "id": "attended-quebec",
   "metadata": {},
   "outputs": [],
   "source": [
    "grid_bc.fit(X_train, y_train)"
   ]
  },
  {
   "cell_type": "code",
   "execution_count": null,
   "id": "dried-heart",
   "metadata": {},
   "outputs": [],
   "source": [
    "best_hyperparams = grid_bc.best_params_\n",
    "print('Best hyerparameters:\\n', best_hyperparams)"
   ]
  },
  {
   "cell_type": "code",
   "execution_count": null,
   "id": "cheap-buying",
   "metadata": {},
   "outputs": [],
   "source": [
    "best_model = grid_bc.best_estimator_"
   ]
  },
  {
   "cell_type": "code",
   "execution_count": null,
   "id": "amber-thermal",
   "metadata": {},
   "outputs": [],
   "source": [
    "roc_bcbest, profit_bcbest, cm_bcbest = performance_profit(X_test, y_test, best_model , 'bcbest', breakeven)\n",
    "cm_bcbest"
   ]
  },
  {
   "cell_type": "markdown",
   "id": "resistant-flooring",
   "metadata": {},
   "source": [
    "<br>"
   ]
  },
  {
   "cell_type": "markdown",
   "id": "visible-exposure",
   "metadata": {},
   "source": [
    "### Random Forest"
   ]
  },
  {
   "cell_type": "code",
   "execution_count": 34,
   "id": "economic-african",
   "metadata": {},
   "outputs": [
    {
     "name": "stdout",
     "output_type": "stream",
     "text": [
      "Test set RMSE of rf: 0.22\n",
      "CPU times: user 4.67 s, sys: 7.26 ms, total: 4.68 s\n",
      "Wall time: 4.71 s\n"
     ]
    }
   ],
   "source": [
    "%%time\n",
    "from sklearn.ensemble import RandomForestRegressor\n",
    "from sklearn.ensemble import RandomForestClassifier\n",
    "from sklearn.model_selection import train_test_split\n",
    "from sklearn.metrics import mean_squared_error as MSE\n",
    "\n",
    "SEED = 1234\n",
    "X_train, X_test, y_train, y_test= train_test_split(X, y,\n",
    "                                                   stratify=y,  random_state=SEED, test_size = 0.3)\n",
    "\n",
    "rf = RandomForestClassifier(n_estimators=400,min_samples_leaf=0.12,random_state=SEED,max_features=3, oob_score=True)\n",
    "\n",
    "rf.fit(X_train, y_train)\n",
    "y_pred = rf.predict(X_test)\n",
    "rmse_test = MSE(y_test, y_pred)**(1/2)\n",
    "\n",
    "print('Test set RMSE of rf: {:.2f}'.format(rmse_test))\n"
   ]
  },
  {
   "cell_type": "code",
   "execution_count": 24,
   "id": "matched-berkeley",
   "metadata": {},
   "outputs": [
    {
     "data": {
      "image/png": "[encoded data removed]",
      "text/plain": [
       "<Figure size 432x288 with 1 Axes>"
      ]
     },
     "metadata": {
      "needs_background": "light"
     },
     "output_type": "display_data"
    },
    {
     "data": {
      "text/plain": [
       "zip_bins_6     0.000000\n",
       "zip_bins_18    0.000000\n",
       "zip_bins_17    0.000000\n",
       "zip_bins_16    0.000000\n",
       "zip_bins_15    0.000000\n",
       "zip_bins_14    0.000000\n",
       "zip_bins_13    0.000000\n",
       "zip_bins_12    0.000000\n",
       "zip_bins_11    0.000000\n",
       "zip_bins_10    0.000000\n",
       "zip_bins_9     0.000000\n",
       "zip_bins_8     0.000000\n",
       "zip_bins_7     0.000000\n",
       "zip_bins_19    0.000000\n",
       "zip_bins_20    0.000000\n",
       "zip_bins_4     0.000000\n",
       "zip_bins_3     0.000000\n",
       "zip_bins_2     0.000000\n",
       "zip_bins_1     0.000000\n",
       "zip804         0.000000\n",
       "zip801         0.000000\n",
       "owntaxprod     0.000000\n",
       "zip_bins_5     0.000000\n",
       "version1       0.077323\n",
       "upgraded       0.116744\n",
       "dollars        0.128087\n",
       "numords        0.170145\n",
       "sincepurch     0.248797\n",
       "last           0.258904\n",
       "dtype: float64"
      ]
     },
     "execution_count": 24,
     "metadata": {},
     "output_type": "execute_result"
    }
   ],
   "source": [
    "import pandas as pd\n",
    "import matplotlib.pyplot as plt\n",
    "\n",
    "importances_rf = pd.Series(rf.feature_importances_, index = intuit75k_cols)\n",
    "sorted_importances_rf = importances_rf.sort_values()\n",
    "sorted_importances_rf.plot(kind='barh', color='lightgreen'); plt.show()\n",
    "sorted_importances_rf"
   ]
  },
  {
   "cell_type": "code",
   "execution_count": 25,
   "id": "southeast-basics",
   "metadata": {},
   "outputs": [
    {
     "name": "stdout",
     "output_type": "stream",
     "text": [
      "ROC AUC is 0.6770441046789086\n",
      "Profit is 6504.84\n"
     ]
    },
    {
     "data": {
      "text/html": [
       "<div>\n",
       "<style scoped>\n",
       "    .dataframe tbody tr th:only-of-type {\n",
       "        vertical-align: middle;\n",
       "    }\n",
       "\n",
       "    .dataframe tbody tr th {\n",
       "        vertical-align: top;\n",
       "    }\n",
       "\n",
       "    .dataframe thead th {\n",
       "        text-align: right;\n",
       "    }\n",
       "</style>\n",
       "<table border=\"1\" class=\"dataframe\">\n",
       "  <thead>\n",
       "    <tr style=\"text-align: right;\">\n",
       "      <th>predicted_res_rf</th>\n",
       "      <th>0</th>\n",
       "      <th>1</th>\n",
       "      <th>Total</th>\n",
       "    </tr>\n",
       "    <tr>\n",
       "      <th>res_y</th>\n",
       "      <th></th>\n",
       "      <th></th>\n",
       "      <th></th>\n",
       "    </tr>\n",
       "  </thead>\n",
       "  <tbody>\n",
       "    <tr>\n",
       "      <th>0</th>\n",
       "      <td>8413</td>\n",
       "      <td>13007</td>\n",
       "      <td>21420</td>\n",
       "    </tr>\n",
       "    <tr>\n",
       "      <th>1</th>\n",
       "      <td>211</td>\n",
       "      <td>869</td>\n",
       "      <td>1080</td>\n",
       "    </tr>\n",
       "    <tr>\n",
       "      <th>Total</th>\n",
       "      <td>8624</td>\n",
       "      <td>13876</td>\n",
       "      <td>22500</td>\n",
       "    </tr>\n",
       "  </tbody>\n",
       "</table>\n",
       "</div>"
      ],
      "text/plain": [
       "predicted_res_rf     0      1  Total\n",
       "res_y                               \n",
       "0                 8413  13007  21420\n",
       "1                  211    869   1080\n",
       "Total             8624  13876  22500"
      ]
     },
     "execution_count": 25,
     "metadata": {},
     "output_type": "execute_result"
    }
   ],
   "source": [
    "roc_rf, profit_rf, cm_rf = performance_profit(X_test, y_test, rf, 'rf', breakeven)\n",
    "cm_rf"
   ]
  },
  {
   "cell_type": "markdown",
   "id": "sudden-prevention",
   "metadata": {},
   "source": [
    "### Grid Search RF"
   ]
  },
  {
   "cell_type": "code",
   "execution_count": 26,
   "id": "transparent-vancouver",
   "metadata": {},
   "outputs": [
    {
     "data": {
      "text/plain": [
       "{'bootstrap': True,\n",
       " 'ccp_alpha': 0.0,\n",
       " 'class_weight': None,\n",
       " 'criterion': 'gini',\n",
       " 'max_depth': None,\n",
       " 'max_features': 3,\n",
       " 'max_leaf_nodes': None,\n",
       " 'max_samples': None,\n",
       " 'min_impurity_decrease': 0.0,\n",
       " 'min_impurity_split': None,\n",
       " 'min_samples_leaf': 0.12,\n",
       " 'min_samples_split': 2,\n",
       " 'min_weight_fraction_leaf': 0.0,\n",
       " 'n_estimators': 400,\n",
       " 'n_jobs': None,\n",
       " 'oob_score': True,\n",
       " 'random_state': 1234,\n",
       " 'verbose': 0,\n",
       " 'warm_start': False}"
      ]
     },
     "execution_count": 26,
     "metadata": {},
     "output_type": "execute_result"
    }
   ],
   "source": [
    "from sklearn.model_selection import GridSearchCV, RandomizedSearchCV\n",
    "rf.get_params()"
   ]
  },
  {
   "cell_type": "code",
   "execution_count": 35,
   "id": "designed-label",
   "metadata": {},
   "outputs": [],
   "source": [
    "params_rf = {'criterion': ['gini', 'entropy'],\n",
    "     'bootstrap': [True, False],\n",
    "     'max_depth': [10, 20, 30, 40],\n",
    "     'max_features': ['sqrt'],\n",
    "     'min_samples_leaf': [1, 2, 4],\n",
    "     'min_samples_split': [2, 5, 10],\n",
    "     'n_estimators': [200, 400, 600, 800],\n",
    "            'class_weight': ['balanced', 'balanced_subsample']}"
   ]
  },
  {
   "cell_type": "code",
   "execution_count": 36,
   "id": "dried-grenada",
   "metadata": {},
   "outputs": [],
   "source": [
    "grid_rf = GridSearchCV(estimator=rf,\n",
    "                       param_grid=params_rf,\n",
    "                       scoring=profit_score,\n",
    "                       cv=5,\n",
    "                       n_jobs=8,\n",
    "                      verbose = 5,\n",
    "                      refit = 'AUC')"
   ]
  },
  {
   "cell_type": "code",
   "execution_count": null,
   "id": "weekly-relay",
   "metadata": {},
   "outputs": [
    {
     "name": "stdout",
     "output_type": "stream",
     "text": [
      "Fitting 5 folds for each of 1152 candidates, totalling 5760 fits\n"
     ]
    },
    {
     "name": "stderr",
     "output_type": "stream",
     "text": [
      "/usr/local/lib/python3.8/dist-packages/joblib/externals/loky/process_executor.py:688: UserWarning: A worker stopped while some jobs were given to the executor. This can be caused by a too short worker timeout or by a memory leak.\n",
      "  warnings.warn(\n"
     ]
    }
   ],
   "source": [
    "%%time\n",
    "grid_rf.fit(X_train, y_train)"
   ]
  },
  {
   "cell_type": "code",
   "execution_count": 52,
   "id": "proved-conditioning",
   "metadata": {},
   "outputs": [
    {
     "name": "stdout",
     "output_type": "stream",
     "text": [
      "Fitting 5 folds for each of 10 candidates, totalling 50 fits\n"
     ]
    },
    {
     "name": "stderr",
     "output_type": "stream",
     "text": [
      "/usr/local/lib/python3.8/dist-packages/joblib/externals/loky/process_executor.py:688: UserWarning: A worker stopped while some jobs were given to the executor. This can be caused by a too short worker timeout or by a memory leak.\n",
      "  warnings.warn(\n",
      "/usr/local/lib/python3.8/dist-packages/sklearn/model_selection/_search.py:918: UserWarning: One or more of the test scores are non-finite: [16082.478       nan       nan 15957.48  15811.716 15781.47        nan\n",
      "       nan 15905.376 15447.   ]\n",
      "  warnings.warn(\n"
     ]
    },
    {
     "data": {
      "text/plain": [
       "RandomizedSearchCV(cv=5,\n",
       "                   estimator=RandomForestClassifier(max_features=3,\n",
       "                                                    min_samples_leaf=0.12,\n",
       "                                                    n_estimators=400,\n",
       "                                                    oob_score=True,\n",
       "                                                    random_state=123),\n",
       "                   n_jobs=8,\n",
       "                   param_distributions={'bootstrap': [True, False],\n",
       "                                        'class_weight': ['balanced',\n",
       "                                                         'balanced_subsample'],\n",
       "                                        'criterion': ['gini', 'entropy'],\n",
       "                                        'max_depth': [10, 20, 30, 40, 50, 60,\n",
       "                                                      70, 80, 90, 100, None],\n",
       "                                        'max_features': ['auto', 'sqrt'],\n",
       "                                        'min_samples_leaf': [1, 2, 4],\n",
       "                                        'min_samples_split': [2, 5, 10],\n",
       "                                        'n_estimators': [200, 400, 600, 800,\n",
       "                                                         1000, 1200, 1400, 1600,\n",
       "                                                         1800, 2000]},\n",
       "                   scoring=make_scorer(profit_scoring, needs_proba=True),\n",
       "                   verbose=5)"
      ]
     },
     "execution_count": 52,
     "metadata": {},
     "output_type": "execute_result"
    }
   ],
   "source": [
    "randomized_rf = RandomizedSearchCV(estimator=rf,\n",
    "                       param_distributions=params_rf,\n",
    "                       scoring=profit_score,\n",
    "                       cv=5,\n",
    "                       n_jobs=8,\n",
    "                      verbose = 5\n",
    "                      )\n",
    "#     scoring=\"roc_auc\",verbose=1, estimator=clf, param_distributions=gbm_param_grid, n_jobs=6)\n",
    "randomized_rf.fit(X_train, y_train)\n"
   ]
  },
  {
   "cell_type": "code",
   "execution_count": 53,
   "id": "motivated-manhattan",
   "metadata": {},
   "outputs": [
    {
     "name": "stdout",
     "output_type": "stream",
     "text": [
      "Best hyerparameters:\n",
      " {'n_estimators': 200, 'min_samples_split': 5, 'min_samples_leaf': 4, 'max_features': 'sqrt', 'max_depth': 50, 'criterion': 'gini', 'class_weight': 'balanced', 'bootstrap': True}\n"
     ]
    }
   ],
   "source": [
    "best_hyperparams = randomized_rf.best_params_\n",
    "print('Best hyerparameters:\\n', best_hyperparams)"
   ]
  },
  {
   "cell_type": "code",
   "execution_count": 54,
   "id": "nearby-memorabilia",
   "metadata": {},
   "outputs": [],
   "source": [
    "best_model_rf = randomized_rf.best_estimator_"
   ]
  },
  {
   "cell_type": "code",
   "execution_count": null,
   "id": "excessive-testimony",
   "metadata": {},
   "outputs": [],
   "source": [
    "roc_rfbest, profit_rfbest, cm_rfbest = performance_profit(X_test, y_test, best_model_rf , 'rfbest', breakeven)\n",
    "cm_rfbest"
   ]
  },
  {
   "cell_type": "markdown",
   "id": "bibliographic-stamp",
   "metadata": {},
   "source": [
    "<br>"
   ]
  },
  {
   "cell_type": "markdown",
   "id": "competent-channel",
   "metadata": {},
   "source": [
    "### ADABoost Classifier"
   ]
  },
  {
   "cell_type": "code",
   "execution_count": 35,
   "id": "dutch-holiday",
   "metadata": {},
   "outputs": [
    {
     "name": "stdout",
     "output_type": "stream",
     "text": [
      "ROC AUC score: 0.69\n"
     ]
    }
   ],
   "source": [
    "from sklearn.ensemble import AdaBoostClassifier\n",
    "from sklearn.tree import DecisionTreeClassifier\n",
    "from sklearn.metrics import roc_auc_score\n",
    "from sklearn.model_selection import train_test_split\n",
    "SEED = 1234\n",
    "\n",
    "X_train, X_test, y_train, y_test= train_test_split(X, y,\n",
    "                                                   stratify=y,  random_state=SEED, test_size = 0.3)\n",
    "\n",
    "adb_clf = AdaBoostClassifier(base_estimator=dt, n_estimators=100)\n",
    "adb_clf.fit(X_train, y_train)\n",
    "\n",
    "y_pred_proba = adb_clf.predict_proba(X_test)[:,1]\n",
    "\n",
    "adb_clf_roc_auc_score = roc_auc_score(y_test, y_pred_proba)\n",
    "\n",
    "print('ROC AUC score: {:.2f}'.format(adb_clf_roc_auc_score))"
   ]
  },
  {
   "cell_type": "code",
   "execution_count": 36,
   "id": "consistent-custom",
   "metadata": {},
   "outputs": [
    {
     "name": "stdout",
     "output_type": "stream",
     "text": [
      "ROC AUC is 0.6933122384756372\n",
      "Profit is 675.0\n"
     ]
    },
    {
     "data": {
      "text/html": [
       "<div>\n",
       "<style scoped>\n",
       "    .dataframe tbody tr th:only-of-type {\n",
       "        vertical-align: middle;\n",
       "    }\n",
       "\n",
       "    .dataframe tbody tr th {\n",
       "        vertical-align: top;\n",
       "    }\n",
       "\n",
       "    .dataframe thead th {\n",
       "        text-align: right;\n",
       "    }\n",
       "</style>\n",
       "<table border=\"1\" class=\"dataframe\">\n",
       "  <thead>\n",
       "    <tr style=\"text-align: right;\">\n",
       "      <th>predicted_res_adb</th>\n",
       "      <th>1</th>\n",
       "      <th>Total</th>\n",
       "    </tr>\n",
       "    <tr>\n",
       "      <th>res_y</th>\n",
       "      <th></th>\n",
       "      <th></th>\n",
       "    </tr>\n",
       "  </thead>\n",
       "  <tbody>\n",
       "    <tr>\n",
       "      <th>0</th>\n",
       "      <td>21420</td>\n",
       "      <td>21420</td>\n",
       "    </tr>\n",
       "    <tr>\n",
       "      <th>1</th>\n",
       "      <td>1080</td>\n",
       "      <td>1080</td>\n",
       "    </tr>\n",
       "    <tr>\n",
       "      <th>Total</th>\n",
       "      <td>22500</td>\n",
       "      <td>22500</td>\n",
       "    </tr>\n",
       "  </tbody>\n",
       "</table>\n",
       "</div>"
      ],
      "text/plain": [
       "predicted_res_adb      1  Total\n",
       "res_y                          \n",
       "0                  21420  21420\n",
       "1                   1080   1080\n",
       "Total              22500  22500"
      ]
     },
     "execution_count": 36,
     "metadata": {},
     "output_type": "execute_result"
    }
   ],
   "source": [
    "roc_adb, profit_adb, cm_adb= performance_profit(X_test, y_test, adb_clf, 'adb', breakeven)\n",
    "cm_adb"
   ]
  },
  {
   "cell_type": "code",
   "execution_count": 37,
   "id": "flying-saturn",
   "metadata": {},
   "outputs": [
    {
     "data": {
      "text/plain": [
       "{'algorithm': 'SAMME.R',\n",
       " 'base_estimator__ccp_alpha': 0.0,\n",
       " 'base_estimator__class_weight': None,\n",
       " 'base_estimator__criterion': 'gini',\n",
       " 'base_estimator__max_depth': 4,\n",
       " 'base_estimator__max_features': None,\n",
       " 'base_estimator__max_leaf_nodes': None,\n",
       " 'base_estimator__min_impurity_decrease': 0.0,\n",
       " 'base_estimator__min_impurity_split': None,\n",
       " 'base_estimator__min_samples_leaf': 0.14,\n",
       " 'base_estimator__min_samples_split': 2,\n",
       " 'base_estimator__min_weight_fraction_leaf': 0.0,\n",
       " 'base_estimator__random_state': 168,\n",
       " 'base_estimator__splitter': 'best',\n",
       " 'base_estimator': DecisionTreeClassifier(max_depth=4, min_samples_leaf=0.14, random_state=168),\n",
       " 'learning_rate': 1.0,\n",
       " 'n_estimators': 100,\n",
       " 'random_state': None}"
      ]
     },
     "execution_count": 37,
     "metadata": {},
     "output_type": "execute_result"
    }
   ],
   "source": [
    "from sklearn.model_selection import GridSearchCV\n",
    "adb_clf.get_params()"
   ]
  },
  {
   "cell_type": "code",
   "execution_count": 27,
   "id": "suspected-lending",
   "metadata": {},
   "outputs": [],
   "source": [
    " params_adb = {\n",
    " 'n_estimators': [50, 100, 200, 300],\n",
    " 'learning_rate' : [0.01,0.05,0.1,0.3,1],\n",
    " 'loss' : ['linear', 'square', 'exponential'],\n",
    " 'base_estimator__criterion' : ['gini', 'entropy'],\n",
    " 'base_estimator__splitter' :   ['best', 'random'],   \n",
    " 'base_estimator__max_depth' : [None, 1, 3, 5, 10],\n",
    " 'base_estimator__min_samples_split' : [5,10],\n",
    " 'base_estimator__min_samples_leaf' : [1, 5 ,10]\n",
    " }"
   ]
  },
  {
   "cell_type": "code",
   "execution_count": 100,
   "id": "arabic-words",
   "metadata": {},
   "outputs": [],
   "source": [
    "grid_adb = GridSearchCV(estimator=adb_clf,\n",
    "                       param_grid=params_adb,\n",
    "                       scoring=profit_score,\n",
    "                       cv=5,\n",
    "                       n_jobs=8,\n",
    "                      verbose = 5,\n",
    "                      refit = 'AUC')"
   ]
  },
  {
   "cell_type": "code",
   "execution_count": null,
   "id": "superior-worth",
   "metadata": {},
   "outputs": [],
   "source": [
    "grid_adb.fit(X_train, y_train)"
   ]
  },
  {
   "cell_type": "code",
   "execution_count": null,
   "id": "statistical-handle",
   "metadata": {},
   "outputs": [],
   "source": [
    "best_hyperparams = grid_adb.best_params_\n",
    "print('Best hyerparameters:\\n', best_hyperparams)"
   ]
  },
  {
   "cell_type": "code",
   "execution_count": null,
   "id": "urban-multiple",
   "metadata": {},
   "outputs": [],
   "source": [
    "best_model = grid_adb.best_estimator_"
   ]
  },
  {
   "cell_type": "code",
   "execution_count": null,
   "id": "dominican-marketing",
   "metadata": {},
   "outputs": [],
   "source": [
    "roc_adb_best, profit_adb_best, cm_adb_best = performance_profit(X_test, y_test, best_model , 'adbbest', breakeven)\n",
    "cm_adb_best"
   ]
  },
  {
   "cell_type": "markdown",
   "id": "dominant-inquiry",
   "metadata": {},
   "source": [
    "### Stochastic Gradient Boosting (SGB)"
   ]
  },
  {
   "cell_type": "code",
   "execution_count": 38,
   "id": "individual-maldives",
   "metadata": {},
   "outputs": [
    {
     "name": "stdout",
     "output_type": "stream",
     "text": [
      "Test set RMSE: 0.21\n"
     ]
    }
   ],
   "source": [
    "from sklearn.ensemble import GradientBoostingClassifier\n",
    "from sklearn.model_selection import train_test_split\n",
    "from sklearn.metrics import mean_squared_error as MSE\n",
    "\n",
    "X_train, X_test, y_train, y_test= train_test_split(X, y,\n",
    "                                                   stratify=y,  random_state=SEED, test_size = 0.3)\n",
    "\n",
    "sgbt = GradientBoostingClassifier(max_depth=1,\n",
    "                                 subsample = 0.8,\n",
    "                                 max_features = 0.2,\n",
    "                                 n_estimators = 300,\n",
    "                                 random_state = SEED)\n",
    "\n",
    "sgbt.fit(X_train, y_train)\n",
    "y_pred = sgbt.predict(X_test)\n",
    "rmse_test = MSE(y_test, y_pred)**(1/2)\n",
    "print('Test set RMSE: {:.2f}'.format(rmse_test))"
   ]
  },
  {
   "cell_type": "code",
   "execution_count": 39,
   "id": "designing-spice",
   "metadata": {},
   "outputs": [
    {
     "name": "stdout",
     "output_type": "stream",
     "text": [
      "ROC AUC is 0.7614277068852233\n",
      "Profit is 12153.9\n"
     ]
    },
    {
     "data": {
      "text/html": [
       "<div>\n",
       "<style scoped>\n",
       "    .dataframe tbody tr th:only-of-type {\n",
       "        vertical-align: middle;\n",
       "    }\n",
       "\n",
       "    .dataframe tbody tr th {\n",
       "        vertical-align: top;\n",
       "    }\n",
       "\n",
       "    .dataframe thead th {\n",
       "        text-align: right;\n",
       "    }\n",
       "</style>\n",
       "<table border=\"1\" class=\"dataframe\">\n",
       "  <thead>\n",
       "    <tr style=\"text-align: right;\">\n",
       "      <th>predicted_res_sgbt</th>\n",
       "      <th>0</th>\n",
       "      <th>1</th>\n",
       "      <th>Total</th>\n",
       "    </tr>\n",
       "    <tr>\n",
       "      <th>res_y</th>\n",
       "      <th></th>\n",
       "      <th></th>\n",
       "      <th></th>\n",
       "    </tr>\n",
       "  </thead>\n",
       "  <tbody>\n",
       "    <tr>\n",
       "      <th>0</th>\n",
       "      <td>15907</td>\n",
       "      <td>5513</td>\n",
       "      <td>21420</td>\n",
       "    </tr>\n",
       "    <tr>\n",
       "      <th>1</th>\n",
       "      <td>383</td>\n",
       "      <td>697</td>\n",
       "      <td>1080</td>\n",
       "    </tr>\n",
       "    <tr>\n",
       "      <th>Total</th>\n",
       "      <td>16290</td>\n",
       "      <td>6210</td>\n",
       "      <td>22500</td>\n",
       "    </tr>\n",
       "  </tbody>\n",
       "</table>\n",
       "</div>"
      ],
      "text/plain": [
       "predicted_res_sgbt      0     1  Total\n",
       "res_y                                 \n",
       "0                   15907  5513  21420\n",
       "1                     383   697   1080\n",
       "Total               16290  6210  22500"
      ]
     },
     "execution_count": 39,
     "metadata": {},
     "output_type": "execute_result"
    }
   ],
   "source": [
    "roc_sgbt, profit_sgbt, cm_sgbt= performance_profit(X_test, y_test, sgbt, 'sgbt', breakeven)\n",
    "cm_sgbt"
   ]
  },
  {
   "cell_type": "code",
   "execution_count": 40,
   "id": "compressed-wisconsin",
   "metadata": {},
   "outputs": [
    {
     "data": {
      "text/plain": [
       "{'ccp_alpha': 0.0,\n",
       " 'criterion': 'friedman_mse',\n",
       " 'init': None,\n",
       " 'learning_rate': 0.1,\n",
       " 'loss': 'deviance',\n",
       " 'max_depth': 1,\n",
       " 'max_features': 0.2,\n",
       " 'max_leaf_nodes': None,\n",
       " 'min_impurity_decrease': 0.0,\n",
       " 'min_impurity_split': None,\n",
       " 'min_samples_leaf': 1,\n",
       " 'min_samples_split': 2,\n",
       " 'min_weight_fraction_leaf': 0.0,\n",
       " 'n_estimators': 300,\n",
       " 'n_iter_no_change': None,\n",
       " 'random_state': 1234,\n",
       " 'subsample': 0.8,\n",
       " 'tol': 0.0001,\n",
       " 'validation_fraction': 0.1,\n",
       " 'verbose': 0,\n",
       " 'warm_start': False}"
      ]
     },
     "execution_count": 40,
     "metadata": {},
     "output_type": "execute_result"
    }
   ],
   "source": [
    "from sklearn.model_selection import GridSearchCV\n",
    "sgbt.get_params()"
   ]
  },
  {
   "cell_type": "code",
   "execution_count": 41,
   "id": "parliamentary-advancement",
   "metadata": {},
   "outputs": [],
   "source": [
    "params_sgbt = {\n",
    "    \"loss\":[\"deviance\"],\n",
    "    \"learning_rate\": [0.01, 0.025, 0.05, 0.075, 0.1, 0.15, 0.2],\n",
    "    \"min_samples_split\": np.linspace(0.1, 0.5, 12),\n",
    "    \"min_samples_leaf\": np.linspace(0.1, 0.5, 12),\n",
    "    \"max_depth\":[3,5,8],\n",
    "    \"max_features\":[\"log2\",\"sqrt\"],\n",
    "    \"criterion\": [\"friedman_mse\",  \"mae\"],\n",
    "    \"subsample\":[0.5, 0.618, 0.8, 0.85, 0.9, 0.95, 1.0],\n",
    "    \"n_estimators\":[10]\n",
    "    }"
   ]
  },
  {
   "cell_type": "code",
   "execution_count": 27,
   "id": "marine-circulation",
   "metadata": {},
   "outputs": [],
   "source": [
    "grid_sgbt = GridSearchCV(estimator=sgbt,\n",
    "                       param_grid=params_sgbt,\n",
    "                       scoring=profit_score,\n",
    "                       cv=5,\n",
    "                       n_jobs=8,\n",
    "                      verbose = 5,\n",
    "                      refit = 'AUC')"
   ]
  },
  {
   "cell_type": "code",
   "execution_count": 28,
   "id": "medium-schema",
   "metadata": {},
   "outputs": [
    {
     "name": "stdout",
     "output_type": "stream",
     "text": [
      "Fitting 5 folds for each of 84672 candidates, totalling 423360 fits\n"
     ]
    },
    {
     "ename": "KeyboardInterrupt",
     "evalue": "",
     "output_type": "error",
     "traceback": [
      "\u001b[0;31m---------------------------------------------------------------------------\u001b[0m",
      "\u001b[0;31mKeyboardInterrupt\u001b[0m                         Traceback (most recent call last)",
      "\u001b[0;32m<ipython-input-28-b7d136e30695>\u001b[0m in \u001b[0;36m<module>\u001b[0;34m\u001b[0m\n\u001b[0;32m----> 1\u001b[0;31m \u001b[0mgrid_sgbt\u001b[0m\u001b[0;34m.\u001b[0m\u001b[0mfit\u001b[0m\u001b[0;34m(\u001b[0m\u001b[0mX_train\u001b[0m\u001b[0;34m,\u001b[0m \u001b[0my_train\u001b[0m\u001b[0;34m)\u001b[0m\u001b[0;34m\u001b[0m\u001b[0;34m\u001b[0m\u001b[0m\n\u001b[0m",
      "\u001b[0;32m/usr/local/lib/python3.8/dist-packages/sklearn/utils/validation.py\u001b[0m in \u001b[0;36minner_f\u001b[0;34m(*args, **kwargs)\u001b[0m\n\u001b[1;32m     61\u001b[0m             \u001b[0mextra_args\u001b[0m \u001b[0;34m=\u001b[0m \u001b[0mlen\u001b[0m\u001b[0;34m(\u001b[0m\u001b[0margs\u001b[0m\u001b[0;34m)\u001b[0m \u001b[0;34m-\u001b[0m \u001b[0mlen\u001b[0m\u001b[0;34m(\u001b[0m\u001b[0mall_args\u001b[0m\u001b[0;34m)\u001b[0m\u001b[0;34m\u001b[0m\u001b[0;34m\u001b[0m\u001b[0m\n\u001b[1;32m     62\u001b[0m             \u001b[0;32mif\u001b[0m \u001b[0mextra_args\u001b[0m \u001b[0;34m<=\u001b[0m \u001b[0;36m0\u001b[0m\u001b[0;34m:\u001b[0m\u001b[0;34m\u001b[0m\u001b[0;34m\u001b[0m\u001b[0m\n\u001b[0;32m---> 63\u001b[0;31m                 \u001b[0;32mreturn\u001b[0m \u001b[0mf\u001b[0m\u001b[0;34m(\u001b[0m\u001b[0;34m*\u001b[0m\u001b[0margs\u001b[0m\u001b[0;34m,\u001b[0m \u001b[0;34m**\u001b[0m\u001b[0mkwargs\u001b[0m\u001b[0;34m)\u001b[0m\u001b[0;34m\u001b[0m\u001b[0;34m\u001b[0m\u001b[0m\n\u001b[0m\u001b[1;32m     64\u001b[0m \u001b[0;34m\u001b[0m\u001b[0m\n\u001b[1;32m     65\u001b[0m             \u001b[0;31m# extra_args > 0\u001b[0m\u001b[0;34m\u001b[0m\u001b[0;34m\u001b[0m\u001b[0;34m\u001b[0m\u001b[0m\n",
      "\u001b[0;32m/usr/local/lib/python3.8/dist-packages/sklearn/model_selection/_search.py\u001b[0m in \u001b[0;36mfit\u001b[0;34m(self, X, y, groups, **fit_params)\u001b[0m\n\u001b[1;32m    839\u001b[0m                 \u001b[0;32mreturn\u001b[0m \u001b[0mresults\u001b[0m\u001b[0;34m\u001b[0m\u001b[0;34m\u001b[0m\u001b[0m\n\u001b[1;32m    840\u001b[0m \u001b[0;34m\u001b[0m\u001b[0m\n\u001b[0;32m--> 841\u001b[0;31m             \u001b[0mself\u001b[0m\u001b[0;34m.\u001b[0m\u001b[0m_run_search\u001b[0m\u001b[0;34m(\u001b[0m\u001b[0mevaluate_candidates\u001b[0m\u001b[0;34m)\u001b[0m\u001b[0;34m\u001b[0m\u001b[0;34m\u001b[0m\u001b[0m\n\u001b[0m\u001b[1;32m    842\u001b[0m \u001b[0;34m\u001b[0m\u001b[0m\n\u001b[1;32m    843\u001b[0m             \u001b[0;31m# multimetric is determined here because in the case of a callable\u001b[0m\u001b[0;34m\u001b[0m\u001b[0;34m\u001b[0m\u001b[0;34m\u001b[0m\u001b[0m\n",
      "\u001b[0;32m/usr/local/lib/python3.8/dist-packages/sklearn/model_selection/_search.py\u001b[0m in \u001b[0;36m_run_search\u001b[0;34m(self, evaluate_candidates)\u001b[0m\n\u001b[1;32m   1286\u001b[0m     \u001b[0;32mdef\u001b[0m \u001b[0m_run_search\u001b[0m\u001b[0;34m(\u001b[0m\u001b[0mself\u001b[0m\u001b[0;34m,\u001b[0m \u001b[0mevaluate_candidates\u001b[0m\u001b[0;34m)\u001b[0m\u001b[0;34m:\u001b[0m\u001b[0;34m\u001b[0m\u001b[0;34m\u001b[0m\u001b[0m\n\u001b[1;32m   1287\u001b[0m         \u001b[0;34m\"\"\"Search all candidates in param_grid\"\"\"\u001b[0m\u001b[0;34m\u001b[0m\u001b[0;34m\u001b[0m\u001b[0m\n\u001b[0;32m-> 1288\u001b[0;31m         \u001b[0mevaluate_candidates\u001b[0m\u001b[0;34m(\u001b[0m\u001b[0mParameterGrid\u001b[0m\u001b[0;34m(\u001b[0m\u001b[0mself\u001b[0m\u001b[0;34m.\u001b[0m\u001b[0mparam_grid\u001b[0m\u001b[0;34m)\u001b[0m\u001b[0;34m)\u001b[0m\u001b[0;34m\u001b[0m\u001b[0;34m\u001b[0m\u001b[0m\n\u001b[0m\u001b[1;32m   1289\u001b[0m \u001b[0;34m\u001b[0m\u001b[0m\n\u001b[1;32m   1290\u001b[0m \u001b[0;34m\u001b[0m\u001b[0m\n",
      "\u001b[0;32m/usr/local/lib/python3.8/dist-packages/sklearn/model_selection/_search.py\u001b[0m in \u001b[0;36mevaluate_candidates\u001b[0;34m(candidate_params, cv, more_results)\u001b[0m\n\u001b[1;32m    793\u001b[0m                               n_splits, n_candidates, n_candidates * n_splits))\n\u001b[1;32m    794\u001b[0m \u001b[0;34m\u001b[0m\u001b[0m\n\u001b[0;32m--> 795\u001b[0;31m                 out = parallel(delayed(_fit_and_score)(clone(base_estimator),\n\u001b[0m\u001b[1;32m    796\u001b[0m                                                        \u001b[0mX\u001b[0m\u001b[0;34m,\u001b[0m \u001b[0my\u001b[0m\u001b[0;34m,\u001b[0m\u001b[0;34m\u001b[0m\u001b[0;34m\u001b[0m\u001b[0m\n\u001b[1;32m    797\u001b[0m                                                        \u001b[0mtrain\u001b[0m\u001b[0;34m=\u001b[0m\u001b[0mtrain\u001b[0m\u001b[0;34m,\u001b[0m \u001b[0mtest\u001b[0m\u001b[0;34m=\u001b[0m\u001b[0mtest\u001b[0m\u001b[0;34m,\u001b[0m\u001b[0;34m\u001b[0m\u001b[0;34m\u001b[0m\u001b[0m\n",
      "\u001b[0;32m/usr/local/lib/python3.8/dist-packages/joblib/parallel.py\u001b[0m in \u001b[0;36m__call__\u001b[0;34m(self, iterable)\u001b[0m\n\u001b[1;32m   1052\u001b[0m \u001b[0;34m\u001b[0m\u001b[0m\n\u001b[1;32m   1053\u001b[0m             \u001b[0;32mwith\u001b[0m \u001b[0mself\u001b[0m\u001b[0;34m.\u001b[0m\u001b[0m_backend\u001b[0m\u001b[0;34m.\u001b[0m\u001b[0mretrieval_context\u001b[0m\u001b[0;34m(\u001b[0m\u001b[0;34m)\u001b[0m\u001b[0;34m:\u001b[0m\u001b[0;34m\u001b[0m\u001b[0;34m\u001b[0m\u001b[0m\n\u001b[0;32m-> 1054\u001b[0;31m                 \u001b[0mself\u001b[0m\u001b[0;34m.\u001b[0m\u001b[0mretrieve\u001b[0m\u001b[0;34m(\u001b[0m\u001b[0;34m)\u001b[0m\u001b[0;34m\u001b[0m\u001b[0;34m\u001b[0m\u001b[0m\n\u001b[0m\u001b[1;32m   1055\u001b[0m             \u001b[0;31m# Make sure that we get a last message telling us we are done\u001b[0m\u001b[0;34m\u001b[0m\u001b[0;34m\u001b[0m\u001b[0;34m\u001b[0m\u001b[0m\n\u001b[1;32m   1056\u001b[0m             \u001b[0melapsed_time\u001b[0m \u001b[0;34m=\u001b[0m \u001b[0mtime\u001b[0m\u001b[0;34m.\u001b[0m\u001b[0mtime\u001b[0m\u001b[0;34m(\u001b[0m\u001b[0;34m)\u001b[0m \u001b[0;34m-\u001b[0m \u001b[0mself\u001b[0m\u001b[0;34m.\u001b[0m\u001b[0m_start_time\u001b[0m\u001b[0;34m\u001b[0m\u001b[0;34m\u001b[0m\u001b[0m\n",
      "\u001b[0;32m/usr/local/lib/python3.8/dist-packages/joblib/parallel.py\u001b[0m in \u001b[0;36mretrieve\u001b[0;34m(self)\u001b[0m\n\u001b[1;32m    931\u001b[0m             \u001b[0;32mtry\u001b[0m\u001b[0;34m:\u001b[0m\u001b[0;34m\u001b[0m\u001b[0;34m\u001b[0m\u001b[0m\n\u001b[1;32m    932\u001b[0m                 \u001b[0;32mif\u001b[0m \u001b[0mgetattr\u001b[0m\u001b[0;34m(\u001b[0m\u001b[0mself\u001b[0m\u001b[0;34m.\u001b[0m\u001b[0m_backend\u001b[0m\u001b[0;34m,\u001b[0m \u001b[0;34m'supports_timeout'\u001b[0m\u001b[0;34m,\u001b[0m \u001b[0;32mFalse\u001b[0m\u001b[0;34m)\u001b[0m\u001b[0;34m:\u001b[0m\u001b[0;34m\u001b[0m\u001b[0;34m\u001b[0m\u001b[0m\n\u001b[0;32m--> 933\u001b[0;31m                     \u001b[0mself\u001b[0m\u001b[0;34m.\u001b[0m\u001b[0m_output\u001b[0m\u001b[0;34m.\u001b[0m\u001b[0mextend\u001b[0m\u001b[0;34m(\u001b[0m\u001b[0mjob\u001b[0m\u001b[0;34m.\u001b[0m\u001b[0mget\u001b[0m\u001b[0;34m(\u001b[0m\u001b[0mtimeout\u001b[0m\u001b[0;34m=\u001b[0m\u001b[0mself\u001b[0m\u001b[0;34m.\u001b[0m\u001b[0mtimeout\u001b[0m\u001b[0;34m)\u001b[0m\u001b[0;34m)\u001b[0m\u001b[0;34m\u001b[0m\u001b[0;34m\u001b[0m\u001b[0m\n\u001b[0m\u001b[1;32m    934\u001b[0m                 \u001b[0;32melse\u001b[0m\u001b[0;34m:\u001b[0m\u001b[0;34m\u001b[0m\u001b[0;34m\u001b[0m\u001b[0m\n\u001b[1;32m    935\u001b[0m                     \u001b[0mself\u001b[0m\u001b[0;34m.\u001b[0m\u001b[0m_output\u001b[0m\u001b[0;34m.\u001b[0m\u001b[0mextend\u001b[0m\u001b[0;34m(\u001b[0m\u001b[0mjob\u001b[0m\u001b[0;34m.\u001b[0m\u001b[0mget\u001b[0m\u001b[0;34m(\u001b[0m\u001b[0;34m)\u001b[0m\u001b[0;34m)\u001b[0m\u001b[0;34m\u001b[0m\u001b[0;34m\u001b[0m\u001b[0m\n",
      "\u001b[0;32m/usr/local/lib/python3.8/dist-packages/joblib/_parallel_backends.py\u001b[0m in \u001b[0;36mwrap_future_result\u001b[0;34m(future, timeout)\u001b[0m\n\u001b[1;32m    540\u001b[0m         AsyncResults.get from multiprocessing.\"\"\"\n\u001b[1;32m    541\u001b[0m         \u001b[0;32mtry\u001b[0m\u001b[0;34m:\u001b[0m\u001b[0;34m\u001b[0m\u001b[0;34m\u001b[0m\u001b[0m\n\u001b[0;32m--> 542\u001b[0;31m             \u001b[0;32mreturn\u001b[0m \u001b[0mfuture\u001b[0m\u001b[0;34m.\u001b[0m\u001b[0mresult\u001b[0m\u001b[0;34m(\u001b[0m\u001b[0mtimeout\u001b[0m\u001b[0;34m=\u001b[0m\u001b[0mtimeout\u001b[0m\u001b[0;34m)\u001b[0m\u001b[0;34m\u001b[0m\u001b[0;34m\u001b[0m\u001b[0m\n\u001b[0m\u001b[1;32m    543\u001b[0m         \u001b[0;32mexcept\u001b[0m \u001b[0mCfTimeoutError\u001b[0m \u001b[0;32mas\u001b[0m \u001b[0me\u001b[0m\u001b[0;34m:\u001b[0m\u001b[0;34m\u001b[0m\u001b[0;34m\u001b[0m\u001b[0m\n\u001b[1;32m    544\u001b[0m             \u001b[0;32mraise\u001b[0m \u001b[0mTimeoutError\u001b[0m \u001b[0;32mfrom\u001b[0m \u001b[0me\u001b[0m\u001b[0;34m\u001b[0m\u001b[0;34m\u001b[0m\u001b[0m\n",
      "\u001b[0;32m/usr/lib/python3.8/concurrent/futures/_base.py\u001b[0m in \u001b[0;36mresult\u001b[0;34m(self, timeout)\u001b[0m\n\u001b[1;32m    432\u001b[0m                 \u001b[0;32mreturn\u001b[0m \u001b[0mself\u001b[0m\u001b[0;34m.\u001b[0m\u001b[0m__get_result\u001b[0m\u001b[0;34m(\u001b[0m\u001b[0;34m)\u001b[0m\u001b[0;34m\u001b[0m\u001b[0;34m\u001b[0m\u001b[0m\n\u001b[1;32m    433\u001b[0m \u001b[0;34m\u001b[0m\u001b[0m\n\u001b[0;32m--> 434\u001b[0;31m             \u001b[0mself\u001b[0m\u001b[0;34m.\u001b[0m\u001b[0m_condition\u001b[0m\u001b[0;34m.\u001b[0m\u001b[0mwait\u001b[0m\u001b[0;34m(\u001b[0m\u001b[0mtimeout\u001b[0m\u001b[0;34m)\u001b[0m\u001b[0;34m\u001b[0m\u001b[0;34m\u001b[0m\u001b[0m\n\u001b[0m\u001b[1;32m    435\u001b[0m \u001b[0;34m\u001b[0m\u001b[0m\n\u001b[1;32m    436\u001b[0m             \u001b[0;32mif\u001b[0m \u001b[0mself\u001b[0m\u001b[0;34m.\u001b[0m\u001b[0m_state\u001b[0m \u001b[0;32min\u001b[0m \u001b[0;34m[\u001b[0m\u001b[0mCANCELLED\u001b[0m\u001b[0;34m,\u001b[0m \u001b[0mCANCELLED_AND_NOTIFIED\u001b[0m\u001b[0;34m]\u001b[0m\u001b[0;34m:\u001b[0m\u001b[0;34m\u001b[0m\u001b[0;34m\u001b[0m\u001b[0m\n",
      "\u001b[0;32m/usr/lib/python3.8/threading.py\u001b[0m in \u001b[0;36mwait\u001b[0;34m(self, timeout)\u001b[0m\n\u001b[1;32m    300\u001b[0m         \u001b[0;32mtry\u001b[0m\u001b[0;34m:\u001b[0m    \u001b[0;31m# restore state no matter what (e.g., KeyboardInterrupt)\u001b[0m\u001b[0;34m\u001b[0m\u001b[0;34m\u001b[0m\u001b[0m\n\u001b[1;32m    301\u001b[0m             \u001b[0;32mif\u001b[0m \u001b[0mtimeout\u001b[0m \u001b[0;32mis\u001b[0m \u001b[0;32mNone\u001b[0m\u001b[0;34m:\u001b[0m\u001b[0;34m\u001b[0m\u001b[0;34m\u001b[0m\u001b[0m\n\u001b[0;32m--> 302\u001b[0;31m                 \u001b[0mwaiter\u001b[0m\u001b[0;34m.\u001b[0m\u001b[0macquire\u001b[0m\u001b[0;34m(\u001b[0m\u001b[0;34m)\u001b[0m\u001b[0;34m\u001b[0m\u001b[0;34m\u001b[0m\u001b[0m\n\u001b[0m\u001b[1;32m    303\u001b[0m                 \u001b[0mgotit\u001b[0m \u001b[0;34m=\u001b[0m \u001b[0;32mTrue\u001b[0m\u001b[0;34m\u001b[0m\u001b[0;34m\u001b[0m\u001b[0m\n\u001b[1;32m    304\u001b[0m             \u001b[0;32melse\u001b[0m\u001b[0;34m:\u001b[0m\u001b[0;34m\u001b[0m\u001b[0;34m\u001b[0m\u001b[0m\n",
      "\u001b[0;31mKeyboardInterrupt\u001b[0m: "
     ]
    }
   ],
   "source": [
    "grid_sgbt.fit(X_train, y_train)"
   ]
  },
  {
   "cell_type": "code",
   "execution_count": null,
   "id": "mexican-platform",
   "metadata": {},
   "outputs": [],
   "source": [
    "best_hyperparams = grid_sgbt.best_params_\n",
    "print('Best hyerparameters:\\n', best_hyperparams)"
   ]
  },
  {
   "cell_type": "code",
   "execution_count": null,
   "id": "centered-paintball",
   "metadata": {},
   "outputs": [],
   "source": [
    "best_model = grid_sgbt.best_estimator_"
   ]
  },
  {
   "cell_type": "code",
   "execution_count": null,
   "id": "robust-walnut",
   "metadata": {},
   "outputs": [],
   "source": [
    "roc_sgbt_best, profit_sgbt_best, cm_sgbt_best = performance_profit(X_test, y_test, best_model , 'sgbtbest', breakeven)\n",
    "cm_sgbt_best"
   ]
  },
  {
   "cell_type": "code",
   "execution_count": null,
   "id": "acting-utilization",
   "metadata": {},
   "outputs": [],
   "source": []
  },
  {
   "cell_type": "code",
   "execution_count": null,
   "id": "acoustic-producer",
   "metadata": {},
   "outputs": [],
   "source": [
    "# clf = xgb.XGBClassifier(objective='binary:logistic',seed=123)\n",
    "# gbm_param_grid = {\n",
    "#     'xgb_clf__learning_rate': np.arange(0.05, 0.4, 0.05),\n",
    "#     'xgb_clf__max_depth': np.arange(1, 6, 1),\n",
    "#     'xgb_clf__n_estimators': np.arange(1000, 2000, 100)\n",
    "# }\n",
    "# randomized_roc_auc = RandomizedSearchCV(scoring=\"roc_auc\",verbose=1, estimator=clf, param_distributions=gbm_param_grid, n_jobs=6)\n",
    "# randomized_roc_auc.fit(X_train,y_train.values.ravel())\n"
   ]
  },
  {
   "cell_type": "markdown",
   "id": "forbidden-comedy",
   "metadata": {},
   "source": [
    "<br>"
   ]
  }
 ],
 "metadata": {
  "kernelspec": {
   "display_name": "Python 3",
   "language": "python",
   "name": "python3"
  },
  "language_info": {
   "codemirror_mode": {
    "name": "ipython",
    "version": 3
   },
   "file_extension": ".py",
   "mimetype": "text/x-python",
   "name": "python",
   "nbconvert_exporter": "python",
   "pygments_lexer": "ipython3",
   "version": "3.8.5"
  }
 },
 "nbformat": 4,
 "nbformat_minor": 5
}
